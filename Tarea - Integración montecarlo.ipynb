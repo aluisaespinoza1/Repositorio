{
 "cells": [
  {
   "cell_type": "markdown",
   "metadata": {},
   "source": [
    "# TAREA"
   ]
  },
  {
   "cell_type": "markdown",
   "metadata": {},
   "source": [
    "## Integración Montecarlo"
   ]
  },
  {
   "cell_type": "markdown",
   "metadata": {},
   "source": [
    "1. Realizar las siguientes integrales. Poner los resultados en una tabla cuyas filas correspondan a la cantidad de términos utilizados en la aproximación (usar 10, 100, 1000, 10000 y 100000 términos) y cuyas columnas correspondan a las funciones.\n",
    "    + $\\int_{1}^{3} e^{x}\\log(x)\\text{d}x$.\n",
    "    + $\\int_1^3 \\sin(x)\\ln(x) \\text{d}x$"
   ]
  },
  {
   "cell_type": "code",
   "execution_count": 1,
   "metadata": {},
   "outputs": [],
   "source": [
    "import numpy as np\n",
    "import pandas as pd"
   ]
  },
  {
   "cell_type": "code",
   "execution_count": 13,
   "metadata": {},
   "outputs": [],
   "source": [
    "N=np.logspace(1,5,5)\n",
    "table= pd.DataFrame(columns=[\"aproximacion f1\",\"error f1\"], index=N)\n"
   ]
  },
  {
   "cell_type": "code",
   "execution_count": 5,
   "metadata": {},
   "outputs": [],
   "source": [
    "def montecarlo(f,N,a,b):\n",
    "    u = np.random.uniform(a,b,N)\n",
    "    return np.mean(f(u)*(b-a))"
   ]
  },
  {
   "cell_type": "code",
   "execution_count": 8,
   "metadata": {},
   "outputs": [],
   "source": [
    "def f(x):\n",
    "    return np.exp(x)*np.log10(x)"
   ]
  },
  {
   "cell_type": "code",
   "execution_count": 15,
   "metadata": {},
   "outputs": [],
   "source": [
    "for i in N:\n",
    "    aprox= montecarlo(f,int(i),1,3)\n",
    "    table.loc[i,\"aproximacion f1\"] = aprox\n",
    "    table.loc[i,\"error f1\"]= (6.09207)-aprox\n"
   ]
  },
  {
   "cell_type": "code",
   "execution_count": 10,
   "metadata": {},
   "outputs": [],
   "source": [
    "def g(x):\n",
    "    return np.sin(x)*np.log(x)"
   ]
  },
  {
   "cell_type": "code",
   "execution_count": 16,
   "metadata": {},
   "outputs": [],
   "source": [
    "for i in N:\n",
    "    aprox= montecarlo(g,int(i),1,3)\n",
    "    table.loc[i,\"aproximacion f2\"] = aprox\n",
    "    table.loc[i,\"error f2\"]= (0.869844)-aprox\n"
   ]
  },
  {
   "cell_type": "code",
   "execution_count": 17,
   "metadata": {},
   "outputs": [
    {
     "data": {
      "text/html": [
       "<div>\n",
       "<style scoped>\n",
       "    .dataframe tbody tr th:only-of-type {\n",
       "        vertical-align: middle;\n",
       "    }\n",
       "\n",
       "    .dataframe tbody tr th {\n",
       "        vertical-align: top;\n",
       "    }\n",
       "\n",
       "    .dataframe thead th {\n",
       "        text-align: right;\n",
       "    }\n",
       "</style>\n",
       "<table border=\"1\" class=\"dataframe\">\n",
       "  <thead>\n",
       "    <tr style=\"text-align: right;\">\n",
       "      <th></th>\n",
       "      <th>aproximacion f1</th>\n",
       "      <th>error f1</th>\n",
       "      <th>aproximacion f2</th>\n",
       "      <th>error f2</th>\n",
       "    </tr>\n",
       "  </thead>\n",
       "  <tbody>\n",
       "    <tr>\n",
       "      <th>10.0</th>\n",
       "      <td>6.71548</td>\n",
       "      <td>-0.62341</td>\n",
       "      <td>0.728575</td>\n",
       "      <td>0.141269</td>\n",
       "    </tr>\n",
       "    <tr>\n",
       "      <th>100.0</th>\n",
       "      <td>6.214844</td>\n",
       "      <td>-0.122774</td>\n",
       "      <td>0.890294</td>\n",
       "      <td>-0.020450</td>\n",
       "    </tr>\n",
       "    <tr>\n",
       "      <th>1000.0</th>\n",
       "      <td>5.817985</td>\n",
       "      <td>0.274085</td>\n",
       "      <td>0.841979</td>\n",
       "      <td>0.027865</td>\n",
       "    </tr>\n",
       "    <tr>\n",
       "      <th>10000.0</th>\n",
       "      <td>6.058754</td>\n",
       "      <td>0.033316</td>\n",
       "      <td>0.869484</td>\n",
       "      <td>0.000360</td>\n",
       "    </tr>\n",
       "    <tr>\n",
       "      <th>100000.0</th>\n",
       "      <td>6.088749</td>\n",
       "      <td>0.003321</td>\n",
       "      <td>0.870975</td>\n",
       "      <td>-0.001131</td>\n",
       "    </tr>\n",
       "  </tbody>\n",
       "</table>\n",
       "</div>"
      ],
      "text/plain": [
       "         aproximacion f1  error f1  aproximacion f2  error f2\n",
       "10.0             6.71548  -0.62341         0.728575  0.141269\n",
       "100.0           6.214844 -0.122774         0.890294 -0.020450\n",
       "1000.0          5.817985  0.274085         0.841979  0.027865\n",
       "10000.0         6.058754  0.033316         0.869484  0.000360\n",
       "100000.0        6.088749  0.003321         0.870975 -0.001131"
      ]
     },
     "execution_count": 17,
     "metadata": {},
     "output_type": "execute_result"
    }
   ],
   "source": [
    "table"
   ]
  },
  {
   "cell_type": "markdown",
   "metadata": {},
   "source": [
    "2. Aproximar el área de la región descrita por\n",
    "\n",
    "$$x^2+2y^2\\leq-2x+8y-7$$\n",
    "\n",
    "Poner los resultados en una tabla cuyas filas correspondan a la cantidad de términos utilizados en la aproximación (usar 10, 100, 1000, 10000 y 100000 términos) y en las columnas el valor de aproximación y el error relativo.\n",
    "\n",
    "Definir unos límites adecuados $a_1$, $b_1$, $a_2$ y $b_2$, para la región $R=\\left[a_1,b_1\\right]\\times\\left[a_2,b_2\\right]$"
   ]
  },
  {
   "cell_type": "code",
   "execution_count": 2,
   "metadata": {},
   "outputs": [],
   "source": [
    "def montecarlo2(region, ax,bx,ay,by,N):\n",
    "    x=np.random.uniform(ax,bx,N)\n",
    "    y=np.random.uniform(ay,by,N)\n",
    "    B=region(x,y)\n",
    "    AR=(bx-ax)*(by-ay)\n",
    "    return np.mean(B)*AR"
   ]
  },
  {
   "cell_type": "code",
   "execution_count": 59,
   "metadata": {},
   "outputs": [],
   "source": [
    "N=np.logspace(1,5,5)\n",
    "tabla= pd.DataFrame(columns=[\"aproximacion\",\"error\"], index=N)"
   ]
  },
  {
   "cell_type": "code",
   "execution_count": 4,
   "metadata": {},
   "outputs": [],
   "source": [
    "def h(x,y):\n",
    "    return ((x**2 + 2*y**2) <= (-2*x + 8*y -7))"
   ]
  },
  {
   "cell_type": "code",
   "execution_count": 60,
   "metadata": {
    "scrolled": false
   },
   "outputs": [
    {
     "data": {
      "text/html": [
       "<div>\n",
       "<style scoped>\n",
       "    .dataframe tbody tr th:only-of-type {\n",
       "        vertical-align: middle;\n",
       "    }\n",
       "\n",
       "    .dataframe tbody tr th {\n",
       "        vertical-align: top;\n",
       "    }\n",
       "\n",
       "    .dataframe thead th {\n",
       "        text-align: right;\n",
       "    }\n",
       "</style>\n",
       "<table border=\"1\" class=\"dataframe\">\n",
       "  <thead>\n",
       "    <tr style=\"text-align: right;\">\n",
       "      <th></th>\n",
       "      <th>aproximacion</th>\n",
       "      <th>error</th>\n",
       "    </tr>\n",
       "  </thead>\n",
       "  <tbody>\n",
       "    <tr>\n",
       "      <th>10.0</th>\n",
       "      <td>3.0</td>\n",
       "      <td>1.683</td>\n",
       "    </tr>\n",
       "    <tr>\n",
       "      <th>100.0</th>\n",
       "      <td>3.75</td>\n",
       "      <td>0.933</td>\n",
       "    </tr>\n",
       "    <tr>\n",
       "      <th>1000.0</th>\n",
       "      <td>4.305</td>\n",
       "      <td>0.378</td>\n",
       "    </tr>\n",
       "    <tr>\n",
       "      <th>10000.0</th>\n",
       "      <td>4.3815</td>\n",
       "      <td>0.3015</td>\n",
       "    </tr>\n",
       "    <tr>\n",
       "      <th>100000.0</th>\n",
       "      <td>4.431</td>\n",
       "      <td>0.252</td>\n",
       "    </tr>\n",
       "  </tbody>\n",
       "</table>\n",
       "</div>"
      ],
      "text/plain": [
       "         aproximacion   error\n",
       "10.0              3.0   1.683\n",
       "100.0            3.75   0.933\n",
       "1000.0          4.305   0.378\n",
       "10000.0        4.3815  0.3015\n",
       "100000.0        4.431   0.252"
      ]
     },
     "execution_count": 60,
     "metadata": {},
     "output_type": "execute_result"
    }
   ],
   "source": [
    "for i in N:\n",
    "    aprox=montecarlo2(h,-2.5,2.5,0.5,3.5,int(i))\n",
    "    tabla.loc[i,\"aproximacion\"] = aprox\n",
    "    tabla.loc[i,\"error\"]= (4.683)-aprox\n",
    "tabla"
   ]
  },
  {
   "cell_type": "markdown",
   "metadata": {},
   "source": [
    "3. Describe 3 casos de uso de integración Montecarlo en tu ingeniería."
   ]
  },
  {
   "cell_type": "markdown",
   "metadata": {},
   "source": [
    "1. Ayuda a estimar el precio de las opciones que cotizan en la bolsa; estos contratos futuros garantizan un precio de compra o venta en el futuro, y debido a que el valor del dinero en el tiempo es variable, el precio se tiene que ajusar a uno que beneficie a ambas partes en cualquier escenario. El comportamiento de estos activos financieros se puede modelar con el cálculo estocástico\n",
    "\n",
    "    - Glasserman, P. (2004). Monte Carlo methods in financial engineering. Springer Science & Business Media"
   ]
  },
  {
   "cell_type": "markdown",
   "metadata": {},
   "source": [
    "2. Con la inegración montecarlo se puede simular el comportamiento de los precios de los activos y esto sirve para calcular el riesgo en un portafolio de inversión y optimizar la distribución de los activos financieros en un portafolio.  \n",
    "    - Hull, J. C., & White, A. (2012). Risk management and financial institutions. John Wiley & Sons."
   ]
  },
  {
   "cell_type": "markdown",
   "metadata": {},
   "source": [
    "3. Simulación de precios a futuro y evaluación de rentabilidad de proyectos. Cómo se mencionó previamente, con la integración montecarlo se puede modelar escenarios futuros con los precios de un activo financiero y con estos datos se pueden simular proyecciones del precio de acciones de un proyecto, empresa, etc. \n",
    "    - Longstaff, F. A., & Schwartz, E. S. (2001). Valuing American options by simulation: A simple least-squares approach. The review of financial studies, 14(1), 113-147."
   ]
  },
  {
   "cell_type": "code",
   "execution_count": null,
   "metadata": {},
   "outputs": [],
   "source": []
  }
 ],
 "metadata": {
  "kernelspec": {
   "display_name": "Python 3",
   "language": "python",
   "name": "python3"
  },
  "language_info": {
   "codemirror_mode": {
    "name": "ipython",
    "version": 3
   },
   "file_extension": ".py",
   "mimetype": "text/x-python",
   "name": "python",
   "nbconvert_exporter": "python",
   "pygments_lexer": "ipython3",
   "version": "3.7.6"
  }
 },
 "nbformat": 4,
 "nbformat_minor": 2
}
