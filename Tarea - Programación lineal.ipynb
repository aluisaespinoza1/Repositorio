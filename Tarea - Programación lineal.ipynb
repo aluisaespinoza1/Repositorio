{
 "cells": [
  {
   "cell_type": "markdown",
   "metadata": {},
   "source": [
    "### Ana Luisa Espinoza López\n",
    "**Expediente: 734753**\n",
    "\n",
    "20/02/2023"
   ]
  },
  {
   "cell_type": "markdown",
   "metadata": {},
   "source": [
    "# Tarea - Programación lineal"
   ]
  },
  {
   "cell_type": "markdown",
   "metadata": {},
   "source": [
    "### Diseño de la Dieta Óptima\n",
    "\n",
    "Se quiere producir comida para gatos de la manera más barata, no obstante se debe también asegurar que se cumplan los datos requeridos de analisis nutricional. Por lo que se quiere variar la cantidad de cada ingrediente para cumplir con los estandares nutricionales. Los requisitos que se tienen es que en $100$ gramos, se deben tener **por lo menos** $8$ gramos de proteína y $6$ gramos de grasa. Así mismo, no se debe tener más de $2$ gramos de fibra y $0.4$ gramos de sal.  \n",
    "\n",
    "Los datos nutricionales se pueden obtener de la siguiente tabla:\n",
    "\n",
    "Ingrediente|Proteína|Grasa|Fibra|Sal\n",
    ":----|----|----|----|----\n",
    "Pollo|  10.0%|08.0%|00.1%|00.2%\n",
    "Carne|  20.0%|10.0%|00.5%|00.5%\n",
    "Cordero|15.0%|11.0%|00.5%|00.7%\n",
    "Arroz|  00.0%|01.0%|10.0%|00.2%\n",
    "Trigo|  04.0%|01.0%|15.0%|00.8%\n",
    "Gel|    00.0%|00.0%|00.0%|00.0%\n",
    "\n",
    "Los costos de cada producto son:\n",
    "\n",
    "Ingrediente|Costo por gramo\n",
    ":----|----\n",
    "Pollo|$\\$$0.013\n",
    "Carne|$\\$$0.008\n",
    "Cordero|$\\$$0.010\n",
    "Arroz|$\\$$0.002\n",
    "Trigo|$\\$$0.005\n",
    "Gel|$\\$$0.001    \n",
    "\n",
    "Lo que se busca optimizar en este caso es la cantidad de productos que se debe utilizar en la comida de gato, minimizando el costo total. Para simplificar la notación use las siguientes variables: \n",
    "\n",
    "+ $x_1:$ Gramos de pollo  \n",
    "+ $x_2:$ Gramos de carne  \n",
    "+ $x_3:$ Gramos de cordero  \n",
    "+ $x_4:$ Gramos de arroz  \n",
    "+ $x_5:$ Gramos de trigo  \n",
    "+ $x_6:$ Gramos de gel\n",
    "\n",
    "La tarea consiste en plantear el problemade programación lineal que permita satisfacer las necesidades alimenticias del gato al tiempo que minimice el costo total y resolverlo con `linprog`."
   ]
  },
  {
   "cell_type": "markdown",
   "metadata": {},
   "source": [
    "1. Criterio de optimización\n",
    "    - Minimizar    \n",
    "2. Variables\n",
    "    + $x_i:$ gramos de cada ingrediente\n",
    "3. Función de costo\n",
    "    - $\\min 0.013x_1+0.008x_2+0.01x_3+0.002x_4+0.005x_5+0.001x_6$    \n",
    "4. Información adicional\n",
    "\n",
    "    **Desigualdades**\n",
    "    - $0.1x_1+0.2x_2+0.15x_3+0.04x_5 \\geq 8$  \n",
    "    (gramos de proteína por 100g de producto)\n",
    "    - $0.08x_1+0.1x_2+0.11x_3+0.01x_4+0.01x_5 \\geq 6$ \n",
    "    \n",
    "    (gramos de grasa por 100g de producto)\n",
    "    - $0.001x_1+0.005x_2+0.005x_3+0.1x_4+0.15x_5 \\leq 2$ \n",
    "    \n",
    "    (gramos de fibra por 100g de producto)\n",
    "    - $0.002x_1+0.005x_2+0.007x_3+0.002x_4+0.008x_5 \\leq 0.4$ \n",
    "    \n",
    "    (gramos de sal por 100g de producto)\n",
    "    \n",
    "    **Igualdades**\n",
    "    \n",
    "    - $x_1+x_2+x_3+x_4+x_5+x_6=100$ (base de 100 gramos de producto)\n",
    " "
   ]
  },
  {
   "cell_type": "code",
   "execution_count": 2,
   "metadata": {},
   "outputs": [],
   "source": [
    "import scipy.optimize as opt\n",
    "import numpy as np"
   ]
  },
  {
   "cell_type": "code",
   "execution_count": 5,
   "metadata": {},
   "outputs": [
    {
     "data": {
      "text/plain": [
       "     con: array([3.05107051e-11])\n",
       "     fun: 0.5200000000216561\n",
       " message: 'Optimization terminated successfully.'\n",
       "     nit: 8\n",
       "   slack: array([4.00000000e+00, 7.70468134e-11, 1.70000000e+00, 1.00000000e-01])\n",
       "  status: 0\n",
       " success: True\n",
       "       x: array([4.50819667e-10, 6.00000000e+01, 4.08653405e-09, 2.29072691e-08,\n",
       "       3.70730010e-10, 4.00000000e+01])"
      ]
     },
     "execution_count": 5,
     "metadata": {},
     "output_type": "execute_result"
    }
   ],
   "source": [
    "c=np.array([0.013,0.008,0.01,0.002,0.005,0.001])\n",
    "A=np.array([\n",
    "            [-0.1,-0.2,-0.15,0,-0.04,0],\n",
    "            [-0.08,-0.1,-0.11,-0.01,-0.01,0],\n",
    "            [0.001,0.005,0.005,0.1,0.15,0],\n",
    "            [0.002,0.005,0.007,0.002,0.008,0]])\n",
    "\n",
    "b=np.array([-8,-6,2,0.4])\n",
    "Aeq=np.array([[1,1,1,1,1,1]])\n",
    "beq=np.array([100])\n",
    "opt.linprog(c,A,b,Aeq,beq)"
   ]
  },
  {
   "cell_type": "markdown",
   "metadata": {},
   "source": [
    "### Solución\n",
    "\n",
    "Se minimizó el costo de la comida con un costo de \\$0.520 por cada 100g de comida.\n",
    "\n",
    "Para minimizar el costo de la comida de gato manteniendo los estándares nutricionales, se debe usar la siguiente cantidad de cada ingrediente:\n",
    "\n",
    "    - pollo:   0g\n",
    "    - carne:   60g\n",
    "    - cordero: 0g\n",
    "    - arroz:   0g\n",
    "    - trigo:   0g\n",
    "    - gel:     40g"
   ]
  },
  {
   "cell_type": "markdown",
   "metadata": {},
   "source": [
    "### Problema de distribución de energía eléctrica\n",
    "\n",
    "La Comisión Federal de Electricidad **(CFE)** dispone de cuatro plantas de generación para satisfacer la demanda diaria eléctrica en cuatro ciudades, Guadalajara, León y Morelia. Las plantas $1$, $2$ y $3$ pueden satisfacer $80$, $40$ y $60$ millones de KW al día respectivamente. Las necesidades de las ciudades de Guadalajara, León y Morelia son de $70$, $40$ y $70$ millones de Kw al día respectivamente. \n",
    "\n",
    "\n",
    "Los costos asociados al envío de suministro energético por cada millón de Kw entre cada planta y cada ciudad son los registrados en la siguiente tabla. \n",
    "\n",
    "-|Guadalajara|León|Morelia\n",
    ":----|----|----|----\n",
    "Planta 1|5|2|7\n",
    "Planta 2|3|6|6\n",
    "Planta 3|6|1|2\n",
    "\n",
    "Y por último, las restricciones del problema, van a estar dadas por las capacidades de oferta y demanda de cada planta (en millones de KW) y cada ciudad.\n",
    "\n",
    "Para simplificar la notación use las siguientes variables:\n",
    "\n",
    "+ $x_1$: Kw (en millones) distribuidos de la Planta 1 a Guadalajara\n",
    "+ $x_2$: Kw (en millones) distribuidos de la Planta 1 a León\n",
    "+ $x_3$: Kw (en millones) distribuidos de la Planta 1 a Morelia\n",
    "+ $x_4$: Kw (en millones) distribuidos de la Planta 2 a Guadalajara\n",
    "+ $x_5$: Kw (en millones) distribuidos de la Planta 2 a León\n",
    "+ $x_6$: Kw (en millones) distribuidos de la Planta 2 a Morelia\n",
    "+ $x_7$: Kw (en millones) distribuidos de la Planta 3 a Guadalajara\n",
    "+ $x_8$: Kw (en millones) distribuidos de la Planta 3 a León\n",
    "+ $x_9$: Kw (en millones) distribuidos de la Planta 3 a Morelia\n",
    "\n",
    "La tarea consiste en plantear el problema de programación lineal que permita satisfacer las necesidades de todas las ciudades al tiempo que minimice los costos asociados a la distribución y resolverlo con `linprog`."
   ]
  },
  {
   "cell_type": "markdown",
   "metadata": {},
   "source": [
    "1. Criterio de optimización\n",
    "    - Minimizar    \n",
    "2. Variables\n",
    "    - Kw en millones distribuidos de cada planta a cada ciudad $x_i$\n",
    "3. Función de costo\n",
    "    - $5x_1+2x_2+7x_3+3x_4+6x_5+6x_6+6x_7+x_8+2x_9$    \n",
    "4. Información adicional\n",
    "    + $x_1+x_2+x_3 \\leq 80$ (Capacidad planta 1)\n",
    "    + $x_4+x_5+x_6 \\leq 40$ (Capacidad planta 2)\n",
    "    + $x_7+x_8+x_9 \\leq 60$ (Capacidad planta 3)\n",
    "    + $x_1+x_4+x_7 \\geq 70$ (Demanda Guadalajara)\n",
    "    + $x_2+x_5+x_8 \\geq 40$ (Demanda León)\n",
    "    + $x_3+x_6+x_9 \\geq 70$ (Demanda Morelia)"
   ]
  },
  {
   "cell_type": "code",
   "execution_count": 7,
   "metadata": {},
   "outputs": [],
   "source": [
    "c=np.array([5,2,7,3,6,6,6,1,2])\n",
    "A=np.array([[1,1,1,0,0,0,0,0,0],\n",
    "            [0,0,0,1,1,1,0,0,0],\n",
    "            [0,0,0,0,0,0,1,1,1],\n",
    "            [-1,0,0,-1,0,0,-1,0,0],\n",
    "            [0,-1,0,0,-1,0,0,-1,0],\n",
    "            [0,0,-1,0,0,-1,0,0,-1]])\n",
    "b=np.array([80,40,60,-70,-40,-70])\n"
   ]
  },
  {
   "cell_type": "code",
   "execution_count": 8,
   "metadata": {},
   "outputs": [
    {
     "data": {
      "text/plain": [
       "     con: array([], dtype=float64)\n",
       "     fun: 539.9999999945555\n",
       " message: 'Optimization terminated successfully.'\n",
       "     nit: 6\n",
       "   slack: array([ 8.82408813e-10,  4.27498037e-10,  6.52505605e-10, -7.68807240e-10,\n",
       "       -4.24719815e-10, -7.68878294e-10])\n",
       "  status: 0\n",
       " success: True\n",
       "       x: array([3.00000000e+01, 4.00000000e+01, 1.00000000e+01, 4.00000000e+01,\n",
       "       4.66958755e-11, 6.07352053e-12, 2.20740129e-11, 2.37487168e-11,\n",
       "       6.00000000e+01])"
      ]
     },
     "execution_count": 8,
     "metadata": {},
     "output_type": "execute_result"
    }
   ],
   "source": [
    "opt.linprog(c,A,b)"
   ]
  },
  {
   "cell_type": "markdown",
   "metadata": {},
   "source": [
    "### Solución\n",
    "Para minimizar el costo de envió por \\$540 por cada millón de Kw enviado, cada planta debe enviar lo siguiente:\n",
    "\n",
    "**La planta 1 distribuirá:**\n",
    "- 30 millones de Kw a Guadalajara\n",
    "- 40 millones de Kw a León\n",
    "- 10 millones de Kw a Morelia\n",
    "\n",
    "**La planta 2 distribuirá:**\n",
    "- 40 millones de Kw a Guadalajara\n",
    "- 0 millones de Kw a León\n",
    "- 0 millones de Kw a Morelia\n",
    "\n",
    "**La planta 3 distribuirá:**\n",
    "- 0 millones de Kw a Guadalajara\n",
    "- 0 millones de Kw a León\n",
    "- 60 millones de Kw a Morelia"
   ]
  },
  {
   "cell_type": "markdown",
   "metadata": {},
   "source": []
  }
 ],
 "metadata": {
  "kernelspec": {
   "display_name": "Python 3",
   "language": "python",
   "name": "python3"
  },
  "language_info": {
   "codemirror_mode": {
    "name": "ipython",
    "version": 3
   },
   "file_extension": ".py",
   "mimetype": "text/x-python",
   "name": "python",
   "nbconvert_exporter": "python",
   "pygments_lexer": "ipython3",
   "version": "3.7.6"
  }
 },
 "nbformat": 4,
 "nbformat_minor": 2
}
