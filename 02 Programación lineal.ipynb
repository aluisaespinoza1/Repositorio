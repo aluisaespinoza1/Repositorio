{
 "cells": [
  {
   "cell_type": "markdown",
   "metadata": {},
   "source": [
    "# Actividad 3 \n",
    "### Ana Luisa Espinoza López\n",
    "**Expediente: 734753**"
   ]
  },
  {
   "cell_type": "markdown",
   "metadata": {},
   "source": [
    "# Programación lineal"
   ]
  },
  {
   "cell_type": "markdown",
   "metadata": {},
   "source": [
    "> La programación lineal es el campo de la optimización matemática dedicado a maximizar o minimizar (optimizar) funciones lineales, denominada función objetivo, de tal forma que las variables de dicha función estén sujetas a una serie de restricciones expresadas mediante un sistema de ecuaciones o inecuaciones también lineales.\n",
    "\n",
    "\n",
    "<img style=\"float: right; margin: 0px 0px 15px 15px;\" src=\"https://upload.wikimedia.org/wikipedia/commons/thumb/0/0c/Linear_Programming_Feasible_Region.svg/2000px-Linear_Programming_Feasible_Region.svg.png\" width=\"400px\" height=\"125px\" />\n",
    "\n",
    "<img style=\"float: center\" src=\"https://upload.wikimedia.org/wikipedia/commons/thumb/e/ef/3dpoly.svg/220px-3dpoly.svg.png\" width=\"350px\" height=\"125px\" />\n",
    "\n",
    "\n",
    "**Referencias:**\n",
    "- https://es.wikipedia.org/wiki/Programaci%C3%B3n_lineal\n",
    "- https://docs.scipy.org/doc/scipy-0.18.1/reference/optimize.html\n",
    "- http://bdigital.unal.edu.co/5037/4/guillermojimenezlozano.2006_Parte1.pdf "
   ]
  },
  {
   "cell_type": "markdown",
   "metadata": {},
   "source": [
    "## 1. Apuntes históricos\n",
    "\n",
    "<img style=\"float: right\" src=\"https://upload.wikimedia.org/wikipedia/commons/5/5e/JohnvonNeumann-LosAlamos.gif\" width=\"200px\" height=\"125px\" />\n",
    "\n",
    "\n",
    "- 1826:\tJoseph Fourier anticipa la programación lineal. Carl Friedrich Gauss resuelve ecuaciones lineales por eliminación \"gaussiana\".\n",
    "- 1902:\tGyula Farkas concibe un método para resolver sistemas de inecuaciones.\n",
    "- Es hasta la Segunda Guerra Mundial que se plantea la programación lineal como un modelo matemático para planificar gastos y retornos, de modo que se reduzcan costos de guerra y aumentar pérdidas del enemigo. Secreto hasta 1947 (posguerra).\n",
    "- 1947:\tGeorge Dantzig publica el algoritmo simplex y John von Neumann desarrolló la teoría de la dualidad. Se sabe que Leonid Kantoróvich también formuló la teoría en forma independiente.\n",
    "- Fue usado por muchas industrias en la planificación diaria.\n",
    "\n",
    "**Hasta acá, tiempos exponenciales de solución. Lo siguiente, tiempo polinomial.**\n",
    "\n",
    "- 1979: Leonid Khachiyan, diseñó el llamado Algoritmo del elipsoide, a través del cual demostró que el problema de la programación lineal es resoluble de manera eficiente, es decir, en tiempo polinomial.\n",
    "- 1984: Narendra Karmarkar introduce el método del punto interior para resolver problemas de programación lineal.\n",
    "\n",
    "<img style=\"float: center\" src=\"https://upload.wikimedia.org/wikipedia/commons/thumb/e/ef/Simplex-description-en.svg/240px-Simplex-description-en.svg.png\" width=\"200px\" height=\"125px\" />"
   ]
  },
  {
   "cell_type": "markdown",
   "metadata": {},
   "source": [
    " $$ y \\geq 3x + 4 $$"
   ]
  },
  {
   "cell_type": "markdown",
   "metadata": {},
   "source": [
    "## 2. Problemas de programación lineal\n",
    "\n",
    "### 2.1. Ejemplo básico\n",
    "Una multinacional farmacéutica desea fabricar un compuesto nutritivo a base de dos productos A y B.  El producto A contiene  $30\\%$ de proteínas,  un $1\\%$ de grasas y un  $10\\%$ de azúcares.  El producto B  contiene  un  $5\\%$  de proteínas,  un  $7\\%$ de grasas  y un  $10\\%$  de  azúcares.\n",
    "\n",
    "El compuesto debe de tener,  al menos, $25g$ de proteínas,  $6g$ de grasas y $30g$ de azúcares.  El coste del producto A es de $0.6$ u.m./g  y el de B es de $0.2$  u.m./g\n",
    "\n",
    "Se desea encontrar la cantidad en gramos de cada producto para que el coste total sea mínimo.\n",
    "\n",
    "Formular el problema de decidir cuánto hacer de cada producto como un problema de programación lineal."
   ]
  },
  {
   "cell_type": "markdown",
   "metadata": {},
   "source": [
    "#### Solución\n",
    "1. Minimizar\n",
    "2. Variables\n",
    "    - Xa -> cantidad en gramos de producto A\n",
    "    - Xb -> cantidad en gramos de producto B\n",
    "    - ¿Sobre qué tengo control? cantidad de proteína, grasa y azúcar\n",
    "3. Función de costo\n",
    "    - $0.6x_a+0.2x_b$\n",
    "4. Información adicional\n",
    "    - $0.3x_a+0.05x_b \\geq 25$\n",
    "    - $0.01x_a+0.07x_b \\geq 6$\n",
    "    - $0.1x_a+0.1x_b \\geq30$\n",
    "5. Reescribir usando factores del paso 2\n",
    "    "
   ]
  },
  {
   "cell_type": "markdown",
   "metadata": {},
   "source": [
    "**Solución gráfica:**"
   ]
  },
  {
   "cell_type": "code",
   "execution_count": 1,
   "metadata": {},
   "outputs": [],
   "source": [
    "import matplotlib.pyplot as plt\n",
    "import numpy as np\n",
    "import sympy as sp"
   ]
  },
  {
   "cell_type": "markdown",
   "metadata": {},
   "source": [
    "¿Qué queremos graficar?\n",
    "$$0.3x_a+0.05x_b \\geq 25$$\n",
    "$$0.0.1x_a+0.07x_b \\geq 6$$\n",
    "$$0.1x_a+0.1x_b \\geq 30$$"
   ]
  },
  {
   "cell_type": "markdown",
   "metadata": {},
   "source": [
    "Despejamos para tener una variable dependiente y una independiente. $x_b$ será dependiente de $x_a$"
   ]
  },
  {
   "cell_type": "markdown",
   "metadata": {},
   "source": [
    "Primer restricción despejada:\n",
    "$$ x_b \\geq \\frac{25-0.3 x_a}{0.05}$$"
   ]
  },
  {
   "cell_type": "markdown",
   "metadata": {},
   "source": [
    "Segunda restricción despejada:\n",
    "$$ x_b \\geq \\frac{6-0.01 x_a}{0.07}$$"
   ]
  },
  {
   "cell_type": "markdown",
   "metadata": {},
   "source": [
    "Tercera restricción despejada:\n",
    "$$x_b \\geq \\frac{30-0.1x_a}{0.1}$$"
   ]
  },
  {
   "cell_type": "code",
   "execution_count": 2,
   "metadata": {},
   "outputs": [
    {
     "data": {
      "text/plain": [
       "(0, 500)"
      ]
     },
     "execution_count": 2,
     "metadata": {},
     "output_type": "execute_result"
    },
    {
     "data": {
      "image/png": "[encoded data removed]",
      "text/plain": [
       "<Figure size 432x288 with 1 Axes>"
      ]
     },
     "metadata": {
      "needs_background": "light"
     },
     "output_type": "display_data"
    }
   ],
   "source": [
    "%matplotlib inline\n",
    "\n",
    "xA = np.linspace(0,300,100)\n",
    "\n",
    "y_r1=(25-0.3*xA)/0.05\n",
    "y_r2=(6-0.01*xA)/0.07\n",
    "y_r3=(30-0.1*xA)/0.1\n",
    "\n",
    "plt.figure()\n",
    "plt.plot(xA,y_r1,label=\"Proteína\")\n",
    "plt.plot(xA,y_r2,label=\"Grasa\")\n",
    "plt.plot(xA,y_r3,label=\"Azúcar\")\n",
    "plt.legend(loc=\"best\")\n",
    "plt.grid()\n",
    "plt.ylim([0,500])"
   ]
  },
  {
   "cell_type": "markdown",
   "metadata": {},
   "source": [
    "Las combinaciones que satisfazcan las restricciones deben estar por encima de todas las curvas, las mejores soluciones serán los vértices que se encuentran en esta zona."
   ]
  },
  {
   "cell_type": "code",
   "execution_count": 3,
   "metadata": {},
   "outputs": [],
   "source": [
    "sp.var(\"x\")\n",
    "\n",
    "r1=(25-0.3*x)/0.05\n",
    "r2=(6-0.01*x)/0.07\n",
    "r3=(30-0.1*x)/0.1"
   ]
  },
  {
   "cell_type": "code",
   "execution_count": 4,
   "metadata": {},
   "outputs": [
    {
     "data": {
      "text/plain": [
       "(40.0000000000000, 260.000000000000)"
      ]
     },
     "execution_count": 4,
     "metadata": {},
     "output_type": "execute_result"
    }
   ],
   "source": [
    "xa=sp.solve(r1-r3,x)[0] #cruce entre r1 y r3, vértice de la izquierda\n",
    "xb=r1.subs(x,xa)\n",
    "(xa,xb)"
   ]
  },
  {
   "cell_type": "code",
   "execution_count": 5,
   "metadata": {},
   "outputs": [
    {
     "data": {
      "text/plain": [
       "(250.000000000000, 50.0000000000000)"
      ]
     },
     "execution_count": 5,
     "metadata": {},
     "output_type": "execute_result"
    }
   ],
   "source": [
    "xa=sp.solve(r2-r3,x)[0] #cruce entre r2 y r3, vértice de la derecha\n",
    "xb=r2.subs(x,xa)\n",
    "(xa,xb)"
   ]
  },
  {
   "cell_type": "code",
   "execution_count": 6,
   "metadata": {},
   "outputs": [
    {
     "data": {
      "text/plain": [
       "76.0"
      ]
     },
     "execution_count": 6,
     "metadata": {},
     "output_type": "execute_result"
    }
   ],
   "source": [
    "def funcion_de_costo(xa,xb):\n",
    "    return 0.6*xa+0.2*xb\n",
    "funcion_de_costo(40, 260)"
   ]
  },
  {
   "cell_type": "code",
   "execution_count": 7,
   "metadata": {},
   "outputs": [
    {
     "data": {
      "text/plain": [
       "160.0"
      ]
     },
     "execution_count": 7,
     "metadata": {},
     "output_type": "execute_result"
    }
   ],
   "source": [
    "funcion_de_costo(250,50)"
   ]
  },
  {
   "cell_type": "markdown",
   "metadata": {},
   "source": [
    "**SOLUCIÓN**\n",
    "\n",
    "Para minimizar el costo del producto con un costo total de \\$76 .\n",
    "\n",
    "La proporción de $x_a$ debe ser de 40 gramos y 260 gramos de $x_b$."
   ]
  },
  {
   "cell_type": "markdown",
   "metadata": {},
   "source": [
    "**SOLUCIÓN CON LINPROG**"
   ]
  },
  {
   "cell_type": "code",
   "execution_count": 16,
   "metadata": {},
   "outputs": [
    {
     "data": {
      "text/plain": [
       "     con: array([], dtype=float64)\n",
       "     fun: 76.00000000328913\n",
       " message: 'Optimization terminated successfully.'\n",
       "     nit: 6\n",
       "   slack: array([9.16848819e-10, 1.26000000e+01, 1.51847956e-09])\n",
       "  status: 0\n",
       " success: True\n",
       "       x: array([ 40.        , 260.00000001])"
      ]
     },
     "execution_count": 16,
     "metadata": {},
     "output_type": "execute_result"
    }
   ],
   "source": [
    "import numpy as np\n",
    "\n",
    "c = np.array([0.6, 0.2])\n",
    "Aub = np.array([[-0.30,-0.05],\n",
    "                [-0.01,-0.07],\n",
    "                [-0.10,-0.10]])\n",
    "bub=np.array([-25, -6, -30])\n",
    "\n",
    "opt.linprog(c,Aub,bub)"
   ]
  },
  {
   "cell_type": "markdown",
   "metadata": {},
   "source": [
    "**SOLUCIÓN**\n",
    "\n",
    "Para minimizar el costo del producto con un costo total de \\$76 .\n",
    "\n",
    "La proporción de $x_a$ debe ser de 40 gramos y 260 gramos de $x_b$."
   ]
  },
  {
   "cell_type": "markdown",
   "metadata": {},
   "source": [
    "### 2.2. Ejemplo básico 2\n",
    "Una  fábrica  de  carrocerías  de  automóviles  y camiones  tiene  dos naves. \n",
    "\n",
    "+ En  la nave A,  para  hacer  la  carrocería  de  un  camión,  se  invierten  siete  días-operario,  para  fabricar  la  de  un  coche  se  precisan dos días-operario.\n",
    "\n",
    "+ En la nave B se invierten tres días operario tanto en carrocerías de camión como de coche. \n",
    "\n",
    "Por limitaciones de mano de obra y maquinaria, la nave A dispone de $300$ días operario, y la nave B de $270$ días-operario.\n",
    "\n",
    "Si los beneficios que se obtienen por cada camión son de $600$ u.m y por  cada  automóvil  $200$ u.m,  ¿cuántas  unidades  de  cada  uno  se deben  producir  para maximizar las  ganancias? \n",
    "\n",
    "**Nota:** el problema $\\max_{\\boldsymbol{x}}\\boldsymbol{g}(\\boldsymbol{x})$ es equivalente a $\\min_{\\boldsymbol{x}}-\\boldsymbol{g}(\\boldsymbol{x})$."
   ]
  },
  {
   "cell_type": "markdown",
   "metadata": {},
   "source": [
    "**Solución sin SciPy\n",
    "\n",
    "1. Criterio de optimización\n",
    "    - Maximizar\n",
    "2. Identificar variables\n",
    "    - x(autos) y(camiones)\n",
    "3. Función de costo\n",
    "    - $200x+600y$\n",
    "4. Información adicional\n",
    "   - 2x+7y=300 (Nave A)\n",
    "   - 3x+3y=270 (Nave B)"
   ]
  },
  {
   "cell_type": "markdown",
   "metadata": {},
   "source": [
    "Despejar ecuaciones en función de x:\n",
    "$$y=\\frac{300-2x}{7}$$\n",
    "\n",
    "$$y=\\frac{270-3x}{3}$$"
   ]
  },
  {
   "cell_type": "code",
   "execution_count": 8,
   "metadata": {},
   "outputs": [],
   "source": [
    "import matplotlib.pyplot as plt\n",
    "import numpy as np\n",
    "import sympy as sp"
   ]
  },
  {
   "cell_type": "code",
   "execution_count": 9,
   "metadata": {},
   "outputs": [
    {
     "data": {
      "text/plain": [
       "(0, 100)"
      ]
     },
     "execution_count": 9,
     "metadata": {},
     "output_type": "execute_result"
    },
    {
     "data": {
      "image/png": "[encoded data removed]",
      "text/plain": [
       "<Figure size 432x288 with 1 Axes>"
      ]
     },
     "metadata": {
      "needs_background": "light"
     },
     "output_type": "display_data"
    }
   ],
   "source": [
    "%matplotlib inline\n",
    "\n",
    "xn=np.linspace(0,300,100)\n",
    "a=(300-2*xn)/7\n",
    "b=(270-3*xn)/3\n",
    "\n",
    "plt.figure()\n",
    "plt.plot(xn,a,label=\"Nave A\")\n",
    "plt.plot(xn,b,label=\"Nave B\")\n",
    "plt.legend(loc=\"best\")\n",
    "plt.grid()\n",
    "plt.ylim([0,100])\n"
   ]
  },
  {
   "cell_type": "code",
   "execution_count": 10,
   "metadata": {},
   "outputs": [],
   "source": [
    "sp.var(\"x\")\n",
    "a=(300-2*x)/7\n",
    "b=(270-3*x)/3"
   ]
  },
  {
   "cell_type": "code",
   "execution_count": 11,
   "metadata": {},
   "outputs": [
    {
     "data": {
      "text/plain": [
       "(66, 24)"
      ]
     },
     "execution_count": 11,
     "metadata": {},
     "output_type": "execute_result"
    }
   ],
   "source": [
    "auto=sp.solve(a-b,x)[0] #cruce entre r1 y r3, vértice de la izquierda\n",
    "camion=a.subs(x,auto)\n",
    "(auto,camion)"
   ]
  },
  {
   "cell_type": "code",
   "execution_count": 12,
   "metadata": {},
   "outputs": [
    {
     "data": {
      "text/plain": [
       "(300, 270)"
      ]
     },
     "execution_count": 12,
     "metadata": {},
     "output_type": "execute_result"
    }
   ],
   "source": [
    "#VERIFICACIÓN RESTRICCIÓN DE DÍAS\n",
    "NAVE_A=2*auto+7*camion\n",
    "NAVE_B=3*auto+3*camion\n",
    "(NAVE_A,NAVE_B)"
   ]
  },
  {
   "cell_type": "code",
   "execution_count": 13,
   "metadata": {},
   "outputs": [
    {
     "data": {
      "text/latex": [
       "$\\displaystyle 27600$"
      ],
      "text/plain": [
       "27600"
      ]
     },
     "execution_count": 13,
     "metadata": {},
     "output_type": "execute_result"
    }
   ],
   "source": [
    "def funcion_costo(x,y):\n",
    "    return 200*x+600*y\n",
    "funcion_costo(auto,camion)"
   ]
  },
  {
   "cell_type": "markdown",
   "metadata": {},
   "source": [
    "**Respuesta:**\n",
    "\n",
    "Para maximizar ganancias con \\$27600, se deben producir 66 automóviles y 24 camiones. "
   ]
  },
  {
   "cell_type": "markdown",
   "metadata": {},
   "source": [
    "**Resolviendo el problema 2 (Maximización de utilidad en carros y camiones), con la función `linprog`**"
   ]
  },
  {
   "cell_type": "code",
   "execution_count": 22,
   "metadata": {},
   "outputs": [],
   "source": [
    "import scipy.optimize as opt"
   ]
  },
  {
   "cell_type": "code",
   "execution_count": 24,
   "metadata": {},
   "outputs": [
    {
     "data": {
      "text/plain": [
       "     con: array([], dtype=float64)\n",
       "     fun: -27599.9999995495\n",
       " message: 'Optimization terminated successfully.'\n",
       "     nit: 5\n",
       "   slack: array([4.92059371e-09, 4.26388169e-09])\n",
       "  status: 0\n",
       " success: True\n",
       "       x: array([66., 24.])"
      ]
     },
     "execution_count": 24,
     "metadata": {},
     "output_type": "execute_result"
    }
   ],
   "source": [
    "c=np.array([-200,-600])\n",
    "A=np.array([[2,7],\n",
    "           [3,3]])\n",
    "b=np.array([300,270])\n",
    "opt.linprog(c,A,b)"
   ]
  },
  {
   "cell_type": "markdown",
   "metadata": {},
   "source": [
    "**ANÁLISIS DE RESULTADOS**\n",
    "\n",
    "Se cambiaron los signos de la función de costo para expresarla como un mínimo. La matriz A representa las reestricciones de días operarios de cada Nave para producir tanto autos como camiones. Asimismo, la matriz b tiene los días operarios máximos que cada nave dispone para producir."
   ]
  },
  {
   "cell_type": "markdown",
   "metadata": {},
   "source": [
    "**Solución**\n",
    "\n",
    "Para maximizar las ganancias con \\$27600, se deben producir 66 automóviles y 24 camiones."
   ]
  },
  {
   "cell_type": "markdown",
   "metadata": {},
   "source": [
    "## 3. ¿Cómo se resuelve en python?\n",
    "\n",
    "### 3.1 Librería `SciPy`\n",
    "\n",
    "<img style=\"float: right; margin: 0px 0px 15px 15px;\" src=\"https://scipy.org/_static/images/scipy_med.png\" width=\"200px\" height=\"75px\" />\n",
    "\n",
    "`SciPy` es un software de código abierto basado en `Python` para matemáticas, ciencia e ingeniería. \n",
    "\n",
    "La **Librería `SciPy`** es uno de los paquetes principales y provee varias rutinas numéricas eficientes. Entre ellas, para integración numérica y optimización.\n",
    "\n",
    "En esta clase, y en lo que resta del módulo, estaremos utilizando el módulo `optimize` de la librería `SciPy`.\n",
    "\n",
    "**Importémoslo**"
   ]
  },
  {
   "cell_type": "code",
   "execution_count": 14,
   "metadata": {},
   "outputs": [],
   "source": [
    "import scipy.optimize as opt"
   ]
  },
  {
   "cell_type": "markdown",
   "metadata": {},
   "source": [
    "# Importar el módulo optimize de la librería scipy"
   ]
  },
  {
   "cell_type": "markdown",
   "metadata": {},
   "source": [
    "El módulo `optimize` que acabamos de importar contiene varias funciones para optimización y búsqueda de raices. Entre ellas se encuentra la función `linprog`\n",
    "\n",
    "---"
   ]
  },
  {
   "cell_type": "code",
   "execution_count": 15,
   "metadata": {},
   "outputs": [],
   "source": [
    "import scipy.optimize as opt"
   ]
  },
  {
   "cell_type": "code",
   "execution_count": 17,
   "metadata": {},
   "outputs": [],
   "source": [
    "opt.linprog?"
   ]
  },
  {
   "cell_type": "markdown",
   "metadata": {},
   "source": [
    "**Actividad.** Mónica hace aretes y cadenitas de joyería. Es tan buena, que todo lo que hace lo vende.\n",
    "\n",
    "Le toma 30 minutos hacer un par de aretes y una hora hacer una cadenita, y como Mónica también es estudihambre, solo dispone de 10 horas a la semana para hacer las joyas. Por otra parte, el material que compra solo le alcanza para hacer 15 unidades (el par de aretes cuenta como unidad) de joyas por semana.\n",
    "\n",
    "La utilidad que le deja la venta de las joyas es $\\$15$ en cada par de aretes y $\\$20$ en cada cadenita.\n",
    "\n",
    "¿Cuántos pares de aretes y cuántas cadenitas debería hacer Mónica para maximizar su utilidad?\n",
    "\n",
    "Formular el problema en la forma explicada y obtener la solución gráfica (puede ser a mano).\n",
    "\n",
    "**Diez minutos: quien primero lo haga, comparte pantalla para explicarlo y le subiré la nota de alguna tarea a 100.**"
   ]
  },
  {
   "cell_type": "markdown",
   "metadata": {},
   "source": [
    "1. Criterio de optimización\n",
    "    - Maximizar\n",
    "2. Identificar variables\n",
    "    - $x_1$(par aretes) \n",
    "    - $x_2$(cadenas)\n",
    "3. Función de costo\n",
    "    - $15x_1+20x_2$\n",
    "4. Información adicional\n",
    "   - $30x_1+60x_2\\leq600$ (Tiempo en minutos)\n",
    "   - $x_1+x_2\\leq15$ (Material)"
   ]
  },
  {
   "cell_type": "markdown",
   "metadata": {},
   "source": [
    "**Función de costo**\n",
    "$$\\min_{x_1,x_2} -15x_1-20x_2$$\n",
    "Este será el vector c\n",
    "\n"
   ]
  },
  {
   "cell_type": "markdown",
   "metadata": {},
   "source": [
    "Para la matriz Aub se incluyó la información adicional del tiempo y el material. \n",
    "Para el tiempo, se colocó en la primera columna el tiempo para los aretes, en la segunda columna para la cadena; se colocó la información para ambos en minutos, por lo tanto, 1 hora se toma como 60 minutos. \n",
    "El primer renglón de la matriz es: [30, 60].\n",
    "\n",
    "A continuación, la cantidad máxima es de 15 unidades de joyería, se menciona que cada par de aretes es una unidades, entonces la suma de unidades de aretes y de cadenas debe ser igual a 15, entonces el segundo renglón queda de la siguiente forma: [1,1]\n",
    "\n",
    "La matriz resultante es:\n",
    "\n",
    "[[30, 60]\n",
    "\n",
    "[ 1,  1]]\n",
    "\n",
    "\n",
    "\n",
    "\n",
    "\n"
   ]
  },
  {
   "cell_type": "markdown",
   "metadata": {},
   "source": [
    "Por último la matriz bub contiene los límites de las reestricciones de tiempo y material. El tiempo máximo son 10 horas, el equivalente en minutos es 600 minutos, este será el primer elemento de la matriz. El segundo elemento es el máximo de unidades, entonces el segundo elemento del renglón es 15. La matriz bub queda así:\n",
    "[600, 15]\n",
    "\n",
    "\n",
    "Se cambian los signos de lo que afecte a la función de costo. La función de costo si es un máximo, se cambia el signo para plantearse como mínimo. Si las reestricciones están como menor o igual su signo queda igual, si es mayor o igual debe cambiar su signo."
   ]
  },
  {
   "cell_type": "markdown",
   "metadata": {},
   "source": [
    "Las reestricciones no se deben mover porque están planteadas como menor o igual"
   ]
  },
  {
   "cell_type": "code",
   "execution_count": 18,
   "metadata": {
    "scrolled": true
   },
   "outputs": [
    {
     "data": {
      "text/plain": [
       "     con: array([], dtype=float64)\n",
       "     fun: -249.9999999887525\n",
       " message: 'Optimization terminated successfully.'\n",
       "     nit: 5\n",
       "   slack: array([2.68149734e-08, 6.77832901e-10])\n",
       "  status: 0\n",
       " success: True\n",
       "       x: array([10.,  5.])"
      ]
     },
     "execution_count": 18,
     "metadata": {},
     "output_type": "execute_result"
    }
   ],
   "source": [
    "c = np.array([-15, -20])\n",
    "Aub=np.array([[30, 60],[1,1]])\n",
    "bub=np.array([600,15])\n",
    "opt.linprog(c,Aub,bub)"
   ]
  },
  {
   "cell_type": "markdown",
   "metadata": {},
   "source": [
    "### SOLUCIÓN\n",
    "\n",
    "Para maximizar sus ganancias con \\$250.00, debe de vender 10 pares de aretes y 5 cadenas"
   ]
  },
  {
   "cell_type": "markdown",
   "metadata": {},
   "source": [
    "## 4. Problema de transporte 1\n",
    "- **Referencia**: http://bdigital.unal.edu.co/5037/4/guillermojimenezlozano.2006_Parte1.pdf\n",
    "\n",
    "Una  empresa tiene dos fábricas A y B.  En ellas  se fabrica un determinado  producto, a razón de 500  y 400 unidades por día respectivamente.  El producto  ha  de  ser distribuido posteriormente  a  tres  centros  C,  D  y  E,  que  requieren,  respectivamente,  200,  300  y  400  unidades.  Los  costos  de  transportar cada unidad del producto desde cada fábrica a cada centro distribuidor son los  indicados  en la tabla  siguiente: \n",
    "\n",
    "Factoría|C|D|E|Fabricación (Unidades)\n",
    ":----|----|----|----|----\n",
    "A|  50 u.m|60 u.m|10 u.m|500 u\n",
    "B|  25 u.m|40 u.m|20 u.m|400 u\n",
    "Demanda|200|300|400|\n",
    "\n",
    "**¿De qué manera  deben  organizar  el transporte a fin de que los gastos sean mínimos?**\n",
    "\n",
    "\n",
    "Formulemos el problema para ser resuelto por la programación lineal con\n",
    "- $x_1$: unidades transportadas de la factoría \"A\" al centro \"C\"\n",
    "- $x_2$: unidades transportadas de la factoría \"A\" al centro \"D\"\n",
    "- $x_3$: unidades transportadas de la factoría \"A\" al centro \"E\"\n",
    "- $x_4$: unidades transportadas de la factoría \"B\" al centro \"C\"\n",
    "- $x_5$: unidades transportadas de la factoría \"B\" al centro \"D\"\n",
    "- $x_6$: unidades transportadas de la factoría \"B\" al centro \"E\"\n",
    "\n",
    "se tienen las siguientes ecuaciones:\n",
    "\n",
    "Restricciones de la producción:\n",
    "\n",
    "- $x_{AC} + x_{AD} + x_{AE} \\leq 500$\n",
    "- $x_{BC} + x_{BD} + x_{BE} \\leq 400$\n",
    "\n",
    "Restricciones del consumo:\n",
    "\n",
    "- $x_{AC} + x_{BC} \\geq 200$\n",
    "- $x_{AD} + x_{BD} \\geq 300$\n",
    "- $x_{AE} + x_{BE} \\geq 400$\n",
    "\n",
    "La función objetivo será:\n",
    "\n",
    "$$\\min_{x_1,\\dots,x_6}50x_{AC} + 60x_{AD} + 10x_{AE} + 25x_{BC} + 40x_{BD} + 20x_{BE}$$\n",
    "\n",
    "Resolver con `linprog`"
   ]
  },
  {
   "cell_type": "code",
   "execution_count": 21,
   "metadata": {
    "scrolled": true
   },
   "outputs": [
    {
     "name": "stderr",
     "output_type": "stream",
     "text": [
      "C:\\Users\\analo\\anaconda3\\lib\\site-packages\\ipykernel_launcher.py:8: OptimizeWarning: Solving system with option 'cholesky':True failed. It is normal for this to happen occasionally, especially as the solution is approached. However, if you see this frequently, consider setting option 'cholesky' to False.\n",
      "  \n",
      "C:\\Users\\analo\\anaconda3\\lib\\site-packages\\ipykernel_launcher.py:8: OptimizeWarning: Solving system with option 'sym_pos':True failed. It is normal for this to happen occasionally, especially as the solution is approached. However, if you see this frequently, consider setting option 'sym_pos' to False.\n",
      "  \n"
     ]
    },
    {
     "data": {
      "text/plain": [
       "     con: array([], dtype=float64)\n",
       "     fun: 22999.999998547595\n",
       " message: 'Optimization terminated successfully.'\n",
       "     nit: 6\n",
       "   slack: array([ 3.13205533e-08,  2.50977905e-08, -1.26535156e-08, -1.90470928e-08,\n",
       "       -2.47177354e-08])\n",
       "  status: 0\n",
       " success: True\n",
       "       x: array([5.36843546e-12, 1.00000000e+02, 4.00000000e+02, 2.00000000e+02,\n",
       "       2.00000000e+02, 1.67428498e-10])"
      ]
     },
     "execution_count": 21,
     "metadata": {},
     "output_type": "execute_result"
    }
   ],
   "source": [
    "c=np.array([50,60,10,25,40,20])\n",
    "A=np.array([[1,1,1,0,0,0],\n",
    "            [0,0,0,1,1,1],\n",
    "            [-1,0,0,-1,0,0],\n",
    "            [0,-1,0,0,-1,0],\n",
    "            [0,0,-1,0,0,-1]])\n",
    "b=np.array([500,400,-200,-300,-400])\n",
    "opt.linprog(c,A,b)"
   ]
  },
  {
   "cell_type": "code",
   "execution_count": 26,
   "metadata": {
    "scrolled": true
   },
   "outputs": [
    {
     "data": {
      "text/plain": [
       "     con: array([8.53129493e-05, 1.28400299e-04, 1.71487643e-04])\n",
       "     fun: 22999.99019801425\n",
       " message: 'Optimization terminated successfully.'\n",
       "     nit: 5\n",
       "   slack: array([0.00021417, 0.00017103])\n",
       "  status: 0\n",
       " success: True\n",
       "       x: array([7.43293041e-08, 9.99999584e+01, 3.99999827e+02, 1.99999915e+02,\n",
       "       1.99999913e+02, 1.16778047e-06])"
      ]
     },
     "execution_count": 26,
     "metadata": {},
     "output_type": "execute_result"
    }
   ],
   "source": [
    "c=np.array([50,60,10,25,40,20])\n",
    "Aub=np.array([[1,1,1,0,0,0],\n",
    "            [0,0,0,1,1,1]])\n",
    "\n",
    "bub=np.array([500,400])\n",
    "Aeq=np.array([[1,0,0,1,0,0],\n",
    "              [0,1,0,0,1,0],\n",
    "              [0,0,1,0,0,1]])\n",
    "beq=np.array([200,300,400])\n",
    "opt.linprog(c,Aub,bub,Aeq,beq)"
   ]
  },
  {
   "cell_type": "markdown",
   "metadata": {},
   "source": [
    "**ANÁLISIS**\n",
    "\n",
    "La matriz A tiene 6 columnas, correspondientes a sus 6 variables y 5 renglones, correspondientes a cada reestricción. Los renglones de la matriz que corresponden a los requerimientos de cada centro se cambiaron de signo porque las reestricciones eran de mayor o igual y se deben de plantear como mínimo. Lo mismo sucede en el vector b, los últimos 3 valores tienen signo contrario. "
   ]
  },
  {
   "cell_type": "markdown",
   "metadata": {},
   "source": [
    "**SOLUCIÓN**\n",
    "\n",
    "El costo mínimo fue de \\$23,000 pesos.\n",
    "La factoría A enviará 100 unidades al centro D y 400 unidades al centro E.\n",
    "La factoría B enviará 200 unidades al centro C y 200 al centro D. \n",
    "\n",
    "Se cumplen las reestricciones de unidades máximas de Factoría A con 500 y de la factoría B con 400. También se cumplen las reestricciones de demanda de cada centro, el C con 200 unidades, el D con 300 y el E con 400. "
   ]
  },
  {
   "cell_type": "markdown",
   "metadata": {},
   "source": [
    "## 5. Optimización de inversión en bonos\n",
    "\n",
    "**Referencia:**"
   ]
  },
  {
   "cell_type": "code",
   "execution_count": 20,
   "metadata": {},
   "outputs": [
    {
     "data": {
      "image/jpeg": "[encoded data removed]",
      "text/html": [
       "\n",
       "        <iframe\n",
       "            width=\"400\"\n",
       "            height=\"300\"\n",
       "            src=\"https://www.youtube.com/embed/gukxBus8lOs\"\n",
       "            frameborder=\"0\"\n",
       "            allowfullscreen\n",
       "        ></iframe>\n",
       "        "
      ],
      "text/plain": [
       "<IPython.lib.display.YouTubeVideo at 0x255b0de73c8>"
      ]
     },
     "execution_count": 20,
     "metadata": {},
     "output_type": "execute_result"
    }
   ],
   "source": [
    "from IPython.display import YouTubeVideo\n",
    "YouTubeVideo('gukxBus8lOs')"
   ]
  },
  {
   "cell_type": "markdown",
   "metadata": {},
   "source": [
    "El objetivo de este problema es determinar la mejor estrategia de inversión, dados diferentes tipos de bono, la máxima cantidad que puede ser invertida en cada bono, el porcentaje de retorno y los años de madurez. También hay una cantidad fija de dinero disponible ($\\$750,000$). Por lo menos la mitad de este dinero debe ser invertido en bonos con 10 años o más para la madurez. Se puede invertir un máximo del $25\\%$ de esta cantidad en cada bono. Finalmente, hay otra restricción que no permite usar más de $35\\%$ en bonos de alto riesgo.\n",
    "\n",
    "Existen seis (6) opciones de inversión con las letras correspondientes $A_i$\n",
    "\n",
    "1. $A_1$:(Tasa de retorno=$8.65\\%$; Años para la madurez=11, Riesgo=Bajo)\n",
    "1. $A_2$:(Tasa de retorno=$9.50\\%$; Años para la madurez=10, Riesgo=Alto)\n",
    "1. $A_3$:(Tasa de retorno=$10.00\\%$; Años para la madurez=6, Riesgo=Alto)\n",
    "1. $A_4$:(Tasa de retorno=$8.75\\%$; Años para la madurez=10, Riesgo=Bajo)\n",
    "1. $A_5$:(Tasa de retorno=$9.25\\%$; Años para la madurez=7, Riesgo=Alto)\n",
    "1. $A_6$:(Tasa de retorno=$9.00\\%$; Años para la madurez=13, Riesgo=Bajo)\n",
    "\n",
    "Lo que se quiere entonces es maximizar el retorno que deja la inversión.\n",
    "\n",
    "Este problema puede ser resuelto con programación lineal. Formalmente, puede ser descrito como:\n",
    "\n",
    "$$\\max_{A_1,A_2,...,A_6}\\sum^{6}_{i=1} A_iR_i,$$\n",
    "\n",
    "donde $A_i$ representa la cantidad invertida en la opción, y $R_i$ representa la tasa de retorno respectiva."
   ]
  },
  {
   "cell_type": "markdown",
   "metadata": {},
   "source": [
    "1. Criterio de optimización\n",
    "    - Maximizar    \n",
    "2. Variables\n",
    "    - $A_i$ es la cantidad invertida en cada opción      \n",
    "3. Función de costo\n",
    "    - $0.0865A_1+0.095A_2+0.1A_3+0.0875A_4+0.0925A_5+0.09A_6$    \n",
    "4. Información adicional\n",
    "    - $A_1+A_2+A_4+A_6 \\geq 375000$  \n",
    "    (bonos con 10 o más años de madurez)\n",
    "    - $A_1+A_2+A_3+A_4+A_5+A_6=750000$ \n",
    "    \n",
    "    (cantidad máxima a invertir en total)\n",
    "    - $A_2+A_3+A_5\\leq 262500$ \n",
    "    \n",
    "    (se debe de invertir máximo el 35% en bonos de alto riesgo)\n",
    "    \n",
    "    - Todos los bonos deben tener inversión menor o igual al 25% de la inversión total:  \n",
    "    - $A_1 \\leq 187500$ \n",
    "    - $A_2 \\leq 187500$\n",
    "    - $A_3 \\leq 187500$\n",
    "    - $A_4 \\leq 187500$\n",
    "    - $A_5 \\leq 187500$\n",
    "    - $A_6 \\leq 187500$\n"
   ]
  },
  {
   "cell_type": "code",
   "execution_count": 27,
   "metadata": {},
   "outputs": [],
   "source": [
    "import scipy.optimize as opt\n",
    "import numpy as np"
   ]
  },
  {
   "cell_type": "code",
   "execution_count": 33,
   "metadata": {},
   "outputs": [
    {
     "data": {
      "text/plain": [
       "     con: array([], dtype=float64)\n",
       "     fun: -68887.49999256019\n",
       " message: 'Optimization terminated successfully.'\n",
       "     nit: 9\n",
       "   slack: array([1.87500000e+05, 4.34913673e-05, 8.75809928e-05, 7.49999997e+04,\n",
       "       1.12500000e+05, 3.19572398e-04, 2.36914493e-05, 1.87500000e+05,\n",
       "       2.06608034e-04])\n",
       "  status: 0\n",
       " success: True\n",
       "       x: array([1.12500000e+05, 7.50000000e+04, 1.87500000e+05, 1.87500000e+05,\n",
       "       2.35473619e-04, 1.87500000e+05])"
      ]
     },
     "execution_count": 33,
     "metadata": {},
     "output_type": "execute_result"
    }
   ],
   "source": [
    "c=np.array([-0.0865,-0.095,-0.1,-0.0875,-0.0925,-0.09])\n",
    "Aub=np.array([[-1,-1,0,-1,0,-1],\n",
    "              [1,1,1,1,1,1],\n",
    "              [0,1,1,0,1,0],\n",
    "              [1,0,0,0,0,0],\n",
    "              [0,1,0,0,0,0],\n",
    "              [0,0,1,0,0,0],\n",
    "              [0,0,0,1,0,0],\n",
    "              [0,0,0,0,1,0],\n",
    "              [0,0,0,0,0,1]])\n",
    "bub=np.array([-375000,750000,262500,187500,187500,187500,187500,187500,187500])\n",
    "opt.linprog(c,Aub,bub)"
   ]
  },
  {
   "cell_type": "markdown",
   "metadata": {},
   "source": [
    "**ANÁLISIS**\n",
    "\n",
    "El vector c tiene los porcentajes de retorno de cada tasa en valores numéricos. Se utilizó una matriz de 9x6. Se tienen 9 renglones, 1 por cada restricción y 6 columnas, una por cada variable. Se tenía una reestricción de mayor o igual, por lo que se le cambió el signo a los elementos del primer renglón, correspondientes a esa matriz. El vector bub tiene su primer elemento negativo por la reestricción de mayor o igual. \n"
   ]
  },
  {
   "cell_type": "markdown",
   "metadata": {},
   "source": [
    "**SOLUCIÓN**\n",
    "\n",
    "Para maximizar el retorno de la inversión, con interés de \\$68,887.5, se debe invertir las siguientes cantidades en cada bono:\n",
    "\n",
    "$$A_1=\\$ 112500$$\n",
    "$$A_2=\\$ 75000$$\n",
    "$$A_3=\\$ 187500$$\n",
    "$$A_4=\\$ 187500$$\n",
    "$$A_5=\\$ 0$$\n",
    "$$A_6=\\$ 187500$$"
   ]
  }
 ],
 "metadata": {
  "kernelspec": {
   "display_name": "Python 3",
   "language": "python",
   "name": "python3"
  },
  "language_info": {
   "codemirror_mode": {
    "name": "ipython",
    "version": 3
   },
   "file_extension": ".py",
   "mimetype": "text/x-python",
   "name": "python",
   "nbconvert_exporter": "python",
   "pygments_lexer": "ipython3",
   "version": "3.7.6"
  }
 },
 "nbformat": 4,
 "nbformat_minor": 2
}
