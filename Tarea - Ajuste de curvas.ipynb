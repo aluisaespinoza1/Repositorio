{
 "cells": [
  {
   "cell_type": "markdown",
   "metadata": {},
   "source": [
    "# Tarea - Ajuste de curvas"
   ]
  },
  {
   "cell_type": "markdown",
   "metadata": {},
   "source": [
    "### Ana Luisa Espinoza López\n",
    "**Exp. 734753**\n",
    "\n",
    "**02/03/2023**"
   ]
  },
  {
   "cell_type": "code",
   "execution_count": 171,
   "metadata": {},
   "outputs": [],
   "source": [
    "import numpy as np\n",
    "import pandas as pd\n",
    "import matplotlib.pyplot as plt"
   ]
  },
  {
   "cell_type": "markdown",
   "metadata": {},
   "source": [
    "---\n",
    "### Problema 1\n",
    "\n",
    "Los siguientes datos representan el costo en dólares de la electricidad según Western Electricity Coordinating Council desde el 2014 (y su pronóstico para el 2040)\n",
    "\n",
    "Tomado de:\n",
    "https://www.quandl.com/data/EIA/AEO_2016_REF_NO_CPP_PRCE_NA_COMM_NA_ELC_NA_WECCRKS_NCNTPKWH_A-Electricity-End-Use-Prices-Commercial-Western-Electricity-Coordinating-Council-Rockies-No-CPP-AEO2016"
   ]
  },
  {
   "cell_type": "code",
   "execution_count": 172,
   "metadata": {},
   "outputs": [],
   "source": [
    "import numpy as np\n",
    "# Datos extraidos de la página de quandl\n",
    "data = np.array([10.051101,  9.259127,  9.444813,  9.557723,  9.977324, 10.298326,\n",
    "       10.447217, 10.550506, 10.590784, 10.657418, 10.743085, 10.831965,\n",
    "       10.988435, 11.153055, 11.313326, 11.557165, 11.860136, 12.122511,\n",
    "       12.356448, 12.611391, 12.814569, 13.111372, 13.357134, 13.559012,\n",
    "       13.85861 , 14.135924, 14.436149])"
   ]
  },
  {
   "cell_type": "markdown",
   "metadata": {},
   "source": [
    "1. Ajuste estos datos a polinomios de grado 1 hasta 3 (los datos en $x$ corresponden a los años de 2014 a 2040, sin embargo son valores muy grandes para elevarlos a una potencia, use una representación para estos años, por ejemplo $2014 \\rightarrow 0$ y $2040\\rightarrow 26$).\n",
    "\n",
    "2. Muestre las tres curvas ajustadas junto a los datos de los costos en un solo gráfico"
   ]
  },
  {
   "cell_type": "markdown",
   "metadata": {},
   "source": [
    "### Solución ajuste de grado 1"
   ]
  },
  {
   "cell_type": "code",
   "execution_count": 173,
   "metadata": {
    "scrolled": true
   },
   "outputs": [
    {
     "data": {
      "image/png": "[encoded data removed]",
      "text/plain": [
       "<Figure size 432x288 with 1 Axes>"
      ]
     },
     "metadata": {
      "needs_background": "light"
     },
     "output_type": "display_data"
    }
   ],
   "source": [
    "%matplotlib inline\n",
    "x=np.linspace(0,26,len(data))\n",
    "y=data\n",
    "plt.figure()\n",
    "plt.scatter(x,y,s=5)\n",
    "plt.grid()"
   ]
  },
  {
   "cell_type": "code",
   "execution_count": 273,
   "metadata": {},
   "outputs": [],
   "source": [
    "def f_costo(beta,X,y):\n",
    "    m,n = X.shape\n",
    "    beta = np.reshape(beta, [n,1])\n",
    "    prediccion = X @ beta #multiplicación de vectores en numpy\n",
    "    error = prediccion - y\n",
    "    return (error.T @ error)[0][0]  #.T es para transponer"
   ]
  },
  {
   "cell_type": "code",
   "execution_count": 175,
   "metadata": {},
   "outputs": [],
   "source": [
    "m=len(y)\n",
    "ones=np.ones([m,1]) #matriz de 1\n",
    "x1 = np.reshape(x,[m,1]) #reacomodo como vector\n",
    "X = np.hstack((ones, x1)) #concatena columnas"
   ]
  },
  {
   "cell_type": "code",
   "execution_count": 176,
   "metadata": {},
   "outputs": [
    {
     "data": {
      "text/plain": [
       "array([[0.57059636],\n",
       "       [0.92031405]])"
      ]
     },
     "execution_count": 176,
     "metadata": {},
     "output_type": "execute_result"
    }
   ],
   "source": [
    "beta_inicial = np.random.rand(2,1)\n",
    "beta_inicial"
   ]
  },
  {
   "cell_type": "code",
   "execution_count": 177,
   "metadata": {},
   "outputs": [],
   "source": [
    "y1=np.reshape(y,[m,1])"
   ]
  },
  {
   "cell_type": "code",
   "execution_count": 178,
   "metadata": {},
   "outputs": [
    {
     "data": {
      "text/plain": [
       "      fun: 2.3704889518161596\n",
       " hess_inv: array([[ 0.07010582, -0.00396825],\n",
       "       [-0.00396825,  0.00030525]])\n",
       "      jac: array([2.05636024e-06, 9.83476639e-07])\n",
       "  message: 'Optimization terminated successfully.'\n",
       "     nfev: 20\n",
       "      nit: 3\n",
       "     njev: 5\n",
       "   status: 0\n",
       "  success: True\n",
       "        x: array([9.11567647, 0.18667055])"
      ]
     },
     "execution_count": 178,
     "metadata": {},
     "output_type": "execute_result"
    }
   ],
   "source": [
    "import scipy.optimize as opt\n",
    "sol = opt.minimize(f_costo,beta_inicial, args=(X,y1))\n",
    "beta=np.reshape(sol.x,[2,1])\n",
    "sol"
   ]
  },
  {
   "cell_type": "code",
   "execution_count": 179,
   "metadata": {
    "scrolled": true
   },
   "outputs": [
    {
     "data": {
      "image/png": "[encoded data removed]",
      "text/plain": [
       "<Figure size 432x288 with 1 Axes>"
      ]
     },
     "metadata": {
      "needs_background": "light"
     },
     "output_type": "display_data"
    }
   ],
   "source": [
    "plt.figure()\n",
    "plt.scatter(x,y,s=5)\n",
    "plt.plot(X@sol.x,\"r\")\n",
    "plt.grid()\n"
   ]
  },
  {
   "cell_type": "markdown",
   "metadata": {},
   "source": [
    "### Solución ajuste grado 2"
   ]
  },
  {
   "cell_type": "code",
   "execution_count": 180,
   "metadata": {},
   "outputs": [],
   "source": [
    "m=len(y)\n",
    "ones=np.ones([m,1])\n",
    "x1=np.reshape(x,[m,1]) # da forma a las x en 1 columna\n",
    "x2=np.reshape(x**2,[m,1])\n",
    "X2=np.hstack((ones,x1,x2))"
   ]
  },
  {
   "cell_type": "code",
   "execution_count": 181,
   "metadata": {},
   "outputs": [],
   "source": [
    "beta_inicial2 = np.random.rand(3,1)\n",
    "y2=np.reshape(y,[m,1])"
   ]
  },
  {
   "cell_type": "code",
   "execution_count": 182,
   "metadata": {},
   "outputs": [
    {
     "data": {
      "text/plain": [
       "      fun: 0.8443845194032631\n",
       " hess_inv: array([[ 1.44229954e-01, -2.17576353e-02,  6.84195854e-04],\n",
       "       [-2.17576353e-02,  4.57464146e-03, -1.64205713e-04],\n",
       "       [ 6.84195854e-04, -1.64205713e-04,  6.31556907e-06]])\n",
       "      jac: array([1.49011612e-08, 3.72529030e-08, 6.03497028e-07])\n",
       "  message: 'Optimization terminated successfully.'\n",
       "     nfev: 65\n",
       "      nit: 9\n",
       "     njev: 13\n",
       "   status: 0\n",
       "  success: True\n",
       "        x: array([9.59128645e+00, 7.25241277e-02, 4.39024721e-03])"
      ]
     },
     "execution_count": 182,
     "metadata": {},
     "output_type": "execute_result"
    }
   ],
   "source": [
    "sol2=opt.minimize(f_costo,beta_inicial2, args=(X2,y2))\n",
    "sol2"
   ]
  },
  {
   "cell_type": "code",
   "execution_count": 183,
   "metadata": {
    "scrolled": true
   },
   "outputs": [
    {
     "data": {
      "image/png": "[encoded data removed]",
      "text/plain": [
       "<Figure size 432x288 with 1 Axes>"
      ]
     },
     "metadata": {
      "needs_background": "light"
     },
     "output_type": "display_data"
    }
   ],
   "source": [
    "plt.figure()\n",
    "plt.scatter(x,y,s=5)\n",
    "beta2=np.reshape(sol2.x,[3,1])\n",
    "plt.plot(x,X2@beta2,\"r\") #modelo de regresión\n",
    "plt.grid()"
   ]
  },
  {
   "cell_type": "markdown",
   "metadata": {},
   "source": [
    "### Solución ajuste grado 3"
   ]
  },
  {
   "cell_type": "code",
   "execution_count": 184,
   "metadata": {},
   "outputs": [
    {
     "data": {
      "text/plain": [
       "numpy.ndarray"
      ]
     },
     "execution_count": 184,
     "metadata": {},
     "output_type": "execute_result"
    }
   ],
   "source": [
    "type(x)"
   ]
  },
  {
   "cell_type": "code",
   "execution_count": 185,
   "metadata": {},
   "outputs": [],
   "source": [
    "m=len(y)\n",
    "ones=np.ones([m,1])\n",
    "x1=np.reshape(x,[m,1]) # da forma a las x en 1 columna\n",
    "x2=np.reshape(x**2,[m,1])\n",
    "x3=np.reshape(x**3,[m,1])\n",
    "X3=np.hstack((ones,x1,x2,x3))"
   ]
  },
  {
   "cell_type": "code",
   "execution_count": 186,
   "metadata": {},
   "outputs": [],
   "source": [
    "beta_inicial3 = np.random.rand(4,1)\n",
    "y3=np.reshape(y,[m,1])"
   ]
  },
  {
   "cell_type": "code",
   "execution_count": 187,
   "metadata": {},
   "outputs": [
    {
     "data": {
      "text/plain": [
       "      fun: 0.8404346758255801\n",
       " hess_inv: array([[ 2.27239686e-01, -6.41154302e-02,  4.83488289e-03,\n",
       "        -1.06428225e-04],\n",
       "       [-6.41154302e-02,  2.61883136e-02, -2.28213720e-03,\n",
       "         5.43059926e-05],\n",
       "       [ 4.83488289e-03, -2.28213720e-03,  2.13851605e-04,\n",
       "        -5.32143299e-06],\n",
       "       [-1.06428225e-04,  5.43059926e-05, -5.32143299e-06,\n",
       "         1.36446772e-07]])\n",
       "      jac: array([0.0000000e+00, 0.0000000e+00, 3.7252903e-08, 1.5348196e-06])\n",
       "  message: 'Optimization terminated successfully.'\n",
       "     nfev: 114\n",
       "      nit: 9\n",
       "     njev: 19\n",
       "   status: 0\n",
       "  success: True\n",
       "        x: array([9.56752299e+00, 8.46495840e-02, 3.20207437e-03, 3.04659701e-05])"
      ]
     },
     "execution_count": 187,
     "metadata": {},
     "output_type": "execute_result"
    }
   ],
   "source": [
    "sol3=opt.minimize(f_costo,beta_inicial3, args=(X3,y3))\n",
    "sol3"
   ]
  },
  {
   "cell_type": "code",
   "execution_count": 188,
   "metadata": {},
   "outputs": [
    {
     "data": {
      "image/png": "[encoded data removed]",
      "text/plain": [
       "<Figure size 432x288 with 1 Axes>"
      ]
     },
     "metadata": {
      "needs_background": "light"
     },
     "output_type": "display_data"
    }
   ],
   "source": [
    "plt.figure()\n",
    "plt.scatter(x,y,s=5)\n",
    "beta3=np.reshape(sol3.x,[4,1])\n",
    "plt.plot(x,X3@beta3,\"r\") #modelo de regresión\n",
    "plt.grid()"
   ]
  },
  {
   "cell_type": "code",
   "execution_count": 189,
   "metadata": {},
   "outputs": [
    {
     "data": {
      "text/plain": [
       "True"
      ]
     },
     "execution_count": 189,
     "metadata": {},
     "output_type": "execute_result"
    }
   ],
   "source": [
    "sol.fun>sol2.fun "
   ]
  },
  {
   "cell_type": "code",
   "execution_count": 190,
   "metadata": {},
   "outputs": [
    {
     "data": {
      "text/plain": [
       "True"
      ]
     },
     "execution_count": 190,
     "metadata": {},
     "output_type": "execute_result"
    }
   ],
   "source": [
    "sol2.fun>sol3.fun"
   ]
  },
  {
   "cell_type": "markdown",
   "metadata": {},
   "source": [
    "#### Mejor ajuste\n",
    "El ajuste con menor error para los datos es el de grado 3"
   ]
  },
  {
   "cell_type": "markdown",
   "metadata": {},
   "source": [
    "### Gráfico con el ajuste de curvas de grado 1, 2 y 3"
   ]
  },
  {
   "cell_type": "code",
   "execution_count": 191,
   "metadata": {},
   "outputs": [
    {
     "data": {
      "image/png": "[encoded data removed]",
      "text/plain": [
       "<Figure size 432x288 with 1 Axes>"
      ]
     },
     "metadata": {
      "needs_background": "light"
     },
     "output_type": "display_data"
    }
   ],
   "source": [
    "%matplotlib inline\n",
    "x=np.linspace(0,26,len(data))\n",
    "y=data\n",
    "plt.figure()\n",
    "plt.scatter(x,y,s=5)\n",
    "plt.plot(X@sol.x,\"r\",label=\"Grado 1\")\n",
    "plt.plot(x,X2@sol2.x,\"y\",label=\"Grado 2\")\n",
    "plt.plot(x,X3@sol3.x,\"m\",label=\"Grado 3\")\n",
    "plt.legend(loc=\"best\")\n",
    "plt.grid()"
   ]
  },
  {
   "cell_type": "markdown",
   "metadata": {},
   "source": [
    "---"
   ]
  },
  {
   "cell_type": "markdown",
   "metadata": {},
   "source": [
    "___\n",
    "### Problema 2\n",
    "\n",
    "El archivo `population_data.csv` contiene información histórica anual de México relativa a la población, nacimientos y muertes desde el año 1950 hasta el año 2015. La primer columna corresponde a los años, la segunda a la población, la tercera a los nacimientos y la última a los decesos.\n",
    "\n",
    "Tomado de: https://en.wikipedia.org/wiki/Demographics_of_Mexico.\n",
    "\n",
    "Importe estos datos usando la función `read_csv` del paquete `pandas`\n",
    "\n",
    "1. Usando los años como variable independiente $x$ y la población como variable dependiente $y$, ajustar polinomios de grado 1 hasta grado 3.\n",
    "\n",
    "    * Mostrar en un solo gráfico los datos de población contra los años, y los polinomios ajustados.\n",
    "\n",
    "    * Graficar el error cuadrático acumulado contra el número de términos.\n",
    "\n",
    "2. Repetir el punto 1 usando los nacimientos como variable dependiente $y$. Grafique las curvas ajustadas junto con los datos de nacimientos. Vea en un gráfico el error acumulado."
   ]
  },
  {
   "cell_type": "markdown",
   "metadata": {},
   "source": [
    "---"
   ]
  },
  {
   "cell_type": "code",
   "execution_count": 192,
   "metadata": {},
   "outputs": [
    {
     "data": {
      "text/html": [
       "<div>\n",
       "<style scoped>\n",
       "    .dataframe tbody tr th:only-of-type {\n",
       "        vertical-align: middle;\n",
       "    }\n",
       "\n",
       "    .dataframe tbody tr th {\n",
       "        vertical-align: top;\n",
       "    }\n",
       "\n",
       "    .dataframe thead th {\n",
       "        text-align: right;\n",
       "    }\n",
       "</style>\n",
       "<table border=\"1\" class=\"dataframe\">\n",
       "  <thead>\n",
       "    <tr style=\"text-align: right;\">\n",
       "      <th></th>\n",
       "      <th>Year</th>\n",
       "      <th>Poblacion</th>\n",
       "      <th>Nacimientos</th>\n",
       "      <th>Decesos</th>\n",
       "    </tr>\n",
       "  </thead>\n",
       "  <tbody>\n",
       "    <tr>\n",
       "      <th>0</th>\n",
       "      <td>1950</td>\n",
       "      <td>28296</td>\n",
       "      <td>1174947</td>\n",
       "      <td>418430</td>\n",
       "    </tr>\n",
       "    <tr>\n",
       "      <th>1</th>\n",
       "      <td>1951</td>\n",
       "      <td>29110</td>\n",
       "      <td>1183788</td>\n",
       "      <td>458238</td>\n",
       "    </tr>\n",
       "    <tr>\n",
       "      <th>2</th>\n",
       "      <td>1952</td>\n",
       "      <td>29980</td>\n",
       "      <td>1195209</td>\n",
       "      <td>408823</td>\n",
       "    </tr>\n",
       "    <tr>\n",
       "      <th>3</th>\n",
       "      <td>1953</td>\n",
       "      <td>30904</td>\n",
       "      <td>1261775</td>\n",
       "      <td>446127</td>\n",
       "    </tr>\n",
       "    <tr>\n",
       "      <th>4</th>\n",
       "      <td>1954</td>\n",
       "      <td>31880</td>\n",
       "      <td>1339837</td>\n",
       "      <td>378752</td>\n",
       "    </tr>\n",
       "    <tr>\n",
       "      <th>...</th>\n",
       "      <td>...</td>\n",
       "      <td>...</td>\n",
       "      <td>...</td>\n",
       "      <td>...</td>\n",
       "    </tr>\n",
       "    <tr>\n",
       "      <th>61</th>\n",
       "      <td>2011</td>\n",
       "      <td>115683</td>\n",
       "      <td>2586287</td>\n",
       "      <td>590693</td>\n",
       "    </tr>\n",
       "    <tr>\n",
       "      <th>62</th>\n",
       "      <td>2012</td>\n",
       "      <td>117054</td>\n",
       "      <td>2498880</td>\n",
       "      <td>602354</td>\n",
       "    </tr>\n",
       "    <tr>\n",
       "      <th>63</th>\n",
       "      <td>2013</td>\n",
       "      <td>118395</td>\n",
       "      <td>2478889</td>\n",
       "      <td>623599</td>\n",
       "    </tr>\n",
       "    <tr>\n",
       "      <th>64</th>\n",
       "      <td>2014</td>\n",
       "      <td>119713</td>\n",
       "      <td>2463420</td>\n",
       "      <td>633641</td>\n",
       "    </tr>\n",
       "    <tr>\n",
       "      <th>65</th>\n",
       "      <td>2015</td>\n",
       "      <td>121005</td>\n",
       "      <td>2353596</td>\n",
       "      <td>655694</td>\n",
       "    </tr>\n",
       "  </tbody>\n",
       "</table>\n",
       "<p>66 rows × 4 columns</p>\n",
       "</div>"
      ],
      "text/plain": [
       "    Year  Poblacion  Nacimientos  Decesos\n",
       "0   1950      28296      1174947   418430\n",
       "1   1951      29110      1183788   458238\n",
       "2   1952      29980      1195209   408823\n",
       "3   1953      30904      1261775   446127\n",
       "4   1954      31880      1339837   378752\n",
       "..   ...        ...          ...      ...\n",
       "61  2011     115683      2586287   590693\n",
       "62  2012     117054      2498880   602354\n",
       "63  2013     118395      2478889   623599\n",
       "64  2014     119713      2463420   633641\n",
       "65  2015     121005      2353596   655694\n",
       "\n",
       "[66 rows x 4 columns]"
      ]
     },
     "execution_count": 192,
     "metadata": {},
     "output_type": "execute_result"
    }
   ],
   "source": [
    "popdata = pd.read_csv(\"population_data.csv\")\n",
    "popdata"
   ]
  },
  {
   "cell_type": "code",
   "execution_count": 193,
   "metadata": {},
   "outputs": [],
   "source": [
    "year=popdata[\"Year\"]\n",
    "population=popdata[\"Poblacion\"]"
   ]
  },
  {
   "cell_type": "code",
   "execution_count": 194,
   "metadata": {},
   "outputs": [],
   "source": [
    "x=np.array(year)\n",
    "y=np.array(population)"
   ]
  },
  {
   "cell_type": "markdown",
   "metadata": {},
   "source": [
    "#### Grado 1"
   ]
  },
  {
   "cell_type": "code",
   "execution_count": 196,
   "metadata": {
    "scrolled": true
   },
   "outputs": [],
   "source": [
    "m=len(yp)\n",
    "ones=np.ones([m,1]) #matriz de 1\n",
    "x1 = np.reshape(x,[m,1]) #reacomodo como vector\n",
    "X=np.hstack((ones,x1))"
   ]
  },
  {
   "cell_type": "code",
   "execution_count": 197,
   "metadata": {},
   "outputs": [],
   "source": [
    "beta_i1=np.random.rand(2,1)\n",
    "yv=np.reshape(y,[m,1]) # y vectorizada"
   ]
  },
  {
   "cell_type": "code",
   "execution_count": 198,
   "metadata": {},
   "outputs": [
    {
     "data": {
      "text/plain": [
       "      fun: 212137198.10353658\n",
       " hess_inv: array([[ 7.08557018e+01, -3.57372602e-02],\n",
       "       [-3.57372602e-02,  1.80265827e-05]])\n",
       "      jac: array([-1.400e+01, -2.958e+04])\n",
       "  message: 'Desired error not necessarily achieved due to precision loss.'\n",
       "     nfev: 404\n",
       "      nit: 9\n",
       "     njev: 98\n",
       "   status: 2\n",
       "  success: False\n",
       "        x: array([-2.98667757e+06,  1.54400736e+03])"
      ]
     },
     "execution_count": 198,
     "metadata": {},
     "output_type": "execute_result"
    }
   ],
   "source": [
    "solp1=opt.minimize(f_costo,beta_i1, args=(X,yv))\n",
    "solp1"
   ]
  },
  {
   "cell_type": "markdown",
   "metadata": {},
   "source": [
    "#### Grado 2"
   ]
  },
  {
   "cell_type": "code",
   "execution_count": 199,
   "metadata": {},
   "outputs": [],
   "source": [
    "x2=np.reshape(x**2,[m,1])\n",
    "X2=np.hstack((ones,x1,x2))\n",
    "beta_i2=np.random.rand(3,1)"
   ]
  },
  {
   "cell_type": "code",
   "execution_count": 200,
   "metadata": {},
   "outputs": [
    {
     "data": {
      "text/plain": [
       "      fun: 211770218.1843843\n",
       " hess_inv: array([[-9.43960313e+00,  9.45643476e-03, -2.36795451e-06],\n",
       "       [ 9.45643476e-03,  1.14250015e-05, -8.16613719e-09],\n",
       "       [-2.36795451e-06, -8.16613719e-09,  4.72059645e-12]])\n",
       "      jac: array([8.0000000e+00, 6.7400000e+03, 1.3368174e+07])\n",
       "  message: 'Desired error not necessarily achieved due to precision loss.'\n",
       "     nfev: 337\n",
       "      nit: 5\n",
       "     njev: 65\n",
       "   status: 2\n",
       "  success: False\n",
       "        x: array([-1.98543675e+01, -1.46904795e+03,  7.59851439e-01])"
      ]
     },
     "execution_count": 200,
     "metadata": {},
     "output_type": "execute_result"
    }
   ],
   "source": [
    "solp2=opt.minimize(f_costo,beta_i2, args=(X2,yv))\n",
    "solp2"
   ]
  },
  {
   "cell_type": "markdown",
   "metadata": {},
   "source": [
    "#### Grado 3 "
   ]
  },
  {
   "cell_type": "code",
   "execution_count": 203,
   "metadata": {},
   "outputs": [
    {
     "data": {
      "text/plain": [
       "      fun: 36316980738.11939\n",
       " hess_inv: array([[ 1.00000000e+00, -7.15927212e-10, -7.34972948e-07,\n",
       "         3.70560532e-10],\n",
       "       [-7.15927212e-10,  9.99998996e-01, -1.00879885e-03,\n",
       "         2.54482569e-07],\n",
       "       [-7.34972948e-07, -1.00879885e-03,  1.01768201e-06,\n",
       "        -2.56724935e-10],\n",
       "       [ 3.70560532e-10,  2.54482569e-07, -2.56724935e-10,\n",
       "         6.47629321e-14]])\n",
       "      jac: array([9.16480000e+04, 1.21903616e+08, 1.25168804e+11, 7.69314673e+13])\n",
       "  message: 'Desired error not necessarily achieved due to precision loss.'\n",
       "     nfev: 245\n",
       "      nit: 2\n",
       "     njev: 39\n",
       "   status: 2\n",
       "  success: False\n",
       "        x: array([ 3.92477850e-01,  4.39288105e-01, -1.03015503e-01,  6.14648189e-05])"
      ]
     },
     "execution_count": 203,
     "metadata": {},
     "output_type": "execute_result"
    }
   ],
   "source": [
    "m=len(yp)\n",
    "ones=np.ones([m,1]) #matriz de 1\n",
    "x1 = np.reshape(x,[m,1])\n",
    "x2=np.reshape(x**2,[m,1])\n",
    "x3=np.reshape(x**3,[m,1])\n",
    "X3=np.hstack((ones,x1,x2,x3))\n",
    "beta_i3=np.random.rand(4,1)\n",
    "solp3=opt.minimize(f_costo,beta_i3, args=(X3,yv))\n",
    "solp3"
   ]
  },
  {
   "cell_type": "code",
   "execution_count": 207,
   "metadata": {},
   "outputs": [],
   "source": [
    "beta=np.reshape(solp1.x,[2,1])\n",
    "beta2=np.reshape(solp2.x,[3,1])\n",
    "beta3=np.reshape(solp3.x,[4,1])"
   ]
  },
  {
   "cell_type": "code",
   "execution_count": 209,
   "metadata": {},
   "outputs": [
    {
     "data": {
      "image/png": "[encoded data removed]",
      "text/plain": [
       "<Figure size 432x288 with 1 Axes>"
      ]
     },
     "metadata": {
      "needs_background": "light"
     },
     "output_type": "display_data"
    }
   ],
   "source": [
    "plt.figure()\n",
    "plt.title(\"Polinomios ajustados\")\n",
    "plt.plot(x,y)\n",
    "plt.plot(x,X@beta,label=\"Grado 1\")\n",
    "plt.plot(x,X2@beta2,label=\"Grado 2\")\n",
    "plt.plot(x,X3@beta3,label=\"Grado 3\")\n",
    "plt.legend(loc=\"best\")\n",
    "plt.xlabel(\"año\")\n",
    "plt.ylabel(\"Población\")\n",
    "plt.grid()"
   ]
  },
  {
   "cell_type": "code",
   "execution_count": 315,
   "metadata": {},
   "outputs": [],
   "source": [
    "error=np.array([solp1.fun,solp2.fun,solp3.fun])\n",
    "e=np.reshape(error,[3,1])\n"
   ]
  },
  {
   "cell_type": "code",
   "execution_count": 215,
   "metadata": {},
   "outputs": [],
   "source": [
    "nterminos=np.array([len(solp1.x),len(solp2.x),len(solp3.x)])\n",
    "nt=np.reshape(nterminos,[3,1])\n"
   ]
  },
  {
   "cell_type": "code",
   "execution_count": 219,
   "metadata": {
    "scrolled": true
   },
   "outputs": [
    {
     "data": {
      "image/png": "[encoded data removed]",
      "text/plain": [
       "<Figure size 432x288 with 1 Axes>"
      ]
     },
     "metadata": {
      "needs_background": "light"
     },
     "output_type": "display_data"
    }
   ],
   "source": [
    "plt.figure()\n",
    "plt.plot(nt,e)\n",
    "plt.title(\"Error cuadrático acumulado\")\n",
    "plt.xlabel(\"Numero de términos\")\n",
    "plt.ylabel(\"Error cuadrático\")\n",
    "plt.grid()"
   ]
  },
  {
   "cell_type": "code",
   "execution_count": 313,
   "metadata": {},
   "outputs": [
    {
     "data": {
      "text/plain": [
       "True"
      ]
     },
     "execution_count": 313,
     "metadata": {},
     "output_type": "execute_result"
    }
   ],
   "source": [
    "solp1.fun>solp2.fun"
   ]
  },
  {
   "cell_type": "code",
   "execution_count": 314,
   "metadata": {},
   "outputs": [
    {
     "data": {
      "text/plain": [
       "True"
      ]
     },
     "execution_count": 314,
     "metadata": {},
     "output_type": "execute_result"
    }
   ],
   "source": [
    "solp3.fun>solp2.fun"
   ]
  },
  {
   "cell_type": "markdown",
   "metadata": {},
   "source": [
    "**MEJOR AJUSTE**\n",
    "\n",
    "Para los datos de población, el mejor ajuste fue de grado 2"
   ]
  },
  {
   "cell_type": "markdown",
   "metadata": {},
   "source": [
    "### Nacimientos como variable dependiente"
   ]
  },
  {
   "cell_type": "code",
   "execution_count": 220,
   "metadata": {},
   "outputs": [],
   "source": [
    "year=popdata[\"Year\"]\n",
    "population=popdata[\"Nacimientos\"]\n",
    "x=np.array(year)\n",
    "y=np.array(population)"
   ]
  },
  {
   "cell_type": "markdown",
   "metadata": {},
   "source": [
    "#### Grado 1"
   ]
  },
  {
   "cell_type": "code",
   "execution_count": 242,
   "metadata": {},
   "outputs": [
    {
     "data": {
      "text/plain": [
       "      fun: 4752076200269.235\n",
       " hess_inv: array([[ 7.77023208e-09, -3.86232336e-09],\n",
       "       [-3.86232336e-09,  1.93115076e-09]])\n",
       "      jac: array([0., 0.])\n",
       "  message: 'Optimization terminated successfully.'\n",
       "     nfev: 252\n",
       "      nit: 14\n",
       "     njev: 63\n",
       "   status: 0\n",
       "  success: True\n",
       "        x: array([-3.97663504e+07,  2.12074227e+04])"
      ]
     },
     "execution_count": 242,
     "metadata": {},
     "output_type": "execute_result"
    }
   ],
   "source": [
    "m=len(y)\n",
    "ones=np.ones([m,1])\n",
    "x1=np.reshape(x,[m,1])\n",
    "X=np.hstack((ones,x1))\n",
    "beta_i1=np.random.rand(2,1)\n",
    "yv=np.reshape(y,[m,1])\n",
    "soln1=opt.minimize(f_costo,beta_i1, args=(X,yv))\n",
    "soln1"
   ]
  },
  {
   "cell_type": "markdown",
   "metadata": {},
   "source": [
    "#### Grado 2"
   ]
  },
  {
   "cell_type": "code",
   "execution_count": 299,
   "metadata": {},
   "outputs": [],
   "source": [
    "m=len(y)\n",
    "ones=np.ones([m,1])\n",
    "x1=np.reshape(x,[m,1])\n",
    "x2=np.reshape(x**2,[m,1])\n",
    "X2=np.hstack((ones,x1,x2))\n",
    "beta_i2=np.random.rand(3,1)\n"
   ]
  },
  {
   "cell_type": "code",
   "execution_count": 300,
   "metadata": {},
   "outputs": [
    {
     "data": {
      "text/plain": [
       "      fun: 4852105492313.903\n",
       " hess_inv: array([[ 8.83492201e-01, -9.07009031e-04,  2.32695632e-07],\n",
       "       [-9.07009031e-04,  2.17874330e-05, -1.07560552e-08],\n",
       "       [ 2.32695632e-07, -1.07560552e-08,  5.36525341e-12]])\n",
       "      jac: array([-6.55360000e+04, -1.06364928e+08, -2.12567523e+11])\n",
       "  message: 'Desired error not necessarily achieved due to precision loss.'\n",
       "     nfev: 191\n",
       "      nit: 4\n",
       "     njev: 36\n",
       "   status: 2\n",
       "  success: False\n",
       "        x: array([-1.44038597e+05, -1.94040030e+04,  1.04026350e+01])"
      ]
     },
     "execution_count": 300,
     "metadata": {},
     "output_type": "execute_result"
    }
   ],
   "source": [
    "soln2=opt.minimize(f_costo,beta_i2,args=(X2,yv))\n",
    "soln2"
   ]
  },
  {
   "cell_type": "markdown",
   "metadata": {},
   "source": [
    "#### Grado 3"
   ]
  },
  {
   "cell_type": "code",
   "execution_count": 303,
   "metadata": {},
   "outputs": [
    {
     "data": {
      "text/plain": [
       "      fun: 2504383207079.5195\n",
       " hess_inv: array([[ 1.29526451e-01, -4.61375168e-02,  4.64136908e-05,\n",
       "        -1.16882081e-08],\n",
       "       [-4.61387462e-02,  1.83704694e-02, -1.84645958e-05,\n",
       "         4.64553789e-09],\n",
       "       [ 4.64149267e-05, -1.84645966e-05,  1.85636720e-08,\n",
       "        -4.67159864e-12],\n",
       "       [-1.16885186e-08,  4.64553831e-09, -4.67159885e-12,\n",
       "         1.17590853e-15]])\n",
       "      jac: array([ 0.00000000e+00, -2.68559974e+10, -5.30917604e+13, -1.04856979e+17])\n",
       "  message: 'Desired error not necessarily achieved due to precision loss.'\n",
       "     nfev: 474\n",
       "      nit: 6\n",
       "     njev: 77\n",
       "   status: 2\n",
       "  success: False\n",
       "        x: array([ 2.00701295e+06, -7.59388286e+05,  7.54277288e+02, -1.87216030e-01])"
      ]
     },
     "execution_count": 303,
     "metadata": {},
     "output_type": "execute_result"
    }
   ],
   "source": [
    "m=len(y)\n",
    "ones=np.ones([m,1])\n",
    "x1=np.reshape(x,[m,1])\n",
    "x2=np.reshape(x**2,[m,1])\n",
    "x3=np.reshape(x**3,[m,1])\n",
    "X3=np.hstack((ones,x1,x2,x3))\n",
    "beta_i3=np.random.rand(4,1)\n",
    "soln3=opt.minimize(f_costo,beta_i3, args=(X3,yv))\n",
    "soln3"
   ]
  },
  {
   "cell_type": "code",
   "execution_count": 304,
   "metadata": {},
   "outputs": [],
   "source": [
    "beta=np.reshape(soln1.x,[2,1])\n",
    "beta2=np.reshape(soln2.x,[3,1])\n",
    "beta3=np.reshape(soln3.x,[4,1])"
   ]
  },
  {
   "cell_type": "code",
   "execution_count": 305,
   "metadata": {},
   "outputs": [
    {
     "data": {
      "image/png": "[encoded data removed]",
      "text/plain": [
       "<Figure size 432x288 with 1 Axes>"
      ]
     },
     "metadata": {
      "needs_background": "light"
     },
     "output_type": "display_data"
    }
   ],
   "source": [
    "plt.figure()\n",
    "plt.title(\"Polinomios ajustados\")\n",
    "plt.plot(x,y,label=\"Nacimientos\")\n",
    "plt.plot(x,X@beta,label=\"Grado 1\")\n",
    "plt.plot(x,X2@beta2,label=\"Grado 2\")\n",
    "plt.plot(x,X3@beta3,label=\"Grado 3\")\n",
    "plt.legend(loc=\"best\")\n",
    "plt.xlabel(\"año\")\n",
    "plt.ylabel(\"Nacimientos\")\n",
    "plt.grid()"
   ]
  },
  {
   "cell_type": "code",
   "execution_count": 307,
   "metadata": {},
   "outputs": [
    {
     "data": {
      "text/plain": [
       "array([[4.75207620e+12],\n",
       "       [4.85210549e+12],\n",
       "       [2.50438321e+12]])"
      ]
     },
     "execution_count": 307,
     "metadata": {},
     "output_type": "execute_result"
    }
   ],
   "source": [
    "error=np.array([soln1.fun,soln2.fun,soln3.fun])\n",
    "en=np.reshape(error,[3,1])\n",
    "en"
   ]
  },
  {
   "cell_type": "code",
   "execution_count": 308,
   "metadata": {},
   "outputs": [
    {
     "data": {
      "image/png": "[encoded data removed]",
      "text/plain": [
       "<Figure size 432x288 with 1 Axes>"
      ]
     },
     "metadata": {
      "needs_background": "light"
     },
     "output_type": "display_data"
    }
   ],
   "source": [
    "plt.figure()\n",
    "plt.plot(nt,en)\n",
    "plt.title(\"Error cuadrático acumulado\")\n",
    "plt.xlabel(\"Numero de términos\")\n",
    "plt.ylabel(\"Error cuadrático\")\n",
    "plt.grid()"
   ]
  },
  {
   "cell_type": "code",
   "execution_count": 312,
   "metadata": {},
   "outputs": [
    {
     "data": {
      "text/plain": [
       "True"
      ]
     },
     "execution_count": 312,
     "metadata": {},
     "output_type": "execute_result"
    }
   ],
   "source": [
    "soln1.fun<soln2.fun\n"
   ]
  },
  {
   "cell_type": "code",
   "execution_count": 311,
   "metadata": {},
   "outputs": [
    {
     "data": {
      "text/plain": [
       "True"
      ]
     },
     "execution_count": 311,
     "metadata": {},
     "output_type": "execute_result"
    }
   ],
   "source": [
    "soln3.fun<soln2.fun"
   ]
  },
  {
   "cell_type": "markdown",
   "metadata": {},
   "source": [
    "**MEJOR AJUSTE**\n",
    "\n",
    "El mejor ajuste para los datos de nacimientos es de grado 3"
   ]
  }
 ],
 "metadata": {
  "kernelspec": {
   "display_name": "Python 3",
   "language": "python",
   "name": "python3"
  },
  "language_info": {
   "codemirror_mode": {
    "name": "ipython",
    "version": 3
   },
   "file_extension": ".py",
   "mimetype": "text/x-python",
   "name": "python",
   "nbconvert_exporter": "python",
   "pygments_lexer": "ipython3",
   "version": "3.7.6"
  }
 },
 "nbformat": 4,
 "nbformat_minor": 2
}
