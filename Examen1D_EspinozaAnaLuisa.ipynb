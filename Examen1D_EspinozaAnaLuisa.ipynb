{
 "cells": [
  {
   "cell_type": "markdown",
   "metadata": {},
   "source": [
    "# Examen D Módulo 1 - Optimización.\n",
    "\n",
    "**Lea cuidadosamente las siguientes indicaciones antes de comenzar el examen:**\n",
    "- Para resolver el examen edite este mismo archivo y renómbrelo de la siguiente manera: *Examen1_ApellidoNombre*, donde *ApellidoNombre* corresponde a su apellido paterno con la inicial en mayúscula, seguido de su primer nombre con la inicial en mayúscula **sin acentos**. Por ejemplo, en mi caso el nombre del archivo sería *Examen1_MoralesGabriel*.\n",
    "- Resuelva los puntos en el espacio provisto. Si requiere agregar más celdas para código o escritura, hágalo (`Esc`,`B`) o (`Esc`,`A`).\n",
    "- Recuerde que también se está evaluando su capacidad de interpretar los resultados. Escriba sus interpretaciones/conclusiones en celdas utilizando *Markdown*.\n",
    "- El formato de presentación de todo el examen en general debe ser adecuado. Use tamaños de letra, colores, etiquetas, etcétera.\n",
    "- No se resuelven dudas de ningún tipo por los profesores de la asignatura. Por favor, absténgase de preguntar.\n",
    "- Revise bien el tipo de examen. Sólo se le calificará si realiza el tipo de examen asignado."
   ]
  },
  {
   "cell_type": "markdown",
   "metadata": {},
   "source": [
    "---\n",
    "# Primer punto. Optimización de funciones con `SymPy` (34 puntos)\n",
    "\n",
    "**Costo mínimo**. Imagine un contenedor rectangular sin tapa que debe satisfacer las siguientes condiciones:\n",
    "\n",
    "- Este contenedor debe tener un volumen **V**.\n",
    "- La longitud de su base es el doble que el de su ancho.\n",
    "- El material para la base cuesta 12.00 MXN por cada $m^2$.\n",
    "- El material para los lados cuesta 6.00 MXN por cada $m^2$.\n",
    "\n",
    "¿Cuál es el costo del contenedor más barato?\n"
   ]
  },
  {
   "cell_type": "markdown",
   "metadata": {},
   "source": [
    "1. Escriba el costo **C** del contenedor como una función del ancho de la base $x$ y de su altura $h$. Realice este punto usando $\\LaTeX$ y celdas *Markdown*."
   ]
  },
  {
   "cell_type": "markdown",
   "metadata": {},
   "source": [
    "1. Criterio de Optimización\n",
    "    - Minimizar el costo del contenedor\n",
    "2. Variables\n",
    "    - ancho base (x)\n",
    "    - longitud base (l) --> $l=2x$\n",
    "    - altura contenedor (h)\n",
    "    - área base\n",
    "    - área de los lados\n",
    "3. Función de costo\n",
    "    - $12(area_b)+6(area_l)$\n",
    "    - $12(4x^2)+6(2xh+4xh)$\n",
    "    - $$f(x,h)=48x^2+36xh$$\n",
    "4. Información adicional\n",
    "    - $V=2x^2*h$\n",
    "   "
   ]
  },
  {
   "cell_type": "markdown",
   "metadata": {},
   "source": [
    "2. Determina las dimensiones del contenedor si el volumen debe ser de $12m^3$."
   ]
  },
  {
   "cell_type": "code",
   "execution_count": 44,
   "metadata": {},
   "outputs": [
    {
     "data": {
      "text/plain": [
       "(x, y, h)"
      ]
     },
     "execution_count": 44,
     "metadata": {},
     "output_type": "execute_result"
    }
   ],
   "source": [
    "import sympy as sp\n",
    "sp.var(\"x,y,h\")"
   ]
  },
  {
   "cell_type": "code",
   "execution_count": 52,
   "metadata": {},
   "outputs": [
    {
     "data": {
      "text/latex": [
       "$\\displaystyle \\frac{6}{x^{2}}$"
      ],
      "text/plain": [
       "6/x**2"
      ]
     },
     "execution_count": 52,
     "metadata": {},
     "output_type": "execute_result"
    }
   ],
   "source": [
    "#definir funcion de costo\n",
    "def f(x,h):\n",
    "    return 48*x**2 + 36*x*h\n",
    "\n",
    "#información adicional\n",
    "vol = 2*x**2 *h -12\n",
    "\n",
    "#Expresar y en función de x\n",
    "h_x=sp.solve(vol,h)[0]\n",
    "h_x"
   ]
  },
  {
   "cell_type": "code",
   "execution_count": 53,
   "metadata": {},
   "outputs": [
    {
     "data": {
      "text/latex": [
       "$\\displaystyle 48 x^{2} + \\frac{216}{x}$"
      ],
      "text/plain": [
       "48*x**2 + 216/x"
      ]
     },
     "execution_count": 53,
     "metadata": {},
     "output_type": "execute_result"
    }
   ],
   "source": [
    "f_x=f(x,h).subs(h,h_x) #Expresar la función de costo con respecto a x \n",
    "f_x"
   ]
  },
  {
   "cell_type": "code",
   "execution_count": 54,
   "metadata": {},
   "outputs": [
    {
     "data": {
      "text/latex": [
       "$\\displaystyle 96 x - \\frac{216}{x^{2}}$"
      ],
      "text/plain": [
       "96*x - 216/x**2"
      ]
     },
     "execution_count": 54,
     "metadata": {},
     "output_type": "execute_result"
    }
   ],
   "source": [
    "df_x=sp.diff(f_x,x) #derivada de la función\n",
    "df_x"
   ]
  },
  {
   "cell_type": "code",
   "execution_count": 65,
   "metadata": {},
   "outputs": [
    {
     "data": {
      "text/plain": [
       "1.3103706971044482"
      ]
     },
     "execution_count": 65,
     "metadata": {},
     "output_type": "execute_result"
    }
   ],
   "source": [
    "#encontrar punto crítico\n",
    "pc=sp.solve(df_x,x)[0]\n",
    "pc\n",
    "x_num=float(pc)\n",
    "x_num"
   ]
  },
  {
   "cell_type": "code",
   "execution_count": 66,
   "metadata": {},
   "outputs": [
    {
     "data": {
      "text/plain": [
       "3.494321858945196"
      ]
     },
     "execution_count": 66,
     "metadata": {},
     "output_type": "execute_result"
    }
   ],
   "source": [
    "h_num=h_x.subs(x,x_num)\n",
    "float(h_num)"
   ]
  },
  {
   "cell_type": "code",
   "execution_count": 68,
   "metadata": {},
   "outputs": [
    {
     "data": {
      "text/plain": [
       "2.6207413942088964"
      ]
     },
     "execution_count": 68,
     "metadata": {},
     "output_type": "execute_result"
    }
   ],
   "source": [
    "l=2*x_num\n",
    "l"
   ]
  },
  {
   "cell_type": "code",
   "execution_count": 70,
   "metadata": {},
   "outputs": [
    {
     "data": {
      "text/latex": [
       "$\\displaystyle 12.0$"
      ],
      "text/plain": [
       "12.0000000000000"
      ]
     },
     "execution_count": 70,
     "metadata": {},
     "output_type": "execute_result"
    }
   ],
   "source": [
    "#Volumen del contenedor\n",
    "x_num*l*h_num"
   ]
  },
  {
   "cell_type": "markdown",
   "metadata": {},
   "source": [
    "**DIMENSIONES DEL CONTENEDOR**\n",
    "\n",
    "x (ancho)= 1.310371 metros\n",
    "\n",
    "l (longitud)= 2.620741 metros\n",
    "\n",
    "h (altura)= 3.494322 metros"
   ]
  },
  {
   "cell_type": "markdown",
   "metadata": {},
   "source": [
    "3. ¿Cuál fue el costo de fabricar este contenedor?"
   ]
  },
  {
   "cell_type": "code",
   "execution_count": 71,
   "metadata": {},
   "outputs": [
    {
     "data": {
      "text/latex": [
       "$\\displaystyle 247.25827639152$"
      ],
      "text/plain": [
       "247.258276391520"
      ]
     },
     "execution_count": 71,
     "metadata": {},
     "output_type": "execute_result"
    }
   ],
   "source": [
    "#Costo de fabricación\n",
    "f(x_num,h_num)"
   ]
  },
  {
   "cell_type": "markdown",
   "metadata": {},
   "source": [
    "El costo de fabricar un contenedor con las dimensiones previamente mencionadas es de \\$247.26 MXN."
   ]
  },
  {
   "cell_type": "markdown",
   "metadata": {},
   "source": [
    "---\n",
    "# Segundo punto. Programación lineal (33 puntos)"
   ]
  },
  {
   "cell_type": "markdown",
   "metadata": {},
   "source": [
    "Una empresa se dedica a fabricar tarjetas de control para automóviles, y están en su momento de planeación de compras anuales. Hay 5 proveedores que pueden proveer los componentes, cada uno a su propio precio."
   ]
  },
  {
   "cell_type": "markdown",
   "metadata": {},
   "source": [
    "<table>\n",
    "  <tr>\n",
    "      <th>  </th>\n",
    "      <th>Proveedor 1</th>\n",
    "      <th>Proveedor 2</th>\n",
    "      <th>Proveedor 3</th>\n",
    "      <th>Demanda</th>\n",
    "  </tr>\n",
    "  <tr>\n",
    "      <th>Componente 1</th>\n",
    "      <td>0.5</td>\n",
    "      <td>0.6</td>\n",
    "      <td>0.7</td>\n",
    "      <td>15000</td>\n",
    "  </tr>\n",
    "  <tr style=\"border-bottom: 1px solid #000;\">\n",
    "      <th>Componente 2</th>\n",
    "      <td>0.7</td>\n",
    "      <td>0.5</td>\n",
    "      <td>0.6</td>\n",
    "      <td>20000</td>\n",
    "  </tr>\n",
    "  <tr style=\"border-bottom: 1px solid #000;\">\n",
    "      <th>Componente 3</th>\n",
    "      <td>0.32</td>\n",
    "      <td>0.54</td>\n",
    "      <td>0.8</td>\n",
    "      <td>12000</td>\n",
    "  </tr>\n",
    "\n",
    "  <tr style=\"border-bottom: 1px solid #000;\">\n",
    "      <th>Capacidad</th>\n",
    "      <td> 21000 </td>\n",
    "      <td> 16000 </td>\n",
    "      <td> 16000 </td>\n",
    "      <td>  </td>\n",
    "  </tr>\n",
    "</table>"
   ]
  },
  {
   "cell_type": "markdown",
   "metadata": {},
   "source": [
    "El proveedor tiene restricciones de capacidad de fabricación del tipo de componentes, por lo que un proveedor no puede satisfacer nuestra demanda completa para cada componente."
   ]
  },
  {
   "cell_type": "markdown",
   "metadata": {},
   "source": [
    "Se desea conocer la cantidad que se debe comprar de cada componente a cada proveedor para gastar la menor cantidad de dinero posible, pero al mismo tiempo lograr satisfacer la demanda para poder continuar con la manufactura del producto."
   ]
  },
  {
   "cell_type": "markdown",
   "metadata": {},
   "source": [
    "1. Escriba la función a **minimizar** junto con las restricciones, explicando detalladamente cada paso (usando fórmulas en $\\LaTeX$, en celdas Markdown). Además escriba el problema en la forma \\begin{equation}\n",
    "\\begin{array}{ll}\n",
    "\\min_{\\boldsymbol{x}} & \\boldsymbol{c}^T\\boldsymbol{x} \\\\\n",
    "\\text{s. a. }        & \\boldsymbol{A}_{eq}\\boldsymbol{x}=\\boldsymbol{b}_{eq} \\\\\n",
    "                     & \\boldsymbol{A}\\boldsymbol{x}\\leq\\boldsymbol{b},\n",
    "\\end{array}\\qquad\\text{(23 puntos)}\n",
    "\\end{equation}"
   ]
  },
  {
   "cell_type": "markdown",
   "metadata": {},
   "source": [
    "1. Criterio de optimización\n",
    "    - Minimizar el costo de compra de todos los componentes\n",
    "2. Variables \n",
    "    - $Proveedor_iComponente_i$\n",
    "    - $P_1C_1,P_1C_2,P_1C_3,P_2C_1,P_2C_2,P_2C_3,P_3C_1,P_3C_2,P_3C_3$\n",
    "3. Función de costo\n",
    "    - $0.5P_1C_1+0.7P_1C_2+0.32P_1C_3+0.6P_2C_1+0.5P_2C_2+0.54P_2C_3+0.7P_3C_1+0.6P_3C_2+0.8P_3C_3$\n",
    "4. Información adicional\n",
    "    - Reestricciones de demanda:\n",
    "    - $P_1C_1+P_2C_1+P_3C_1\\geq15000$\n",
    "    - $P_1C_2+P_2C_2+P_3C_2\\geq20000$\n",
    "    - $P_1C_3+P_2C_3+P_3C_3\\geq12000$\n",
    "    - Reestricciones de Capacidad:\n",
    "    - $P_1C_1+P_1C_2+P_1C_3\\leq21000$\n",
    "    - $P_2C_1+P_2C_2+P_2C_3\\leq16000$\n",
    "    - $P_3C_1+P_3C_2+P_3C_3\\leq16000$"
   ]
  },
  {
   "cell_type": "markdown",
   "metadata": {},
   "source": []
  },
  {
   "cell_type": "markdown",
   "metadata": {},
   "source": [
    "2. Resuelva el problema utilizando la función `linprog`. ¿Cómo debe ser la distribución de compras? ¿Cuánto dinero se necesita para satisfacer la demanda? (10 puntos)"
   ]
  },
  {
   "cell_type": "code",
   "execution_count": 1,
   "metadata": {},
   "outputs": [],
   "source": [
    "import numpy as np\n",
    "import scipy.optimize as opt"
   ]
  },
  {
   "cell_type": "code",
   "execution_count": 3,
   "metadata": {},
   "outputs": [
    {
     "data": {
      "text/plain": [
       "     con: array([], dtype=float64)\n",
       "     fun: 22940.0\n",
       " message: 'Optimization terminated successfully.'\n",
       "     nit: 11\n",
       "   slack: array([   0.,    0.,    0.,    0.,    0., 6000.])\n",
       "  status: 0\n",
       " success: True\n",
       "       x: array([ 9000.,     0., 12000.,     0., 16000.,     0.,  6000.,  4000.,\n",
       "           0.])"
      ]
     },
     "execution_count": 3,
     "metadata": {},
     "output_type": "execute_result"
    }
   ],
   "source": [
    "c=np.array([0.5,0.7,0.32,0.6,0.5,0.54,0.7,0.6,0.8])\n",
    "\n",
    "Aub=np.array([[-1,0,0,-1,0,0,-1,0,0],\n",
    "              [0,-1,0,0,-1,0,0,-1,0],\n",
    "              [0,0,-1,0,0,-1,0,0,-1],\n",
    "              [1,1,1,0,0,0,0,0,0],\n",
    "              [0,0,0,1,1,1,0,0,0],\n",
    "              [0,0,0,0,0,0,1,1,1]])\n",
    "bub=np.array([-15000,-20000,-12000,21000,16000,16000])\n",
    "opt.linprog(c,Aub,bub, method=\"simplex\")"
   ]
  },
  {
   "cell_type": "markdown",
   "metadata": {},
   "source": [
    "**SOLUCIÓN**\n",
    "\n",
    "Para minizar el costo de compra de componentes con un precio de \\$22940, se deben comprar los componentes de la siguiente forma:\n",
    "1. Proveedor 1:\n",
    "    - 9000 Componentes 1\n",
    "    - 0 Componentes 2\n",
    "    - 12000 Componentes 3\n",
    "2. Proveedor 2:\n",
    "    - 0 Componentes 1\n",
    "    - 16000 Componentes 2 \n",
    "    - 0 Componentes 3\n",
    "3. Proveedor 3:\n",
    "    - 6000 Componentes 1\n",
    "    - 4000 Componentes 2\n",
    "    - 0 Componentes 3"
   ]
  },
  {
   "cell_type": "markdown",
   "metadata": {},
   "source": [
    "# Tercer punto. Ajuste de curvas (33 puntos)\n",
    "\n",
    "Utiliza el archivo adjunto en Canvas en el apartado que corresponde al examen."
   ]
  },
  {
   "cell_type": "markdown",
   "metadata": {},
   "source": [
    "Escribe tu número de expediente: 734753 "
   ]
  },
  {
   "cell_type": "markdown",
   "metadata": {},
   "source": [
    "Lee el archivo y extrae la siguiente información:\n",
    "- $x$ es la primer columna del archivo\n",
    "- $y$ es la columna correspondiente a los últimos dos dígitos de tu número de expediente + 1. E.g. mi expediente es $693871$; por lo tanto, debo usar la columna $72$."
   ]
  },
  {
   "cell_type": "code",
   "execution_count": 77,
   "metadata": {},
   "outputs": [],
   "source": [
    "import pandas as pd\n",
    "data = pd.read_excel(\"E01-RegresionLineal.xlsx\")"
   ]
  },
  {
   "cell_type": "code",
   "execution_count": 78,
   "metadata": {},
   "outputs": [],
   "source": [
    "x=np.array(data[0])\n",
    "y=np.array(data[54])"
   ]
  },
  {
   "cell_type": "code",
   "execution_count": 79,
   "metadata": {},
   "outputs": [],
   "source": [
    "def f_costo(beta,X,y):\n",
    "    m,n = X.shape\n",
    "    beta = np.reshape(beta, [n,1])\n",
    "    prediccion = X @ beta \n",
    "    error = prediccion - y\n",
    "    return (error.T @ error)[0][0]  "
   ]
  },
  {
   "cell_type": "markdown",
   "metadata": {},
   "source": [
    "1. Ajuste los datos con polinomios de grados 1, 3, y 5. Muestre los errores de forma gráfica. ¿Qué polinomio se ajusta mejor?"
   ]
  },
  {
   "cell_type": "code",
   "execution_count": 83,
   "metadata": {},
   "outputs": [],
   "source": [
    "m=len(y)\n",
    "ones=np.ones([m,1])\n",
    "x1=np.reshape(x,[m,1])\n",
    "x2=np.reshape(x**2,[m,1])\n",
    "x3=np.reshape(x**3,[m,1])\n",
    "x4=np.reshape(x**4,[m,1])\n",
    "x5=np.reshape(x**5,[m,1])\n",
    "\n",
    "X1=np.hstack((ones,x1))\n",
    "X2=np.hstack((ones,x1,x2))\n",
    "X3=np.hstack((ones,x1,x2,x3))\n",
    "X4=np.hstack((ones,x1,x2,x3,x4))\n",
    "X5=np.hstack((ones,x1,x2,x3,x4,x5))\n",
    "\n",
    "beta_i1=np.random.rand(2,1)\n",
    "beta_i2=np.random.rand(3,1)\n",
    "beta_i3=np.random.rand(4,1)\n",
    "beta_i4=np.random.rand(5,1)\n",
    "beta_i5=np.random.rand(6,1)\n",
    "\n",
    "y_v=np.reshape(y,[m,1])"
   ]
  },
  {
   "cell_type": "code",
   "execution_count": 84,
   "metadata": {},
   "outputs": [],
   "source": [
    "sol1=opt.minimize(f_costo,beta_i1, args=(X1,y_v))\n",
    "sol3=opt.minimize(f_costo,beta_i3, args=(X3,y_v))\n",
    "sol5=opt.minimize(f_costo,beta_i5, args=(X5,y_v))\n"
   ]
  },
  {
   "cell_type": "code",
   "execution_count": 85,
   "metadata": {},
   "outputs": [
    {
     "data": {
      "text/plain": [
       "<BarContainer object of 3 artists>"
      ]
     },
     "execution_count": 85,
     "metadata": {},
     "output_type": "execute_result"
    },
    {
     "data": {
      "image/png": "[encoded data removed]",
      "text/plain": [
       "<Figure size 432x288 with 1 Axes>"
      ]
     },
     "metadata": {
      "needs_background": "light"
     },
     "output_type": "display_data"
    }
   ],
   "source": [
    "plt.figure()\n",
    "plt.title(\"Error cuadrático\")\n",
    "plt.bar([1,3,5],[sol1.fun,sol3.fun,sol5.fun,])"
   ]
  },
  {
   "cell_type": "code",
   "execution_count": 86,
   "metadata": {},
   "outputs": [
    {
     "data": {
      "text/plain": [
       "<BarContainer object of 2 artists>"
      ]
     },
     "execution_count": 86,
     "metadata": {},
     "output_type": "execute_result"
    },
    {
     "data": {
      "image/png": "[encoded data removed]",
      "text/plain": [
       "<Figure size 432x288 with 1 Axes>"
      ]
     },
     "metadata": {
      "needs_background": "light"
     },
     "output_type": "display_data"
    }
   ],
   "source": [
    "plt.figure()\n",
    "plt.title(\"Error cuadrático\")\n",
    "plt.bar([3,5],[sol3.fun,sol5.fun])"
   ]
  },
  {
   "cell_type": "markdown",
   "metadata": {},
   "source": [
    "**Solución**\n",
    "\n",
    "El polinomio que mejor se ajusta es el de grado 5."
   ]
  },
  {
   "cell_type": "markdown",
   "metadata": {},
   "source": [
    "2. Muestre en un gráfico los datos y el polinomio que mejor se ajuste."
   ]
  },
  {
   "cell_type": "code",
   "execution_count": 87,
   "metadata": {},
   "outputs": [
    {
     "data": {
      "image/png": "[encoded data removed]",
      "text/plain": [
       "<Figure size 432x288 with 1 Axes>"
      ]
     },
     "metadata": {
      "needs_background": "light"
     },
     "output_type": "display_data"
    }
   ],
   "source": [
    "import matplotlib.pyplot as plt\n",
    "%matplotlib inline\n",
    "plt.figure()\n",
    "plt.scatter(x,y,s=4)\n",
    "plt.title(\"Ajuste Polinomio grado 5\")\n",
    "#plt.plot(x,X1@sol1.x,\"r\",label=\"Grado 1\")\n",
    "#plt.plot(x,X3@sol3.x,\"g\",label=\"Grado 3\")\n",
    "plt.plot(x,X5@sol5.x,\"orange\",label=\"Grado 5\")\n",
    "plt.legend(loc=\"best\")\n",
    "plt.grid()"
   ]
  },
  {
   "cell_type": "markdown",
   "metadata": {},
   "source": [
    "3. Use el modelo para averiguar el valor de $y$ cuando:\n",
    "- $x=0.001$\n",
    "- $x=-0.1$\n",
    "- $x=2.1$"
   ]
  },
  {
   "cell_type": "code",
   "execution_count": 88,
   "metadata": {},
   "outputs": [],
   "source": [
    "def f(x):\n",
    "    return sol5.x[0] + (sol5.x[1])*x +(sol5.x[2])*x**2 +(sol5.x[3])*x**3 +(sol5.x[4])*x**4 +(sol5.x[5])*x**5"
   ]
  },
  {
   "cell_type": "code",
   "execution_count": 89,
   "metadata": {},
   "outputs": [
    {
     "data": {
      "text/plain": [
       "-1.9759513820318875"
      ]
     },
     "execution_count": 89,
     "metadata": {},
     "output_type": "execute_result"
    }
   ],
   "source": [
    "f(0.001)"
   ]
  },
  {
   "cell_type": "code",
   "execution_count": 90,
   "metadata": {},
   "outputs": [
    {
     "data": {
      "text/plain": [
       "-1.5066267412368752"
      ]
     },
     "execution_count": 90,
     "metadata": {},
     "output_type": "execute_result"
    }
   ],
   "source": [
    "f(-0.1)"
   ]
  },
  {
   "cell_type": "code",
   "execution_count": 91,
   "metadata": {},
   "outputs": [
    {
     "data": {
      "text/plain": [
       "64.3673610326883"
      ]
     },
     "execution_count": 91,
     "metadata": {},
     "output_type": "execute_result"
    }
   ],
   "source": [
    "f(2.1)"
   ]
  },
  {
   "cell_type": "markdown",
   "metadata": {},
   "source": [
    "4. ¿Qué diferencias encuentra en cuanto a la interpolación y la extrapolación?"
   ]
  },
  {
   "cell_type": "markdown",
   "metadata": {},
   "source": [
    "La extrapolación de datos puede estimar valores mayores o menores al conjunto de datos mientras que la interpolación estima los valores dentro del set de datos."
   ]
  },
  {
   "cell_type": "markdown",
   "metadata": {},
   "source": [
    "5. (Punto extra) Agregue un termino $\\beta_5 cos(10x)$ a su modelo y grafique los resultados. ¿Mejoró el resultado?"
   ]
  },
  {
   "cell_type": "code",
   "execution_count": 96,
   "metadata": {},
   "outputs": [],
   "source": [
    "def f2(x):\n",
    "    return (sol5.x[0] + (sol5.x[1])*x +(sol5.x[2])*x**2 +(sol5.x[3])*x**3 +(sol5.x[4])*x**4 +(sol5.x[5])*x**5)+(np.cos(10*x))"
   ]
  },
  {
   "cell_type": "code",
   "execution_count": 97,
   "metadata": {},
   "outputs": [
    {
     "data": {
      "image/png": "[encoded data removed]",
      "text/plain": [
       "<Figure size 432x288 with 1 Axes>"
      ]
     },
     "metadata": {
      "needs_background": "light"
     },
     "output_type": "display_data"
    }
   ],
   "source": [
    "%matplotlib inline\n",
    "plt.figure()\n",
    "plt.scatter(x,y,s=4)\n",
    "plt.title(\"Polinomio grado 5 + cos (10x)\")\n",
    "plt.plot(x,f2(x),\"orange\",label=\"Grado 5\")\n",
    "plt.legend(loc=\"best\")\n",
    "plt.grid()"
   ]
  },
  {
   "cell_type": "markdown",
   "metadata": {},
   "source": [
    "El resultado no mejoró agregando el término de $cos(10x)$"
   ]
  }
 ],
 "metadata": {
  "kernelspec": {
   "display_name": "Python 3",
   "language": "python",
   "name": "python3"
  },
  "language_info": {
   "codemirror_mode": {
    "name": "ipython",
    "version": 3
   },
   "file_extension": ".py",
   "mimetype": "text/x-python",
   "name": "python",
   "nbconvert_exporter": "python",
   "pygments_lexer": "ipython3",
   "version": "3.7.6"
  }
 },
 "nbformat": 4,
 "nbformat_minor": 5
}
