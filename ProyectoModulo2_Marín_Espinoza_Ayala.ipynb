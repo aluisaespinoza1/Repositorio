{
  "cells": [
    {
      "cell_type": "markdown",
      "metadata": {
        "id": "rMmrqbacqZNr"
      },
      "source": [
        "# Proyecto - Módulo 2\n",
        "\n",
        "20/04/2023\n",
        "## Simulación de portafolios de inversión\n",
        "![image.png](data:image/png;base64,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)\n",
        "\n",
        "**Integrantes:**\n",
        "\n",
        "*Alberto Marín*\n",
        "\n",
        "  - Exp: 740526 Correo: alberto.marin@iteso.mx\n",
        "\n",
        "*Ana Luisa Espinoza López*\n",
        "\n",
        "  - Exp: 734753 Correo: ana.espinoza@iteso.mx\n",
        "\n",
        "\n",
        "*Kevin Emiliano Ayala Montoya*\n",
        "\n",
        "  - Exp:745973  Correo: @iteso.mx"
      ]
    },
    {
      "cell_type": "markdown",
      "metadata": {
        "id": "1CIl92bi0-tD"
      },
      "source": [
        "## Objetivos\n",
        "\n",
        "1. Objetivo General\n",
        "    - Simular portafolios de inversión modificando la diversificación de los activos para comparar su rendimiento. \n",
        "    \n",
        "\n",
        "2. Objetivos Específicos\n",
        "    - Comparar el rendimiento de un portafolio variando los activos dentro de un mismo sector utilizando simulaciones\n",
        "    - Utilizar la simulación para comparar el rendimiento de un portafolio modificando el peso de cada acción"
      ]
    },
    {
      "cell_type": "markdown",
      "metadata": {
        "id": "AxqoNNTe0-tE"
      },
      "source": [
        "# Modelo que representa el problema\n",
        "\n",
        "Para realizar las simulaciones se requirieron parámetros estadísticos de cada conjunto de datos con el fin de poder simular su comportamiento. Estos parámetros son la media y desviación estándar. La media se puede definir como un valor promedio de un conjunto de datos numéricos, se calcula de la siguiente manera (López, 2021):\n",
        "\n",
        "$$\\bar{x} = \\frac{\\sum_{i=1}^{n}{x_i}}{n} $$\n",
        "\n",
        "En la misma línea, la desviación estándar es otra medida estadística que calcula la dispersión media de una variable. Es decir, mide la dispersión de los datos con relación a la media aritmética (López, 2020). Se calcula de la siguiente forma: \n",
        "\n",
        "$$σ = \\sqrt{\\frac{\\sum_{i=1}^{n}{(x_i-\\bar{x})^2}}{n}} $$\n",
        "\n",
        "De acuerdo con Poldrack (2021), utilizando estas medidas estadísticas es posible establecer un dominio posible de valores y una distribución de probabilidad. A partir de esto, es posible realizar la simulación Montecarlo con números aleatorios dentro de este dominio para estimar la probabilidad de un resultado específico repitiendo el proceso cualquier cantidad de veces. "
      ]
    },
    {
      "cell_type": "code",
      "execution_count": 1,
      "metadata": {
        "colab": {
          "base_uri": "https://localhost:8080/"
        },
        "id": "zGVUOuv4qZN7",
        "outputId": "3da3c8e4-52d5-4f1f-ab52-556682369760"
      },
      "outputs": [
        {
          "output_type": "stream",
          "name": "stdout",
          "text": [
            "Looking in indexes: https://pypi.org/simple, https://us-python.pkg.dev/colab-wheels/public/simple/\n",
            "Requirement already satisfied: yfinance in /usr/local/lib/python3.9/dist-packages (0.2.18)\n",
            "Requirement already satisfied: multitasking>=0.0.7 in /usr/local/lib/python3.9/dist-packages (from yfinance) (0.0.11)\n",
            "Requirement already satisfied: pytz>=2022.5 in /usr/local/lib/python3.9/dist-packages (from yfinance) (2022.7.1)\n",
            "Requirement already satisfied: cryptography>=3.3.2 in /usr/local/lib/python3.9/dist-packages (from yfinance) (40.0.2)\n",
            "Requirement already satisfied: requests>=2.26 in /usr/local/lib/python3.9/dist-packages (from yfinance) (2.27.1)\n",
            "Requirement already satisfied: lxml>=4.9.1 in /usr/local/lib/python3.9/dist-packages (from yfinance) (4.9.2)\n",
            "Requirement already satisfied: beautifulsoup4>=4.11.1 in /usr/local/lib/python3.9/dist-packages (from yfinance) (4.11.2)\n",
            "Requirement already satisfied: appdirs>=1.4.4 in /usr/local/lib/python3.9/dist-packages (from yfinance) (1.4.4)\n",
            "Requirement already satisfied: html5lib>=1.1 in /usr/local/lib/python3.9/dist-packages (from yfinance) (1.1)\n",
            "Requirement already satisfied: pandas>=1.3.0 in /usr/local/lib/python3.9/dist-packages (from yfinance) (1.5.3)\n",
            "Requirement already satisfied: numpy>=1.16.5 in /usr/local/lib/python3.9/dist-packages (from yfinance) (1.22.4)\n",
            "Requirement already satisfied: frozendict>=2.3.4 in /usr/local/lib/python3.9/dist-packages (from yfinance) (2.3.7)\n",
            "Requirement already satisfied: soupsieve>1.2 in /usr/local/lib/python3.9/dist-packages (from beautifulsoup4>=4.11.1->yfinance) (2.4.1)\n",
            "Requirement already satisfied: cffi>=1.12 in /usr/local/lib/python3.9/dist-packages (from cryptography>=3.3.2->yfinance) (1.15.1)\n",
            "Requirement already satisfied: webencodings in /usr/local/lib/python3.9/dist-packages (from html5lib>=1.1->yfinance) (0.5.1)\n",
            "Requirement already satisfied: six>=1.9 in /usr/local/lib/python3.9/dist-packages (from html5lib>=1.1->yfinance) (1.16.0)\n",
            "Requirement already satisfied: python-dateutil>=2.8.1 in /usr/local/lib/python3.9/dist-packages (from pandas>=1.3.0->yfinance) (2.8.2)\n",
            "Requirement already satisfied: idna<4,>=2.5 in /usr/local/lib/python3.9/dist-packages (from requests>=2.26->yfinance) (3.4)\n",
            "Requirement already satisfied: urllib3<1.27,>=1.21.1 in /usr/local/lib/python3.9/dist-packages (from requests>=2.26->yfinance) (1.26.15)\n",
            "Requirement already satisfied: certifi>=2017.4.17 in /usr/local/lib/python3.9/dist-packages (from requests>=2.26->yfinance) (2022.12.7)\n",
            "Requirement already satisfied: charset-normalizer~=2.0.0 in /usr/local/lib/python3.9/dist-packages (from requests>=2.26->yfinance) (2.0.12)\n",
            "Requirement already satisfied: pycparser in /usr/local/lib/python3.9/dist-packages (from cffi>=1.12->cryptography>=3.3.2->yfinance) (2.21)\n"
          ]
        }
      ],
      "source": [
        "# Instalación del paquete\n",
        "!pip install yfinance\n",
        "\n",
        "# conda install pandas-datareader\n",
        "# pip install pandas-datareader"
      ]
    },
    {
      "cell_type": "code",
      "execution_count": 2,
      "metadata": {
        "id": "6dWVPPUuqZN7"
      },
      "outputs": [],
      "source": [
        "import yfinance as yf\n",
        "import pandas_datareader.data as web\n",
        "import pandas as pd\n",
        "import numpy as np\n",
        "import matplotlib.pyplot as plt\n",
        "%matplotlib inline"
      ]
    },
    {
      "cell_type": "code",
      "execution_count": 3,
      "metadata": {
        "id": "aLNMPDVGsSvp"
      },
      "outputs": [],
      "source": [
        "def getClose(names, start, end):\n",
        "    return yf.download(names, start=start, end=end)[\"Adj Close\"]\n"
      ]
    },
    {
      "cell_type": "markdown",
      "metadata": {
        "id": "ICfEZ9Fq0-tI"
      },
      "source": [
        "## Planteamiento del problema\n",
        "\n",
        "Se proponen dos portafolios de inversión, ambos con seis activos pero modificando el porcentaje de inversión de capital en cada uno y modificando los activos en los que se invertirán. Se utilizará la simulación montecarlo para poder evaluar, visualizar y comparar el rendimiento de los distintos portafolios y determinar cual es el mejor de ellos.\n",
        "\n",
        "![portafolios.png](attachment:portafolios.png)"
      ]
    },
    {
      "cell_type": "markdown",
      "metadata": {
        "id": "p0yOrNumcClo"
      },
      "source": [
        "### Portafolio 1\n",
        "a1 = \"VTSMX\"\n",
        "a2 = \"VGSIX\"\n",
        "a3 = \"VTMGX\"\n",
        "a4 = \"VEIEX\"\n",
        "a5 = \"TLT\"\n",
        "a6 = \"VIPSX\"\n",
        "Cap = 10000\n",
        "c1 = Cap*0.30\n",
        "c2 = Cap*0.20\n",
        "c3 = Cap*0.15\n",
        "c4 = Cap*0.05\n",
        "c5 = Cap*0.15\n",
        "c6 = Cap*0.15"
      ]
    },
    {
      "cell_type": "code",
      "execution_count": 4,
      "metadata": {
        "colab": {
          "base_uri": "https://localhost:8080/"
        },
        "id": "0e9Hcj3GqZN8",
        "outputId": "086b6922-6f32-4003-e366-f257ca9bac5f"
      },
      "outputs": [
        {
          "output_type": "stream",
          "name": "stdout",
          "text": [
            "[*********************100%***********************]  6 of 6 completed\n"
          ]
        }
      ],
      "source": [
        "a1 = \"VTSMX\"\n",
        "a2 = \"VGSIX\"\n",
        "a3 = \"VTMGX\"\n",
        "a4 = \"VEIEX\"\n",
        "a5 = \"TLT\"\n",
        "a6 = \"VIPSX\"\n",
        "Cap = 10000\n",
        "c1 = Cap*0.30\n",
        "c2 = Cap*0.20\n",
        "c3 = Cap*0.15\n",
        "c4 = Cap*0.05\n",
        "c5 = Cap*0.15\n",
        "c6 = Cap*0.15\n",
        "ticker = a1,a2,a3,a4,a5,a6\n",
        "periodos = 1257 # Cantidad en dias de simulaciones\n",
        "inicio = \"2015-01-01\" #inicio de datos\n",
        "final = \"2019-12-31\" #final de datos\n",
        "fecha = \"2020-01-01\" # Primer dato a simular\n",
        "ffinal = \"2022-12-31\" #ultimo dato a simular\n",
        "per = 365*3 # Datos futuros a simular\n",
        "data_aapl = getClose(ticker,inicio,final)\n",
        "#data_aapl.plot.hist()\n"
      ]
    },
    {
      "cell_type": "code",
      "execution_count": 5,
      "metadata": {
        "colab": {
          "base_uri": "https://localhost:8080/",
          "height": 300
        },
        "id": "iNnbtDc3tFJh",
        "outputId": "928f8f8f-ff80-426c-dc1a-8270d68262e0"
      },
      "outputs": [
        {
          "output_type": "execute_result",
          "data": {
            "text/plain": [
              "               TLT        VEIEX        VGSIX        VIPSX        VTMGX  \\\n",
              "count  1257.000000  1257.000000  1257.000000  1257.000000  1257.000000   \n",
              "mean    111.378376    21.816248    22.462099    10.658743    10.938287   \n",
              "std       8.147651     2.690534     2.266176     0.315630     1.145631   \n",
              "min      96.759972    15.037102    17.975237    10.073915     8.385994   \n",
              "25%     105.776260    19.943319    20.867241    10.497035     9.846574   \n",
              "50%     109.938141    22.064123    22.285049    10.620103    11.068615   \n",
              "75%     113.537003    23.968912    23.301208    10.751198    12.013558   \n",
              "max     137.883041    28.038668    28.314682    11.560163    13.246049   \n",
              "\n",
              "             VTSMX  \n",
              "count  1257.000000  \n",
              "mean     56.166920  \n",
              "std       9.438039  \n",
              "min      40.122353  \n",
              "25%      46.652325  \n",
              "50%      55.615543  \n",
              "75%      64.614090  \n",
              "max      76.494553  "
            ],
            "text/html": [
              "\n",
              "  <div id=\"df-0e348241-052c-4103-a363-77cfcb95817a\">\n",
              "    <div class=\"colab-df-container\">\n",
              "      <div>\n",
              "<style scoped>\n",
              "    .dataframe tbody tr th:only-of-type {\n",
              "        vertical-align: middle;\n",
              "    }\n",
              "\n",
              "    .dataframe tbody tr th {\n",
              "        vertical-align: top;\n",
              "    }\n",
              "\n",
              "    .dataframe thead th {\n",
              "        text-align: right;\n",
              "    }\n",
              "</style>\n",
              "<table border=\"1\" class=\"dataframe\">\n",
              "  <thead>\n",
              "    <tr style=\"text-align: right;\">\n",
              "      <th></th>\n",
              "      <th>TLT</th>\n",
              "      <th>VEIEX</th>\n",
              "      <th>VGSIX</th>\n",
              "      <th>VIPSX</th>\n",
              "      <th>VTMGX</th>\n",
              "      <th>VTSMX</th>\n",
              "    </tr>\n",
              "  </thead>\n",
              "  <tbody>\n",
              "    <tr>\n",
              "      <th>count</th>\n",
              "      <td>1257.000000</td>\n",
              "      <td>1257.000000</td>\n",
              "      <td>1257.000000</td>\n",
              "      <td>1257.000000</td>\n",
              "      <td>1257.000000</td>\n",
              "      <td>1257.000000</td>\n",
              "    </tr>\n",
              "    <tr>\n",
              "      <th>mean</th>\n",
              "      <td>111.378376</td>\n",
              "      <td>21.816248</td>\n",
              "      <td>22.462099</td>\n",
              "      <td>10.658743</td>\n",
              "      <td>10.938287</td>\n",
              "      <td>56.166920</td>\n",
              "    </tr>\n",
              "    <tr>\n",
              "      <th>std</th>\n",
              "      <td>8.147651</td>\n",
              "      <td>2.690534</td>\n",
              "      <td>2.266176</td>\n",
              "      <td>0.315630</td>\n",
              "      <td>1.145631</td>\n",
              "      <td>9.438039</td>\n",
              "    </tr>\n",
              "    <tr>\n",
              "      <th>min</th>\n",
              "      <td>96.759972</td>\n",
              "      <td>15.037102</td>\n",
              "      <td>17.975237</td>\n",
              "      <td>10.073915</td>\n",
              "      <td>8.385994</td>\n",
              "      <td>40.122353</td>\n",
              "    </tr>\n",
              "    <tr>\n",
              "      <th>25%</th>\n",
              "      <td>105.776260</td>\n",
              "      <td>19.943319</td>\n",
              "      <td>20.867241</td>\n",
              "      <td>10.497035</td>\n",
              "      <td>9.846574</td>\n",
              "      <td>46.652325</td>\n",
              "    </tr>\n",
              "    <tr>\n",
              "      <th>50%</th>\n",
              "      <td>109.938141</td>\n",
              "      <td>22.064123</td>\n",
              "      <td>22.285049</td>\n",
              "      <td>10.620103</td>\n",
              "      <td>11.068615</td>\n",
              "      <td>55.615543</td>\n",
              "    </tr>\n",
              "    <tr>\n",
              "      <th>75%</th>\n",
              "      <td>113.537003</td>\n",
              "      <td>23.968912</td>\n",
              "      <td>23.301208</td>\n",
              "      <td>10.751198</td>\n",
              "      <td>12.013558</td>\n",
              "      <td>64.614090</td>\n",
              "    </tr>\n",
              "    <tr>\n",
              "      <th>max</th>\n",
              "      <td>137.883041</td>\n",
              "      <td>28.038668</td>\n",
              "      <td>28.314682</td>\n",
              "      <td>11.560163</td>\n",
              "      <td>13.246049</td>\n",
              "      <td>76.494553</td>\n",
              "    </tr>\n",
              "  </tbody>\n",
              "</table>\n",
              "</div>\n",
              "      <button class=\"colab-df-convert\" onclick=\"convertToInteractive('df-0e348241-052c-4103-a363-77cfcb95817a')\"\n",
              "              title=\"Convert this dataframe to an interactive table.\"\n",
              "              style=\"display:none;\">\n",
              "        \n",
              "  <svg xmlns=\"http://www.w3.org/2000/svg\" height=\"24px\"viewBox=\"0 0 24 24\"\n",
              "       width=\"24px\">\n",
              "    <path d=\"M0 0h24v24H0V0z\" fill=\"none\"/>\n",
              "    <path d=\"M18.56 5.44l.94 2.06.94-2.06 2.06-.94-2.06-.94-.94-2.06-.94 2.06-2.06.94zm-11 1L8.5 8.5l.94-2.06 2.06-.94-2.06-.94L8.5 2.5l-.94 2.06-2.06.94zm10 10l.94 2.06.94-2.06 2.06-.94-2.06-.94-.94-2.06-.94 2.06-2.06.94z\"/><path d=\"M17.41 7.96l-1.37-1.37c-.4-.4-.92-.59-1.43-.59-.52 0-1.04.2-1.43.59L10.3 9.45l-7.72 7.72c-.78.78-.78 2.05 0 2.83L4 21.41c.39.39.9.59 1.41.59.51 0 1.02-.2 1.41-.59l7.78-7.78 2.81-2.81c.8-.78.8-2.07 0-2.86zM5.41 20L4 18.59l7.72-7.72 1.47 1.35L5.41 20z\"/>\n",
              "  </svg>\n",
              "      </button>\n",
              "      \n",
              "  <style>\n",
              "    .colab-df-container {\n",
              "      display:flex;\n",
              "      flex-wrap:wrap;\n",
              "      gap: 12px;\n",
              "    }\n",
              "\n",
              "    .colab-df-convert {\n",
              "      background-color: #E8F0FE;\n",
              "      border: none;\n",
              "      border-radius: 50%;\n",
              "      cursor: pointer;\n",
              "      display: none;\n",
              "      fill: #1967D2;\n",
              "      height: 32px;\n",
              "      padding: 0 0 0 0;\n",
              "      width: 32px;\n",
              "    }\n",
              "\n",
              "    .colab-df-convert:hover {\n",
              "      background-color: #E2EBFA;\n",
              "      box-shadow: 0px 1px 2px rgba(60, 64, 67, 0.3), 0px 1px 3px 1px rgba(60, 64, 67, 0.15);\n",
              "      fill: #174EA6;\n",
              "    }\n",
              "\n",
              "    [theme=dark] .colab-df-convert {\n",
              "      background-color: #3B4455;\n",
              "      fill: #D2E3FC;\n",
              "    }\n",
              "\n",
              "    [theme=dark] .colab-df-convert:hover {\n",
              "      background-color: #434B5C;\n",
              "      box-shadow: 0px 1px 3px 1px rgba(0, 0, 0, 0.15);\n",
              "      filter: drop-shadow(0px 1px 2px rgba(0, 0, 0, 0.3));\n",
              "      fill: #FFFFFF;\n",
              "    }\n",
              "  </style>\n",
              "\n",
              "      <script>\n",
              "        const buttonEl =\n",
              "          document.querySelector('#df-0e348241-052c-4103-a363-77cfcb95817a button.colab-df-convert');\n",
              "        buttonEl.style.display =\n",
              "          google.colab.kernel.accessAllowed ? 'block' : 'none';\n",
              "\n",
              "        async function convertToInteractive(key) {\n",
              "          const element = document.querySelector('#df-0e348241-052c-4103-a363-77cfcb95817a');\n",
              "          const dataTable =\n",
              "            await google.colab.kernel.invokeFunction('convertToInteractive',\n",
              "                                                     [key], {});\n",
              "          if (!dataTable) return;\n",
              "\n",
              "          const docLinkHtml = 'Like what you see? Visit the ' +\n",
              "            '<a target=\"_blank\" href=https://colab.research.google.com/notebooks/data_table.ipynb>data table notebook</a>'\n",
              "            + ' to learn more about interactive tables.';\n",
              "          element.innerHTML = '';\n",
              "          dataTable['output_type'] = 'display_data';\n",
              "          await google.colab.output.renderOutput(dataTable, element);\n",
              "          const docLink = document.createElement('div');\n",
              "          docLink.innerHTML = docLinkHtml;\n",
              "          element.appendChild(docLink);\n",
              "        }\n",
              "      </script>\n",
              "    </div>\n",
              "  </div>\n",
              "  "
            ]
          },
          "metadata": {},
          "execution_count": 5
        }
      ],
      "source": [
        "data_aapl.describe()"
      ]
    },
    {
      "cell_type": "markdown",
      "metadata": {
        "id": "BUyoOeEOqZN8"
      },
      "source": [
        "Calcule los rendimientos diarios junto con sus características estadísticas"
      ]
    },
    {
      "cell_type": "code",
      "execution_count": 6,
      "metadata": {
        "colab": {
          "base_uri": "https://localhost:8080/",
          "height": 860
        },
        "id": "eboX7W3FqZN8",
        "outputId": "e58007c4-b870-4667-9784-4be233cc0b45"
      },
      "outputs": [
        {
          "output_type": "execute_result",
          "data": {
            "text/plain": [
              "<Axes: ylabel='Frequency'>"
            ]
          },
          "metadata": {},
          "execution_count": 6
        },
        {
          "output_type": "display_data",
          "data": {
            "text/plain": [
              "<Figure size 640x480 with 1 Axes>"
            ],
            "image/png": "[encoded data removed]"
          },
          "metadata": {}
        },
        {
          "output_type": "display_data",
          "data": {
            "text/plain": [
              "<Figure size 640x480 with 1 Axes>"
            ],
            "image/png": "[encoded data removed]"
          },
          "metadata": {}
        }
      ],
      "source": [
        "R = (data_aapl - data_aapl.shift())/data_aapl.shift()\n",
        "r = np.log(data_aapl/data_aapl.shift())\n",
        "\n",
        "r.plot.hist(alpha = 0.5)\n",
        "R.plot.hist(alpha = 0.5)"
      ]
    },
    {
      "cell_type": "code",
      "execution_count": 7,
      "metadata": {
        "id": "eJkb2ZKcqZN8"
      },
      "outputs": [],
      "source": [
        "R_1_mean = R[a1].mean()\n",
        "R_1_std = R[a1].std()\n",
        "\n",
        "R_2_mean = R[a2].mean()\n",
        "R_2_std = R[a2].std()\n",
        "\n",
        "R_3_mean = R[a3].mean()\n",
        "R_3_std = R[a3].std()\n",
        "\n",
        "R_4_mean = R[a4].mean()\n",
        "R_4_std = R[a4].std()\n",
        "\n",
        "R_5_mean = R[a5].mean()\n",
        "R_5_std = R[a5].std()\n",
        "\n",
        "R_6_mean = R[a6].mean()\n",
        "R_6_std = R[a6].std()\n"
      ]
    },
    {
      "cell_type": "code",
      "execution_count": 8,
      "metadata": {
        "id": "6tK0RWtbqZN9"
      },
      "outputs": [],
      "source": [
        "def sim_r(media, std, inicio, dias, N):\n",
        "    # media \n",
        "    # desviación estándar\n",
        "    # desde qué fecha inicio a simular\n",
        "    # cuántos días voy a simular\n",
        "    # N: cuántas simulaciones\n",
        "    r = np.random.normal(media, std, size=(dias, N))\n",
        "    fechas = pd.date_range(inicio, periods=dias)\n",
        "    return pd.DataFrame(index = fechas, data = r)\n",
        "r_1_simulados = sim_r(R_1_mean, R_1_std, fecha, per, 1000)\n",
        "r_2_simulados = sim_r(R_2_mean, R_2_std, fecha, per, 1000)\n",
        "r_3_simulados = sim_r(R_1_mean, R_1_std, fecha, per, 1000)\n",
        "r_4_simulados = sim_r(R_2_mean, R_2_std, fecha, per, 1000)\n",
        "r_5_simulados = sim_r(R_1_mean, R_1_std, fecha, per, 1000)\n",
        "r_6_simulados = sim_r(R_1_mean, R_1_std, fecha, per, 1000)\n"
      ]
    },
    {
      "cell_type": "code",
      "execution_count": 9,
      "metadata": {
        "colab": {
          "base_uri": "https://localhost:8080/",
          "height": 661
        },
        "id": "HxNazR5TqZN9",
        "outputId": "02ba2969-d4d1-4bb3-bb6a-4698566da2cc"
      },
      "outputs": [
        {
          "output_type": "execute_result",
          "data": {
            "text/plain": [
              "                 0         1         2         3         4         5    \\\n",
              "2020-01-01  0.993309  0.995768  0.996488  0.994768  0.999248  0.998174   \n",
              "2020-01-02  0.995676  1.008674  0.985947  1.004134  1.009742  0.985405   \n",
              "2020-01-03  0.979800  1.011615  0.994821  1.000845  1.028628  0.979787   \n",
              "2020-01-04  0.987085  1.024056  0.984613  1.006105  1.040537  0.983070   \n",
              "2020-01-05  1.003375  1.023051  0.983868  1.005547  1.030508  0.992530   \n",
              "...              ...       ...       ...       ...       ...       ...   \n",
              "2022-12-26  1.170484  1.738237  1.012419  2.060701  1.755239  1.867295   \n",
              "2022-12-27  1.171360  1.741919  1.022069  2.075559  1.760826  1.868261   \n",
              "2022-12-28  1.160500  1.772538  1.033675  2.078395  1.750608  1.855823   \n",
              "2022-12-29  1.165863  1.750743  1.029446  2.046923  1.767733  1.851539   \n",
              "2022-12-30  1.171088  1.765002  1.034604  2.042150  1.764621  1.875992   \n",
              "\n",
              "                 6         7         8         9    ...       990       991  \\\n",
              "2020-01-01  1.005734  1.008830  1.001371  1.002210  ...  0.998518  0.992580   \n",
              "2020-01-02  1.001952  0.990447  1.000104  0.996428  ...  1.004513  0.984512   \n",
              "2020-01-03  0.994058  0.992042  0.997336  1.005313  ...  1.003134  0.985750   \n",
              "2020-01-04  0.992155  0.993116  0.986727  1.003220  ...  0.998396  0.981367   \n",
              "2020-01-05  0.989604  0.989060  0.997560  1.001772  ...  0.997433  0.993016   \n",
              "...              ...       ...       ...       ...  ...       ...       ...   \n",
              "2022-12-26  1.336037  1.127249  1.984813  1.753558  ...  1.734668  1.158782   \n",
              "2022-12-27  1.327432  1.119781  1.969891  1.745641  ...  1.712910  1.157128   \n",
              "2022-12-28  1.328350  1.118276  1.957152  1.724909  ...  1.734149  1.156343   \n",
              "2022-12-29  1.331483  1.111633  1.969013  1.700334  ...  1.761928  1.164447   \n",
              "2022-12-30  1.324283  1.127314  1.976461  1.699420  ...  1.769869  1.168289   \n",
              "\n",
              "                 992       993       994       995       996       997  \\\n",
              "2020-01-01  0.974617  1.015476  0.993547  0.998138  1.001038  0.991821   \n",
              "2020-01-02  0.974721  1.025773  0.988171  0.988880  0.983800  0.996824   \n",
              "2020-01-03  0.982422  1.007968  0.985635  0.978626  0.971791  1.004824   \n",
              "2020-01-04  0.986198  1.004930  0.980944  0.981617  0.974447  1.003996   \n",
              "2020-01-05  0.979637  0.994714  0.986444  0.987200  0.978194  1.012684   \n",
              "...              ...       ...       ...       ...       ...       ...   \n",
              "2022-12-26  1.465232  1.068820  1.173885  1.135595  0.994957  1.302014   \n",
              "2022-12-27  1.455852  1.057016  1.179284  1.141077  0.990688  1.304474   \n",
              "2022-12-28  1.456398  1.054029  1.182386  1.143850  0.994247  1.303739   \n",
              "2022-12-29  1.467084  1.055929  1.190664  1.144039  0.995277  1.299814   \n",
              "2022-12-30  1.455316  1.063510  1.192634  1.143505  1.003004  1.309432   \n",
              "\n",
              "                 998       999  \n",
              "2020-01-01  1.000470  1.003428  \n",
              "2020-01-02  1.020971  0.998688  \n",
              "2020-01-03  1.017047  1.002780  \n",
              "2020-01-04  1.028847  0.989768  \n",
              "2020-01-05  1.036126  1.001055  \n",
              "...              ...       ...  \n",
              "2022-12-26  1.025572  1.180399  \n",
              "2022-12-27  1.025732  1.180747  \n",
              "2022-12-28  1.020994  1.189594  \n",
              "2022-12-29  1.021881  1.191121  \n",
              "2022-12-30  1.024678  1.186076  \n",
              "\n",
              "[1095 rows x 1000 columns]"
            ],
            "text/html": [
              "\n",
              "  <div id=\"df-5662e86c-9f7b-4e86-8b5c-fed4e8a076fb\">\n",
              "    <div class=\"colab-df-container\">\n",
              "      <div>\n",
              "<style scoped>\n",
              "    .dataframe tbody tr th:only-of-type {\n",
              "        vertical-align: middle;\n",
              "    }\n",
              "\n",
              "    .dataframe tbody tr th {\n",
              "        vertical-align: top;\n",
              "    }\n",
              "\n",
              "    .dataframe thead th {\n",
              "        text-align: right;\n",
              "    }\n",
              "</style>\n",
              "<table border=\"1\" class=\"dataframe\">\n",
              "  <thead>\n",
              "    <tr style=\"text-align: right;\">\n",
              "      <th></th>\n",
              "      <th>0</th>\n",
              "      <th>1</th>\n",
              "      <th>2</th>\n",
              "      <th>3</th>\n",
              "      <th>4</th>\n",
              "      <th>5</th>\n",
              "      <th>6</th>\n",
              "      <th>7</th>\n",
              "      <th>8</th>\n",
              "      <th>9</th>\n",
              "      <th>...</th>\n",
              "      <th>990</th>\n",
              "      <th>991</th>\n",
              "      <th>992</th>\n",
              "      <th>993</th>\n",
              "      <th>994</th>\n",
              "      <th>995</th>\n",
              "      <th>996</th>\n",
              "      <th>997</th>\n",
              "      <th>998</th>\n",
              "      <th>999</th>\n",
              "    </tr>\n",
              "  </thead>\n",
              "  <tbody>\n",
              "    <tr>\n",
              "      <th>2020-01-01</th>\n",
              "      <td>0.993309</td>\n",
              "      <td>0.995768</td>\n",
              "      <td>0.996488</td>\n",
              "      <td>0.994768</td>\n",
              "      <td>0.999248</td>\n",
              "      <td>0.998174</td>\n",
              "      <td>1.005734</td>\n",
              "      <td>1.008830</td>\n",
              "      <td>1.001371</td>\n",
              "      <td>1.002210</td>\n",
              "      <td>...</td>\n",
              "      <td>0.998518</td>\n",
              "      <td>0.992580</td>\n",
              "      <td>0.974617</td>\n",
              "      <td>1.015476</td>\n",
              "      <td>0.993547</td>\n",
              "      <td>0.998138</td>\n",
              "      <td>1.001038</td>\n",
              "      <td>0.991821</td>\n",
              "      <td>1.000470</td>\n",
              "      <td>1.003428</td>\n",
              "    </tr>\n",
              "    <tr>\n",
              "      <th>2020-01-02</th>\n",
              "      <td>0.995676</td>\n",
              "      <td>1.008674</td>\n",
              "      <td>0.985947</td>\n",
              "      <td>1.004134</td>\n",
              "      <td>1.009742</td>\n",
              "      <td>0.985405</td>\n",
              "      <td>1.001952</td>\n",
              "      <td>0.990447</td>\n",
              "      <td>1.000104</td>\n",
              "      <td>0.996428</td>\n",
              "      <td>...</td>\n",
              "      <td>1.004513</td>\n",
              "      <td>0.984512</td>\n",
              "      <td>0.974721</td>\n",
              "      <td>1.025773</td>\n",
              "      <td>0.988171</td>\n",
              "      <td>0.988880</td>\n",
              "      <td>0.983800</td>\n",
              "      <td>0.996824</td>\n",
              "      <td>1.020971</td>\n",
              "      <td>0.998688</td>\n",
              "    </tr>\n",
              "    <tr>\n",
              "      <th>2020-01-03</th>\n",
              "      <td>0.979800</td>\n",
              "      <td>1.011615</td>\n",
              "      <td>0.994821</td>\n",
              "      <td>1.000845</td>\n",
              "      <td>1.028628</td>\n",
              "      <td>0.979787</td>\n",
              "      <td>0.994058</td>\n",
              "      <td>0.992042</td>\n",
              "      <td>0.997336</td>\n",
              "      <td>1.005313</td>\n",
              "      <td>...</td>\n",
              "      <td>1.003134</td>\n",
              "      <td>0.985750</td>\n",
              "      <td>0.982422</td>\n",
              "      <td>1.007968</td>\n",
              "      <td>0.985635</td>\n",
              "      <td>0.978626</td>\n",
              "      <td>0.971791</td>\n",
              "      <td>1.004824</td>\n",
              "      <td>1.017047</td>\n",
              "      <td>1.002780</td>\n",
              "    </tr>\n",
              "    <tr>\n",
              "      <th>2020-01-04</th>\n",
              "      <td>0.987085</td>\n",
              "      <td>1.024056</td>\n",
              "      <td>0.984613</td>\n",
              "      <td>1.006105</td>\n",
              "      <td>1.040537</td>\n",
              "      <td>0.983070</td>\n",
              "      <td>0.992155</td>\n",
              "      <td>0.993116</td>\n",
              "      <td>0.986727</td>\n",
              "      <td>1.003220</td>\n",
              "      <td>...</td>\n",
              "      <td>0.998396</td>\n",
              "      <td>0.981367</td>\n",
              "      <td>0.986198</td>\n",
              "      <td>1.004930</td>\n",
              "      <td>0.980944</td>\n",
              "      <td>0.981617</td>\n",
              "      <td>0.974447</td>\n",
              "      <td>1.003996</td>\n",
              "      <td>1.028847</td>\n",
              "      <td>0.989768</td>\n",
              "    </tr>\n",
              "    <tr>\n",
              "      <th>2020-01-05</th>\n",
              "      <td>1.003375</td>\n",
              "      <td>1.023051</td>\n",
              "      <td>0.983868</td>\n",
              "      <td>1.005547</td>\n",
              "      <td>1.030508</td>\n",
              "      <td>0.992530</td>\n",
              "      <td>0.989604</td>\n",
              "      <td>0.989060</td>\n",
              "      <td>0.997560</td>\n",
              "      <td>1.001772</td>\n",
              "      <td>...</td>\n",
              "      <td>0.997433</td>\n",
              "      <td>0.993016</td>\n",
              "      <td>0.979637</td>\n",
              "      <td>0.994714</td>\n",
              "      <td>0.986444</td>\n",
              "      <td>0.987200</td>\n",
              "      <td>0.978194</td>\n",
              "      <td>1.012684</td>\n",
              "      <td>1.036126</td>\n",
              "      <td>1.001055</td>\n",
              "    </tr>\n",
              "    <tr>\n",
              "      <th>...</th>\n",
              "      <td>...</td>\n",
              "      <td>...</td>\n",
              "      <td>...</td>\n",
              "      <td>...</td>\n",
              "      <td>...</td>\n",
              "      <td>...</td>\n",
              "      <td>...</td>\n",
              "      <td>...</td>\n",
              "      <td>...</td>\n",
              "      <td>...</td>\n",
              "      <td>...</td>\n",
              "      <td>...</td>\n",
              "      <td>...</td>\n",
              "      <td>...</td>\n",
              "      <td>...</td>\n",
              "      <td>...</td>\n",
              "      <td>...</td>\n",
              "      <td>...</td>\n",
              "      <td>...</td>\n",
              "      <td>...</td>\n",
              "      <td>...</td>\n",
              "    </tr>\n",
              "    <tr>\n",
              "      <th>2022-12-26</th>\n",
              "      <td>1.170484</td>\n",
              "      <td>1.738237</td>\n",
              "      <td>1.012419</td>\n",
              "      <td>2.060701</td>\n",
              "      <td>1.755239</td>\n",
              "      <td>1.867295</td>\n",
              "      <td>1.336037</td>\n",
              "      <td>1.127249</td>\n",
              "      <td>1.984813</td>\n",
              "      <td>1.753558</td>\n",
              "      <td>...</td>\n",
              "      <td>1.734668</td>\n",
              "      <td>1.158782</td>\n",
              "      <td>1.465232</td>\n",
              "      <td>1.068820</td>\n",
              "      <td>1.173885</td>\n",
              "      <td>1.135595</td>\n",
              "      <td>0.994957</td>\n",
              "      <td>1.302014</td>\n",
              "      <td>1.025572</td>\n",
              "      <td>1.180399</td>\n",
              "    </tr>\n",
              "    <tr>\n",
              "      <th>2022-12-27</th>\n",
              "      <td>1.171360</td>\n",
              "      <td>1.741919</td>\n",
              "      <td>1.022069</td>\n",
              "      <td>2.075559</td>\n",
              "      <td>1.760826</td>\n",
              "      <td>1.868261</td>\n",
              "      <td>1.327432</td>\n",
              "      <td>1.119781</td>\n",
              "      <td>1.969891</td>\n",
              "      <td>1.745641</td>\n",
              "      <td>...</td>\n",
              "      <td>1.712910</td>\n",
              "      <td>1.157128</td>\n",
              "      <td>1.455852</td>\n",
              "      <td>1.057016</td>\n",
              "      <td>1.179284</td>\n",
              "      <td>1.141077</td>\n",
              "      <td>0.990688</td>\n",
              "      <td>1.304474</td>\n",
              "      <td>1.025732</td>\n",
              "      <td>1.180747</td>\n",
              "    </tr>\n",
              "    <tr>\n",
              "      <th>2022-12-28</th>\n",
              "      <td>1.160500</td>\n",
              "      <td>1.772538</td>\n",
              "      <td>1.033675</td>\n",
              "      <td>2.078395</td>\n",
              "      <td>1.750608</td>\n",
              "      <td>1.855823</td>\n",
              "      <td>1.328350</td>\n",
              "      <td>1.118276</td>\n",
              "      <td>1.957152</td>\n",
              "      <td>1.724909</td>\n",
              "      <td>...</td>\n",
              "      <td>1.734149</td>\n",
              "      <td>1.156343</td>\n",
              "      <td>1.456398</td>\n",
              "      <td>1.054029</td>\n",
              "      <td>1.182386</td>\n",
              "      <td>1.143850</td>\n",
              "      <td>0.994247</td>\n",
              "      <td>1.303739</td>\n",
              "      <td>1.020994</td>\n",
              "      <td>1.189594</td>\n",
              "    </tr>\n",
              "    <tr>\n",
              "      <th>2022-12-29</th>\n",
              "      <td>1.165863</td>\n",
              "      <td>1.750743</td>\n",
              "      <td>1.029446</td>\n",
              "      <td>2.046923</td>\n",
              "      <td>1.767733</td>\n",
              "      <td>1.851539</td>\n",
              "      <td>1.331483</td>\n",
              "      <td>1.111633</td>\n",
              "      <td>1.969013</td>\n",
              "      <td>1.700334</td>\n",
              "      <td>...</td>\n",
              "      <td>1.761928</td>\n",
              "      <td>1.164447</td>\n",
              "      <td>1.467084</td>\n",
              "      <td>1.055929</td>\n",
              "      <td>1.190664</td>\n",
              "      <td>1.144039</td>\n",
              "      <td>0.995277</td>\n",
              "      <td>1.299814</td>\n",
              "      <td>1.021881</td>\n",
              "      <td>1.191121</td>\n",
              "    </tr>\n",
              "    <tr>\n",
              "      <th>2022-12-30</th>\n",
              "      <td>1.171088</td>\n",
              "      <td>1.765002</td>\n",
              "      <td>1.034604</td>\n",
              "      <td>2.042150</td>\n",
              "      <td>1.764621</td>\n",
              "      <td>1.875992</td>\n",
              "      <td>1.324283</td>\n",
              "      <td>1.127314</td>\n",
              "      <td>1.976461</td>\n",
              "      <td>1.699420</td>\n",
              "      <td>...</td>\n",
              "      <td>1.769869</td>\n",
              "      <td>1.168289</td>\n",
              "      <td>1.455316</td>\n",
              "      <td>1.063510</td>\n",
              "      <td>1.192634</td>\n",
              "      <td>1.143505</td>\n",
              "      <td>1.003004</td>\n",
              "      <td>1.309432</td>\n",
              "      <td>1.024678</td>\n",
              "      <td>1.186076</td>\n",
              "    </tr>\n",
              "  </tbody>\n",
              "</table>\n",
              "<p>1095 rows × 1000 columns</p>\n",
              "</div>\n",
              "      <button class=\"colab-df-convert\" onclick=\"convertToInteractive('df-5662e86c-9f7b-4e86-8b5c-fed4e8a076fb')\"\n",
              "              title=\"Convert this dataframe to an interactive table.\"\n",
              "              style=\"display:none;\">\n",
              "        \n",
              "  <svg xmlns=\"http://www.w3.org/2000/svg\" height=\"24px\"viewBox=\"0 0 24 24\"\n",
              "       width=\"24px\">\n",
              "    <path d=\"M0 0h24v24H0V0z\" fill=\"none\"/>\n",
              "    <path d=\"M18.56 5.44l.94 2.06.94-2.06 2.06-.94-2.06-.94-.94-2.06-.94 2.06-2.06.94zm-11 1L8.5 8.5l.94-2.06 2.06-.94-2.06-.94L8.5 2.5l-.94 2.06-2.06.94zm10 10l.94 2.06.94-2.06 2.06-.94-2.06-.94-.94-2.06-.94 2.06-2.06.94z\"/><path d=\"M17.41 7.96l-1.37-1.37c-.4-.4-.92-.59-1.43-.59-.52 0-1.04.2-1.43.59L10.3 9.45l-7.72 7.72c-.78.78-.78 2.05 0 2.83L4 21.41c.39.39.9.59 1.41.59.51 0 1.02-.2 1.41-.59l7.78-7.78 2.81-2.81c.8-.78.8-2.07 0-2.86zM5.41 20L4 18.59l7.72-7.72 1.47 1.35L5.41 20z\"/>\n",
              "  </svg>\n",
              "      </button>\n",
              "      \n",
              "  <style>\n",
              "    .colab-df-container {\n",
              "      display:flex;\n",
              "      flex-wrap:wrap;\n",
              "      gap: 12px;\n",
              "    }\n",
              "\n",
              "    .colab-df-convert {\n",
              "      background-color: #E8F0FE;\n",
              "      border: none;\n",
              "      border-radius: 50%;\n",
              "      cursor: pointer;\n",
              "      display: none;\n",
              "      fill: #1967D2;\n",
              "      height: 32px;\n",
              "      padding: 0 0 0 0;\n",
              "      width: 32px;\n",
              "    }\n",
              "\n",
              "    .colab-df-convert:hover {\n",
              "      background-color: #E2EBFA;\n",
              "      box-shadow: 0px 1px 2px rgba(60, 64, 67, 0.3), 0px 1px 3px 1px rgba(60, 64, 67, 0.15);\n",
              "      fill: #174EA6;\n",
              "    }\n",
              "\n",
              "    [theme=dark] .colab-df-convert {\n",
              "      background-color: #3B4455;\n",
              "      fill: #D2E3FC;\n",
              "    }\n",
              "\n",
              "    [theme=dark] .colab-df-convert:hover {\n",
              "      background-color: #434B5C;\n",
              "      box-shadow: 0px 1px 3px 1px rgba(0, 0, 0, 0.15);\n",
              "      filter: drop-shadow(0px 1px 2px rgba(0, 0, 0, 0.3));\n",
              "      fill: #FFFFFF;\n",
              "    }\n",
              "  </style>\n",
              "\n",
              "      <script>\n",
              "        const buttonEl =\n",
              "          document.querySelector('#df-5662e86c-9f7b-4e86-8b5c-fed4e8a076fb button.colab-df-convert');\n",
              "        buttonEl.style.display =\n",
              "          google.colab.kernel.accessAllowed ? 'block' : 'none';\n",
              "\n",
              "        async function convertToInteractive(key) {\n",
              "          const element = document.querySelector('#df-5662e86c-9f7b-4e86-8b5c-fed4e8a076fb');\n",
              "          const dataTable =\n",
              "            await google.colab.kernel.invokeFunction('convertToInteractive',\n",
              "                                                     [key], {});\n",
              "          if (!dataTable) return;\n",
              "\n",
              "          const docLinkHtml = 'Like what you see? Visit the ' +\n",
              "            '<a target=\"_blank\" href=https://colab.research.google.com/notebooks/data_table.ipynb>data table notebook</a>'\n",
              "            + ' to learn more about interactive tables.';\n",
              "          element.innerHTML = '';\n",
              "          dataTable['output_type'] = 'display_data';\n",
              "          await google.colab.output.renderOutput(dataTable, element);\n",
              "          const docLink = document.createElement('div');\n",
              "          docLink.innerHTML = docLinkHtml;\n",
              "          element.appendChild(docLink);\n",
              "        }\n",
              "      </script>\n",
              "    </div>\n",
              "  </div>\n",
              "  "
            ]
          },
          "metadata": {},
          "execution_count": 9
        }
      ],
      "source": [
        "ra_1_simulados = (r_1_simulados + 1).cumprod() # r_simulados son cumprod es producto acumulado\n",
        "ra_2_simulados = (r_2_simulados + 1).cumprod() # r_simulados son cumprod es producto acumulado\n",
        "ra_3_simulados = (r_3_simulados + 1).cumprod() # r_simulados son cumprod es producto acumulado\n",
        "ra_4_simulados = (r_4_simulados + 1).cumprod() # r_simulados son cumprod es producto acumulado\n",
        "ra_5_simulados = (r_5_simulados + 1).cumprod() # r_simulados son cumprod es producto acumulado\n",
        "ra_6_simulados = (r_6_simulados + 1).cumprod() # r_simulados son cumprod es producto acumulado\n",
        "ra_6_simulados"
      ]
    },
    {
      "cell_type": "markdown",
      "metadata": {
        "id": "Hz3XG5dSqZN9"
      },
      "source": [
        "Calcule los precios con base en los rendimientos simulados"
      ]
    },
    {
      "cell_type": "code",
      "execution_count": 10,
      "metadata": {
        "colab": {
          "base_uri": "https://localhost:8080/"
        },
        "id": "AfcL37CYweFh",
        "outputId": "9a96f9b2-0f10-4e0a-9d88-2b976ed6591a"
      },
      "outputs": [
        {
          "output_type": "execute_result",
          "data": {
            "text/plain": [
              "2020-01-01    1500.756274\n",
              "2020-01-02    1501.615473\n",
              "2020-01-03    1502.370919\n",
              "2020-01-04    1503.271331\n",
              "2020-01-05    1503.595553\n",
              "                 ...     \n",
              "2022-12-26    2452.646345\n",
              "2022-12-27    2453.581598\n",
              "2022-12-28    2454.275020\n",
              "2022-12-29    2455.732354\n",
              "2022-12-30    2457.627291\n",
              "Freq: D, Length: 1095, dtype: float64"
            ]
          },
          "metadata": {},
          "execution_count": 10
        }
      ],
      "source": [
        "precios_1_simulados = ((r_1_simulados + 1).cumprod()*c1).mean(axis=1) # r_simulados son cumprod es producto acumulado\n",
        "precios_2_simulados = ((r_2_simulados + 1).cumprod()*c2).mean(axis=1) # r_simulados son cumprod es producto acumulado\n",
        "precios_3_simulados = ((r_3_simulados + 1).cumprod()*c3).mean(axis=1) # r_simulados son cumprod es producto acumulado\n",
        "precios_4_simulados = ((r_4_simulados + 1).cumprod()*c4).mean(axis=1) # r_simulados son cumprod es producto acumulado\n",
        "precios_5_simulados = ((r_5_simulados + 1).cumprod()*c5).mean(axis=1) # r_simulados son cumprod es producto acumulado\n",
        "precios_6_simulados = ((r_6_simulados + 1).cumprod()*c6).mean(axis=1) # r_simulados son cumprod es producto acumulado\n",
        "precios_6_simulados"
      ]
    },
    {
      "cell_type": "code",
      "execution_count": 11,
      "metadata": {
        "id": "ck3RpTWTxggn"
      },
      "outputs": [],
      "source": [
        "m1 = pd.DataFrame(precios_1_simulados)\n",
        "m2 = pd.DataFrame(precios_2_simulados)\n",
        "m3 = pd.DataFrame(precios_3_simulados)\n",
        "m4 = pd.DataFrame(precios_4_simulados)\n",
        "m5 = pd.DataFrame(precios_5_simulados)\n",
        "m6 = pd.DataFrame(precios_6_simulados)\n"
      ]
    },
    {
      "cell_type": "code",
      "execution_count": 12,
      "metadata": {
        "colab": {
          "base_uri": "https://localhost:8080/",
          "height": 424
        },
        "id": "Jvw66M7MAES7",
        "outputId": "a6a9695d-0797-476c-e79a-76bb5f3e43b5"
      },
      "outputs": [
        {
          "output_type": "execute_result",
          "data": {
            "text/plain": [
              "                      0            0            0           0            0  \\\n",
              "2020-01-01  3001.675293  2001.266342  1500.065958  500.100552  1500.742206   \n",
              "2020-01-02  3003.041144  2000.663541  1500.375904  500.165300  1500.527833   \n",
              "2020-01-03  3005.361866  2001.841704  1501.235080  500.253546  1501.284599   \n",
              "2020-01-04  3008.770600  2003.455626  1501.581153  500.271564  1501.920256   \n",
              "2020-01-05  3010.504888  2004.412816  1502.373552  500.611406  1502.415644   \n",
              "...                 ...          ...          ...         ...          ...   \n",
              "2022-12-26  4934.433400  2765.954015  2454.584911  704.088201  2474.975468   \n",
              "2022-12-27  4938.679893  2768.061148  2455.059469  704.591898  2476.592900   \n",
              "2022-12-28  4938.524466  2767.563784  2455.566301  704.793781  2478.059983   \n",
              "2022-12-29  4939.919449  2768.969109  2455.905922  704.861655  2479.772575   \n",
              "2022-12-30  4939.865099  2770.857249  2457.621103  705.041277  2480.151231   \n",
              "\n",
              "                      0  \n",
              "2020-01-01  1500.756274  \n",
              "2020-01-02  1501.615473  \n",
              "2020-01-03  1502.370919  \n",
              "2020-01-04  1503.271331  \n",
              "2020-01-05  1503.595553  \n",
              "...                 ...  \n",
              "2022-12-26  2452.646345  \n",
              "2022-12-27  2453.581598  \n",
              "2022-12-28  2454.275020  \n",
              "2022-12-29  2455.732354  \n",
              "2022-12-30  2457.627291  \n",
              "\n",
              "[1095 rows x 6 columns]"
            ],
            "text/html": [
              "\n",
              "  <div id=\"df-76a3bb3c-9c58-4339-81c0-2d485432229b\">\n",
              "    <div class=\"colab-df-container\">\n",
              "      <div>\n",
              "<style scoped>\n",
              "    .dataframe tbody tr th:only-of-type {\n",
              "        vertical-align: middle;\n",
              "    }\n",
              "\n",
              "    .dataframe tbody tr th {\n",
              "        vertical-align: top;\n",
              "    }\n",
              "\n",
              "    .dataframe thead th {\n",
              "        text-align: right;\n",
              "    }\n",
              "</style>\n",
              "<table border=\"1\" class=\"dataframe\">\n",
              "  <thead>\n",
              "    <tr style=\"text-align: right;\">\n",
              "      <th></th>\n",
              "      <th>0</th>\n",
              "      <th>0</th>\n",
              "      <th>0</th>\n",
              "      <th>0</th>\n",
              "      <th>0</th>\n",
              "      <th>0</th>\n",
              "    </tr>\n",
              "  </thead>\n",
              "  <tbody>\n",
              "    <tr>\n",
              "      <th>2020-01-01</th>\n",
              "      <td>3001.675293</td>\n",
              "      <td>2001.266342</td>\n",
              "      <td>1500.065958</td>\n",
              "      <td>500.100552</td>\n",
              "      <td>1500.742206</td>\n",
              "      <td>1500.756274</td>\n",
              "    </tr>\n",
              "    <tr>\n",
              "      <th>2020-01-02</th>\n",
              "      <td>3003.041144</td>\n",
              "      <td>2000.663541</td>\n",
              "      <td>1500.375904</td>\n",
              "      <td>500.165300</td>\n",
              "      <td>1500.527833</td>\n",
              "      <td>1501.615473</td>\n",
              "    </tr>\n",
              "    <tr>\n",
              "      <th>2020-01-03</th>\n",
              "      <td>3005.361866</td>\n",
              "      <td>2001.841704</td>\n",
              "      <td>1501.235080</td>\n",
              "      <td>500.253546</td>\n",
              "      <td>1501.284599</td>\n",
              "      <td>1502.370919</td>\n",
              "    </tr>\n",
              "    <tr>\n",
              "      <th>2020-01-04</th>\n",
              "      <td>3008.770600</td>\n",
              "      <td>2003.455626</td>\n",
              "      <td>1501.581153</td>\n",
              "      <td>500.271564</td>\n",
              "      <td>1501.920256</td>\n",
              "      <td>1503.271331</td>\n",
              "    </tr>\n",
              "    <tr>\n",
              "      <th>2020-01-05</th>\n",
              "      <td>3010.504888</td>\n",
              "      <td>2004.412816</td>\n",
              "      <td>1502.373552</td>\n",
              "      <td>500.611406</td>\n",
              "      <td>1502.415644</td>\n",
              "      <td>1503.595553</td>\n",
              "    </tr>\n",
              "    <tr>\n",
              "      <th>...</th>\n",
              "      <td>...</td>\n",
              "      <td>...</td>\n",
              "      <td>...</td>\n",
              "      <td>...</td>\n",
              "      <td>...</td>\n",
              "      <td>...</td>\n",
              "    </tr>\n",
              "    <tr>\n",
              "      <th>2022-12-26</th>\n",
              "      <td>4934.433400</td>\n",
              "      <td>2765.954015</td>\n",
              "      <td>2454.584911</td>\n",
              "      <td>704.088201</td>\n",
              "      <td>2474.975468</td>\n",
              "      <td>2452.646345</td>\n",
              "    </tr>\n",
              "    <tr>\n",
              "      <th>2022-12-27</th>\n",
              "      <td>4938.679893</td>\n",
              "      <td>2768.061148</td>\n",
              "      <td>2455.059469</td>\n",
              "      <td>704.591898</td>\n",
              "      <td>2476.592900</td>\n",
              "      <td>2453.581598</td>\n",
              "    </tr>\n",
              "    <tr>\n",
              "      <th>2022-12-28</th>\n",
              "      <td>4938.524466</td>\n",
              "      <td>2767.563784</td>\n",
              "      <td>2455.566301</td>\n",
              "      <td>704.793781</td>\n",
              "      <td>2478.059983</td>\n",
              "      <td>2454.275020</td>\n",
              "    </tr>\n",
              "    <tr>\n",
              "      <th>2022-12-29</th>\n",
              "      <td>4939.919449</td>\n",
              "      <td>2768.969109</td>\n",
              "      <td>2455.905922</td>\n",
              "      <td>704.861655</td>\n",
              "      <td>2479.772575</td>\n",
              "      <td>2455.732354</td>\n",
              "    </tr>\n",
              "    <tr>\n",
              "      <th>2022-12-30</th>\n",
              "      <td>4939.865099</td>\n",
              "      <td>2770.857249</td>\n",
              "      <td>2457.621103</td>\n",
              "      <td>705.041277</td>\n",
              "      <td>2480.151231</td>\n",
              "      <td>2457.627291</td>\n",
              "    </tr>\n",
              "  </tbody>\n",
              "</table>\n",
              "<p>1095 rows × 6 columns</p>\n",
              "</div>\n",
              "      <button class=\"colab-df-convert\" onclick=\"convertToInteractive('df-76a3bb3c-9c58-4339-81c0-2d485432229b')\"\n",
              "              title=\"Convert this dataframe to an interactive table.\"\n",
              "              style=\"display:none;\">\n",
              "        \n",
              "  <svg xmlns=\"http://www.w3.org/2000/svg\" height=\"24px\"viewBox=\"0 0 24 24\"\n",
              "       width=\"24px\">\n",
              "    <path d=\"M0 0h24v24H0V0z\" fill=\"none\"/>\n",
              "    <path d=\"M18.56 5.44l.94 2.06.94-2.06 2.06-.94-2.06-.94-.94-2.06-.94 2.06-2.06.94zm-11 1L8.5 8.5l.94-2.06 2.06-.94-2.06-.94L8.5 2.5l-.94 2.06-2.06.94zm10 10l.94 2.06.94-2.06 2.06-.94-2.06-.94-.94-2.06-.94 2.06-2.06.94z\"/><path d=\"M17.41 7.96l-1.37-1.37c-.4-.4-.92-.59-1.43-.59-.52 0-1.04.2-1.43.59L10.3 9.45l-7.72 7.72c-.78.78-.78 2.05 0 2.83L4 21.41c.39.39.9.59 1.41.59.51 0 1.02-.2 1.41-.59l7.78-7.78 2.81-2.81c.8-.78.8-2.07 0-2.86zM5.41 20L4 18.59l7.72-7.72 1.47 1.35L5.41 20z\"/>\n",
              "  </svg>\n",
              "      </button>\n",
              "      \n",
              "  <style>\n",
              "    .colab-df-container {\n",
              "      display:flex;\n",
              "      flex-wrap:wrap;\n",
              "      gap: 12px;\n",
              "    }\n",
              "\n",
              "    .colab-df-convert {\n",
              "      background-color: #E8F0FE;\n",
              "      border: none;\n",
              "      border-radius: 50%;\n",
              "      cursor: pointer;\n",
              "      display: none;\n",
              "      fill: #1967D2;\n",
              "      height: 32px;\n",
              "      padding: 0 0 0 0;\n",
              "      width: 32px;\n",
              "    }\n",
              "\n",
              "    .colab-df-convert:hover {\n",
              "      background-color: #E2EBFA;\n",
              "      box-shadow: 0px 1px 2px rgba(60, 64, 67, 0.3), 0px 1px 3px 1px rgba(60, 64, 67, 0.15);\n",
              "      fill: #174EA6;\n",
              "    }\n",
              "\n",
              "    [theme=dark] .colab-df-convert {\n",
              "      background-color: #3B4455;\n",
              "      fill: #D2E3FC;\n",
              "    }\n",
              "\n",
              "    [theme=dark] .colab-df-convert:hover {\n",
              "      background-color: #434B5C;\n",
              "      box-shadow: 0px 1px 3px 1px rgba(0, 0, 0, 0.15);\n",
              "      filter: drop-shadow(0px 1px 2px rgba(0, 0, 0, 0.3));\n",
              "      fill: #FFFFFF;\n",
              "    }\n",
              "  </style>\n",
              "\n",
              "      <script>\n",
              "        const buttonEl =\n",
              "          document.querySelector('#df-76a3bb3c-9c58-4339-81c0-2d485432229b button.colab-df-convert');\n",
              "        buttonEl.style.display =\n",
              "          google.colab.kernel.accessAllowed ? 'block' : 'none';\n",
              "\n",
              "        async function convertToInteractive(key) {\n",
              "          const element = document.querySelector('#df-76a3bb3c-9c58-4339-81c0-2d485432229b');\n",
              "          const dataTable =\n",
              "            await google.colab.kernel.invokeFunction('convertToInteractive',\n",
              "                                                     [key], {});\n",
              "          if (!dataTable) return;\n",
              "\n",
              "          const docLinkHtml = 'Like what you see? Visit the ' +\n",
              "            '<a target=\"_blank\" href=https://colab.research.google.com/notebooks/data_table.ipynb>data table notebook</a>'\n",
              "            + ' to learn more about interactive tables.';\n",
              "          element.innerHTML = '';\n",
              "          dataTable['output_type'] = 'display_data';\n",
              "          await google.colab.output.renderOutput(dataTable, element);\n",
              "          const docLink = document.createElement('div');\n",
              "          docLink.innerHTML = docLinkHtml;\n",
              "          element.appendChild(docLink);\n",
              "        }\n",
              "      </script>\n",
              "    </div>\n",
              "  </div>\n",
              "  "
            ]
          },
          "metadata": {},
          "execution_count": 12
        }
      ],
      "source": [
        "\n",
        "df = pd.concat([m1,m2,m3,m4,m5,m6], axis=1)\n",
        "df"
      ]
    },
    {
      "cell_type": "code",
      "execution_count": 13,
      "metadata": {
        "id": "mrvydISNCLet"
      },
      "outputs": [],
      "source": [
        "l = df.sum(axis=1)\n",
        "#l.plot()"
      ]
    },
    {
      "cell_type": "code",
      "execution_count": 14,
      "metadata": {
        "colab": {
          "base_uri": "https://localhost:8080/"
        },
        "id": "z6MZxtcQsPhL",
        "outputId": "1b9968f2-2835-4e63-c445-d20f4dd3a3a7"
      },
      "outputs": [
        {
          "output_type": "stream",
          "name": "stdout",
          "text": [
            "[*********************100%***********************]  6 of 6 completed\n"
          ]
        }
      ],
      "source": [
        "\n",
        "data = getClose(ticker,fecha,ffinal)\n",
        "\n",
        "R = (data - data.shift())/data.shift()\n",
        "#R"
      ]
    },
    {
      "cell_type": "code",
      "execution_count": 15,
      "metadata": {
        "colab": {
          "base_uri": "https://localhost:8080/"
        },
        "id": "yped8WIgEQ0Z",
        "outputId": "d4a88b35-8123-430e-b6d4-3a81857b8903",
        "scrolled": true
      },
      "outputs": [
        {
          "output_type": "execute_result",
          "data": {
            "text/plain": [
              "Date\n",
              "2020-01-02            NaN\n",
              "2020-01-03    1506.797101\n",
              "2020-01-06    1502.265576\n",
              "2020-01-07    1498.866652\n",
              "2020-01-08    1496.601077\n",
              "                 ...     \n",
              "2022-12-23    1544.360653\n",
              "2022-12-27    1540.447612\n",
              "2022-12-28    1539.143223\n",
              "2022-12-29    1543.056265\n",
              "2022-12-30    1537.838835\n",
              "Name: VIPSX, Length: 756, dtype: float64"
            ]
          },
          "metadata": {},
          "execution_count": 15
        }
      ],
      "source": [
        "rendimientos_1 = (R[a1] + 1).cumprod()*c1\n",
        "rendimientos_2 = (R[a2] + 1).cumprod()*c2\n",
        "rendimientos_3 = (R[a3] + 1).cumprod()*c3\n",
        "rendimientos_4 = (R[a4] + 1).cumprod()*c4\n",
        "rendimientos_5 = (R[a5] + 1).cumprod()*c5\n",
        "rendimientos_6 = (R[a6] + 1).cumprod()*c6\n",
        "rendimientos_6"
      ]
    },
    {
      "cell_type": "code",
      "execution_count": 16,
      "metadata": {
        "id": "a8dXHc11FUy0"
      },
      "outputs": [],
      "source": [
        "g1 = pd.DataFrame(rendimientos_1)\n",
        "g2 = pd.DataFrame(rendimientos_2)\n",
        "g3 = pd.DataFrame(rendimientos_3)\n",
        "g4 = pd.DataFrame(rendimientos_4)\n",
        "g5 = pd.DataFrame(rendimientos_5)\n",
        "g6 = pd.DataFrame(rendimientos_6)\n",
        "g1 = pd.DataFrame.dropna(g1)\n",
        "g2 = pd.DataFrame.dropna(g2)\n",
        "g3 = pd.DataFrame.dropna(g3)\n",
        "g4 = pd.DataFrame.dropna(g4)\n",
        "g5 = pd.DataFrame.dropna(g5)\n",
        "g6 = pd.DataFrame.dropna(g6)"
      ]
    },
    {
      "cell_type": "code",
      "execution_count": 17,
      "metadata": {
        "colab": {
          "base_uri": "https://localhost:8080/",
          "height": 455
        },
        "id": "izObWDbzGCsw",
        "outputId": "5fbfa533-f0bd-4e34-812f-7b5809f8fcac"
      },
      "outputs": [
        {
          "output_type": "execute_result",
          "data": {
            "text/plain": [
              "                  VTSMX        VGSIX        VTMGX       VEIEX          TLT  \\\n",
              "Date                                                                         \n",
              "2020-01-03  2981.313246  2017.763187  1488.413125  495.460891  1523.100195   \n",
              "2020-01-06  2991.404093  2019.078655  1490.519690  492.492999  1514.451115   \n",
              "2020-01-07  2983.929690  1995.394683  1488.413125  493.191318  1507.006294   \n",
              "2020-01-08  2998.131622  2002.631352  1488.413125  492.842194  1497.043767   \n",
              "2020-01-09  3017.192111  2002.631352  1493.679867  498.254203  1502.298444   \n",
              "...                 ...          ...          ...         ...          ...   \n",
              "2022-12-23  3635.908287  2001.721145  1548.894896  463.724769  1179.708679   \n",
              "2022-12-27  3620.295095  2000.993230  1551.186128  468.833130  1156.382386   \n",
              "2022-12-28  3575.407279  1966.782046  1536.292791  465.616777  1149.569345   \n",
              "2022-12-29  3642.543797  2010.455990  1559.205440  471.671089  1162.618153   \n",
              "2022-12-30  3633.566115  1995.170047  1548.894896  467.319552  1149.684835   \n",
              "\n",
              "                  VIPSX  \n",
              "Date                     \n",
              "2020-01-03  1506.797101  \n",
              "2020-01-06  1502.265576  \n",
              "2020-01-07  1498.866652  \n",
              "2020-01-08  1496.601077  \n",
              "2020-01-09  1497.733927  \n",
              "...                 ...  \n",
              "2022-12-23  1544.360653  \n",
              "2022-12-27  1540.447612  \n",
              "2022-12-28  1539.143223  \n",
              "2022-12-29  1543.056265  \n",
              "2022-12-30  1537.838835  \n",
              "\n",
              "[755 rows x 6 columns]"
            ],
            "text/html": [
              "\n",
              "  <div id=\"df-abaf0946-a4b3-401d-870c-4b6e93d3dcf0\">\n",
              "    <div class=\"colab-df-container\">\n",
              "      <div>\n",
              "<style scoped>\n",
              "    .dataframe tbody tr th:only-of-type {\n",
              "        vertical-align: middle;\n",
              "    }\n",
              "\n",
              "    .dataframe tbody tr th {\n",
              "        vertical-align: top;\n",
              "    }\n",
              "\n",
              "    .dataframe thead th {\n",
              "        text-align: right;\n",
              "    }\n",
              "</style>\n",
              "<table border=\"1\" class=\"dataframe\">\n",
              "  <thead>\n",
              "    <tr style=\"text-align: right;\">\n",
              "      <th></th>\n",
              "      <th>VTSMX</th>\n",
              "      <th>VGSIX</th>\n",
              "      <th>VTMGX</th>\n",
              "      <th>VEIEX</th>\n",
              "      <th>TLT</th>\n",
              "      <th>VIPSX</th>\n",
              "    </tr>\n",
              "    <tr>\n",
              "      <th>Date</th>\n",
              "      <th></th>\n",
              "      <th></th>\n",
              "      <th></th>\n",
              "      <th></th>\n",
              "      <th></th>\n",
              "      <th></th>\n",
              "    </tr>\n",
              "  </thead>\n",
              "  <tbody>\n",
              "    <tr>\n",
              "      <th>2020-01-03</th>\n",
              "      <td>2981.313246</td>\n",
              "      <td>2017.763187</td>\n",
              "      <td>1488.413125</td>\n",
              "      <td>495.460891</td>\n",
              "      <td>1523.100195</td>\n",
              "      <td>1506.797101</td>\n",
              "    </tr>\n",
              "    <tr>\n",
              "      <th>2020-01-06</th>\n",
              "      <td>2991.404093</td>\n",
              "      <td>2019.078655</td>\n",
              "      <td>1490.519690</td>\n",
              "      <td>492.492999</td>\n",
              "      <td>1514.451115</td>\n",
              "      <td>1502.265576</td>\n",
              "    </tr>\n",
              "    <tr>\n",
              "      <th>2020-01-07</th>\n",
              "      <td>2983.929690</td>\n",
              "      <td>1995.394683</td>\n",
              "      <td>1488.413125</td>\n",
              "      <td>493.191318</td>\n",
              "      <td>1507.006294</td>\n",
              "      <td>1498.866652</td>\n",
              "    </tr>\n",
              "    <tr>\n",
              "      <th>2020-01-08</th>\n",
              "      <td>2998.131622</td>\n",
              "      <td>2002.631352</td>\n",
              "      <td>1488.413125</td>\n",
              "      <td>492.842194</td>\n",
              "      <td>1497.043767</td>\n",
              "      <td>1496.601077</td>\n",
              "    </tr>\n",
              "    <tr>\n",
              "      <th>2020-01-09</th>\n",
              "      <td>3017.192111</td>\n",
              "      <td>2002.631352</td>\n",
              "      <td>1493.679867</td>\n",
              "      <td>498.254203</td>\n",
              "      <td>1502.298444</td>\n",
              "      <td>1497.733927</td>\n",
              "    </tr>\n",
              "    <tr>\n",
              "      <th>...</th>\n",
              "      <td>...</td>\n",
              "      <td>...</td>\n",
              "      <td>...</td>\n",
              "      <td>...</td>\n",
              "      <td>...</td>\n",
              "      <td>...</td>\n",
              "    </tr>\n",
              "    <tr>\n",
              "      <th>2022-12-23</th>\n",
              "      <td>3635.908287</td>\n",
              "      <td>2001.721145</td>\n",
              "      <td>1548.894896</td>\n",
              "      <td>463.724769</td>\n",
              "      <td>1179.708679</td>\n",
              "      <td>1544.360653</td>\n",
              "    </tr>\n",
              "    <tr>\n",
              "      <th>2022-12-27</th>\n",
              "      <td>3620.295095</td>\n",
              "      <td>2000.993230</td>\n",
              "      <td>1551.186128</td>\n",
              "      <td>468.833130</td>\n",
              "      <td>1156.382386</td>\n",
              "      <td>1540.447612</td>\n",
              "    </tr>\n",
              "    <tr>\n",
              "      <th>2022-12-28</th>\n",
              "      <td>3575.407279</td>\n",
              "      <td>1966.782046</td>\n",
              "      <td>1536.292791</td>\n",
              "      <td>465.616777</td>\n",
              "      <td>1149.569345</td>\n",
              "      <td>1539.143223</td>\n",
              "    </tr>\n",
              "    <tr>\n",
              "      <th>2022-12-29</th>\n",
              "      <td>3642.543797</td>\n",
              "      <td>2010.455990</td>\n",
              "      <td>1559.205440</td>\n",
              "      <td>471.671089</td>\n",
              "      <td>1162.618153</td>\n",
              "      <td>1543.056265</td>\n",
              "    </tr>\n",
              "    <tr>\n",
              "      <th>2022-12-30</th>\n",
              "      <td>3633.566115</td>\n",
              "      <td>1995.170047</td>\n",
              "      <td>1548.894896</td>\n",
              "      <td>467.319552</td>\n",
              "      <td>1149.684835</td>\n",
              "      <td>1537.838835</td>\n",
              "    </tr>\n",
              "  </tbody>\n",
              "</table>\n",
              "<p>755 rows × 6 columns</p>\n",
              "</div>\n",
              "      <button class=\"colab-df-convert\" onclick=\"convertToInteractive('df-abaf0946-a4b3-401d-870c-4b6e93d3dcf0')\"\n",
              "              title=\"Convert this dataframe to an interactive table.\"\n",
              "              style=\"display:none;\">\n",
              "        \n",
              "  <svg xmlns=\"http://www.w3.org/2000/svg\" height=\"24px\"viewBox=\"0 0 24 24\"\n",
              "       width=\"24px\">\n",
              "    <path d=\"M0 0h24v24H0V0z\" fill=\"none\"/>\n",
              "    <path d=\"M18.56 5.44l.94 2.06.94-2.06 2.06-.94-2.06-.94-.94-2.06-.94 2.06-2.06.94zm-11 1L8.5 8.5l.94-2.06 2.06-.94-2.06-.94L8.5 2.5l-.94 2.06-2.06.94zm10 10l.94 2.06.94-2.06 2.06-.94-2.06-.94-.94-2.06-.94 2.06-2.06.94z\"/><path d=\"M17.41 7.96l-1.37-1.37c-.4-.4-.92-.59-1.43-.59-.52 0-1.04.2-1.43.59L10.3 9.45l-7.72 7.72c-.78.78-.78 2.05 0 2.83L4 21.41c.39.39.9.59 1.41.59.51 0 1.02-.2 1.41-.59l7.78-7.78 2.81-2.81c.8-.78.8-2.07 0-2.86zM5.41 20L4 18.59l7.72-7.72 1.47 1.35L5.41 20z\"/>\n",
              "  </svg>\n",
              "      </button>\n",
              "      \n",
              "  <style>\n",
              "    .colab-df-container {\n",
              "      display:flex;\n",
              "      flex-wrap:wrap;\n",
              "      gap: 12px;\n",
              "    }\n",
              "\n",
              "    .colab-df-convert {\n",
              "      background-color: #E8F0FE;\n",
              "      border: none;\n",
              "      border-radius: 50%;\n",
              "      cursor: pointer;\n",
              "      display: none;\n",
              "      fill: #1967D2;\n",
              "      height: 32px;\n",
              "      padding: 0 0 0 0;\n",
              "      width: 32px;\n",
              "    }\n",
              "\n",
              "    .colab-df-convert:hover {\n",
              "      background-color: #E2EBFA;\n",
              "      box-shadow: 0px 1px 2px rgba(60, 64, 67, 0.3), 0px 1px 3px 1px rgba(60, 64, 67, 0.15);\n",
              "      fill: #174EA6;\n",
              "    }\n",
              "\n",
              "    [theme=dark] .colab-df-convert {\n",
              "      background-color: #3B4455;\n",
              "      fill: #D2E3FC;\n",
              "    }\n",
              "\n",
              "    [theme=dark] .colab-df-convert:hover {\n",
              "      background-color: #434B5C;\n",
              "      box-shadow: 0px 1px 3px 1px rgba(0, 0, 0, 0.15);\n",
              "      filter: drop-shadow(0px 1px 2px rgba(0, 0, 0, 0.3));\n",
              "      fill: #FFFFFF;\n",
              "    }\n",
              "  </style>\n",
              "\n",
              "      <script>\n",
              "        const buttonEl =\n",
              "          document.querySelector('#df-abaf0946-a4b3-401d-870c-4b6e93d3dcf0 button.colab-df-convert');\n",
              "        buttonEl.style.display =\n",
              "          google.colab.kernel.accessAllowed ? 'block' : 'none';\n",
              "\n",
              "        async function convertToInteractive(key) {\n",
              "          const element = document.querySelector('#df-abaf0946-a4b3-401d-870c-4b6e93d3dcf0');\n",
              "          const dataTable =\n",
              "            await google.colab.kernel.invokeFunction('convertToInteractive',\n",
              "                                                     [key], {});\n",
              "          if (!dataTable) return;\n",
              "\n",
              "          const docLinkHtml = 'Like what you see? Visit the ' +\n",
              "            '<a target=\"_blank\" href=https://colab.research.google.com/notebooks/data_table.ipynb>data table notebook</a>'\n",
              "            + ' to learn more about interactive tables.';\n",
              "          element.innerHTML = '';\n",
              "          dataTable['output_type'] = 'display_data';\n",
              "          await google.colab.output.renderOutput(dataTable, element);\n",
              "          const docLink = document.createElement('div');\n",
              "          docLink.innerHTML = docLinkHtml;\n",
              "          element.appendChild(docLink);\n",
              "        }\n",
              "      </script>\n",
              "    </div>\n",
              "  </div>\n",
              "  "
            ]
          },
          "metadata": {},
          "execution_count": 17
        }
      ],
      "source": [
        "\n",
        "dg = pd.concat([g1,g2,g3,g4,g5,g6], axis=1)\n",
        "dg # DataFrame de los datos de los activos multiplicado por el capital invertido en cada uno"
      ]
    },
    {
      "cell_type": "markdown",
      "metadata": {
        "id": "d_yXMEFp5zOg"
      },
      "source": [
        "### Gráfica del monto \n"
      ]
    },
    {
      "cell_type": "code",
      "execution_count": 18,
      "metadata": {
        "colab": {
          "base_uri": "https://localhost:8080/",
          "height": 472
        },
        "id": "OyBuRzaK2CA0",
        "outputId": "0664d3d3-3d0b-4ce9-bb0c-d4ccf4ab0747"
      },
      "outputs": [
        {
          "output_type": "execute_result",
          "data": {
            "text/plain": [
              "Text(0.5, 1.0, 'Monto de Simulación')"
            ]
          },
          "metadata": {},
          "execution_count": 18
        },
        {
          "output_type": "display_data",
          "data": {
            "text/plain": [
              "<Figure size 640x480 with 1 Axes>"
            ],
            "image/png": "[encoded data removed]"
          },
          "metadata": {}
        }
      ],
      "source": [
        "k = dg.sum(axis=1)\n",
        "k.plot(label=\"Datos Reales\")\n",
        "l.plot(label=\"Simulación\")\n",
        "plt.legend(loc=\"best\")\n",
        "plt.title(\"Monto de Simulación\")"
      ]
    },
    {
      "cell_type": "code",
      "execution_count": 19,
      "metadata": {
        "colab": {
          "base_uri": "https://localhost:8080/"
        },
        "id": "NBvsBjkqAh5c",
        "outputId": "56fe3f8d-5ed5-42a1-c0bf-7f26073f21f7"
      },
      "outputs": [
        {
          "output_type": "stream",
          "name": "stdout",
          "text": [
            "count      755.000000\n",
            "mean     11079.214604\n",
            "std       1113.999986\n",
            "min       7892.857206\n",
            "25%      10239.307028\n",
            "50%      11035.673745\n",
            "75%      12111.818768\n",
            "max      13049.256297\n",
            "dtype: float64\n"
          ]
        }
      ],
      "source": [
        "print(k.describe()) #data\n",
        "#print(l.describe()) #simulacion"
      ]
    },
    {
      "cell_type": "markdown",
      "metadata": {
        "id": "B1vP5pTZ72_Y"
      },
      "source": [
        "### Gráfica del rendimiento acumulado."
      ]
    },
    {
      "cell_type": "code",
      "execution_count": 20,
      "metadata": {
        "colab": {
          "base_uri": "https://localhost:8080/",
          "height": 505
        },
        "id": "RYSwiyfTOYYx",
        "outputId": "79e4464d-5fef-40ca-982b-e42bb7b7bc8c",
        "scrolled": true
      },
      "outputs": [
        {
          "output_type": "execute_result",
          "data": {
            "text/plain": [
              "Text(0.5, 1.0, 'Rendimiento Acumulado')"
            ]
          },
          "metadata": {},
          "execution_count": 20
        },
        {
          "output_type": "display_data",
          "data": {
            "text/plain": [
              "<Figure size 640x480 with 1 Axes>"
            ],
            "image/png": "[encoded data removed]"
          },
          "metadata": {}
        }
      ],
      "source": [
        "rend_data = ((k/Cap)-1)*100\n",
        "rend_simulacion = ((l/Cap)-1)*100\n",
        "x = 0\n",
        "\n",
        "rend_simulacion.plot(label=\"Simulación\")\n",
        "rend_data.plot(label=\"Datos Reales\")\n",
        "plt.legend(loc=\"best\")\n",
        "plt.title(\"Rendimiento Acumulado\")"
      ]
    },
    {
      "cell_type": "markdown",
      "metadata": {
        "id": "FU5Wih7hz-ML"
      },
      "source": [
        "### Rendimientos simulados y reales diarios del portafolio completo."
      ]
    },
    {
      "cell_type": "code",
      "execution_count": 21,
      "metadata": {
        "colab": {
          "base_uri": "https://localhost:8080/",
          "height": 472
        },
        "id": "8Krb9jzF4K6U",
        "outputId": "d0775165-85ef-435a-fc2d-ae7c43be7d70"
      },
      "outputs": [
        {
          "output_type": "execute_result",
          "data": {
            "text/plain": [
              "Text(0.5, 1.0, 'Simulación de Rendimientos')"
            ]
          },
          "metadata": {},
          "execution_count": 21
        },
        {
          "output_type": "display_data",
          "data": {
            "text/plain": [
              "<Figure size 640x480 with 1 Axes>"
            ],
            "image/png": "[encoded data removed]"
          },
          "metadata": {}
        }
      ],
      "source": [
        "Rend_data = ((k - k.shift())/k.shift())\n",
        "Rend_data.plot(label=\"Rendimientos reales\")\n",
        "Rend_sim = ((l - l.shift())/l.shift())\n",
        "Rend_sim.plot(label=\"Rendimientos simulados\")\n",
        "plt.legend(loc=\"best\")\n",
        "plt.title(\"Simulación de Rendimientos\")"
      ]
    },
    {
      "cell_type": "markdown",
      "metadata": {
        "id": "e1RJ9YEi8gYV"
      },
      "source": [
        "### Mayor pérdida"
      ]
    },
    {
      "cell_type": "code",
      "execution_count": 22,
      "metadata": {
        "colab": {
          "base_uri": "https://localhost:8080/"
        },
        "id": "by1r81PsGa4x",
        "outputId": "f1e9ab21-9e15-4dbf-a0c9-c2648bc54370"
      },
      "outputs": [
        {
          "output_type": "stream",
          "name": "stdout",
          "text": [
            "Mayor perdida según la simulación      0 %\n",
            "Mayor perdida según la data historica  -21 %\n"
          ]
        }
      ],
      "source": [
        "print(\"Mayor perdida según la simulación     \",int(rend_simulacion.min()),\"%\")\n",
        "print(\"Mayor perdida según la data historica \",int(rend_data.min()),\"%\")"
      ]
    },
    {
      "cell_type": "markdown",
      "metadata": {
        "id": "gAiXZPYY8rr6"
      },
      "source": [
        "### Rendimiento final acumulado"
      ]
    },
    {
      "cell_type": "code",
      "execution_count": 23,
      "metadata": {
        "colab": {
          "base_uri": "https://localhost:8080/"
        },
        "id": "VUmRZ1_7-bPT",
        "outputId": "bc738e9e-8b64-4c17-a62c-425d80fc9d90",
        "scrolled": true
      },
      "outputs": [
        {
          "output_type": "stream",
          "name": "stdout",
          "text": [
            "Rendimiento final según la simulación      58 %\n",
            "Rendimiento final según la data historica  3 %\n"
          ]
        }
      ],
      "source": [
        "print(\"Rendimiento final según la simulación     \",int(rend_simulacion[-1]),\"%\")\n",
        "print(\"Rendimiento final según la data historica \",int(rend_data[-1]),\"%\")"
      ]
    },
    {
      "cell_type": "markdown",
      "metadata": {
        "id": "xl3O-73N21fS"
      },
      "source": [
        "### Portafolio 2\n",
        "a1 = \"NKLA\"\n",
        "a2 = \"BNGO\"\n",
        "a3 = \"AMC\"\n",
        "a4 = \"TQQQ\"\n",
        "a5 = \"KO\"\n",
        "a6 = \"ATOS\"\n",
        "Cap = 10000\n",
        "c1 = Cap*1/6\n",
        "c2 = Cap*1/6\n",
        "c3 = Cap*1/6\n",
        "c4 = Cap*1/6\n",
        "c5 = Cap*1/6\n",
        "c6 = Cap*1/6"
      ]
    },
    {
      "cell_type": "code",
      "execution_count": 24,
      "metadata": {
        "colab": {
          "base_uri": "https://localhost:8080/"
        },
        "outputId": "7ac3a1fb-ef62-4566-e15b-1dbc40e8d88d",
        "id": "UARbitu40-tT"
      },
      "outputs": [
        {
          "output_type": "stream",
          "name": "stdout",
          "text": [
            "[*********************100%***********************]  6 of 6 completed\n"
          ]
        }
      ],
      "source": [
        "a1 = \"NKLA\"\n",
        "a2 = \"BNGO\"\n",
        "a3 = \"AMC\"\n",
        "a4 = \"TQQQ\"\n",
        "a5 = \"KO\"\n",
        "a6 = \"ATOS\"\n",
        "Cap = 10000\n",
        "c1 = Cap*(1/6)\n",
        "c2 = Cap*(1/6)\n",
        "c3 = Cap*(1/6)\n",
        "c4 = Cap*(1/6)\n",
        "c5 = Cap*(1/6)\n",
        "c6 = Cap*(1/6)\n",
        "ticker = a1,a2,a3,a4,a5,a6\n",
        "periodos = 1257 # Cantidad en dias de simulaciones\n",
        "inicio = \"2015-01-01\" #inicio de datos\n",
        "final = \"2019-12-31\" #final de datos\n",
        "fecha = \"2020-01-01\" # Primer dato a simular\n",
        "ffinal = \"2022-12-31\" #ultimo dato a simular\n",
        "per = 365*3 # Datos futuros a simular\n",
        "data_aapl = getClose(ticker,inicio,final)\n",
        "#data_aapl.plot.hist()\n"
      ]
    },
    {
      "cell_type": "code",
      "execution_count": 25,
      "metadata": {
        "colab": {
          "base_uri": "https://localhost:8080/",
          "height": 447
        },
        "outputId": "692a5c2a-1685-4db1-8d5b-7343e0a5d3e6",
        "scrolled": true,
        "id": "WJAG_S640-tT"
      },
      "outputs": [
        {
          "output_type": "execute_result",
          "data": {
            "text/plain": [
              "<Axes: ylabel='Frequency'>"
            ]
          },
          "metadata": {},
          "execution_count": 25
        },
        {
          "output_type": "display_data",
          "data": {
            "text/plain": [
              "<Figure size 640x480 with 1 Axes>"
            ],
            "image/png": "[encoded data removed]"
          },
          "metadata": {}
        }
      ],
      "source": [
        "R = (data_aapl - data_aapl.shift())/data_aapl.shift()\n",
        "r = np.log(data_aapl/data_aapl.shift())\n",
        "\n",
        "R.plot.hist(alpha = 0.5)"
      ]
    },
    {
      "cell_type": "code",
      "execution_count": 26,
      "metadata": {
        "id": "rabGc12z0-tU"
      },
      "outputs": [],
      "source": [
        "R_1_mean = R[a1].mean()\n",
        "R_1_std = R[a1].std()\n",
        "\n",
        "R_2_mean = R[a2].mean()\n",
        "R_2_std = R[a2].std()\n",
        "\n",
        "R_3_mean = R[a3].mean()\n",
        "R_3_std = R[a3].std()\n",
        "\n",
        "R_4_mean = R[a4].mean()\n",
        "R_4_std = R[a4].std()\n",
        "\n",
        "R_5_mean = R[a5].mean()\n",
        "R_5_std = R[a5].std()\n",
        "\n",
        "R_6_mean = R[a6].mean()\n",
        "R_6_std = R[a6].std()\n"
      ]
    },
    {
      "cell_type": "code",
      "execution_count": 27,
      "metadata": {
        "id": "aj1Pa5Hg0-tU"
      },
      "outputs": [],
      "source": [
        "def sim_r(media, std, inicio, dias, N):\n",
        "    # media \n",
        "    # desviación estándar\n",
        "    # desde qué fecha inicio a simular\n",
        "    # cuántos días voy a simular\n",
        "    # N: cuántas simulaciones\n",
        "    r = np.random.normal(media, std, size=(dias, N))\n",
        "    fechas = pd.date_range(inicio, periods=dias)\n",
        "    return pd.DataFrame(index = fechas, data = r)\n",
        "r_1_simulados = sim_r(R_1_mean, R_1_std, fecha, per, 1000)\n",
        "r_2_simulados = sim_r(R_2_mean, R_2_std, fecha, per, 1000)\n",
        "r_3_simulados = sim_r(R_1_mean, R_1_std, fecha, per, 1000)\n",
        "r_4_simulados = sim_r(R_2_mean, R_2_std, fecha, per, 1000)\n",
        "r_5_simulados = sim_r(R_1_mean, R_1_std, fecha, per, 1000)\n",
        "r_6_simulados = sim_r(R_1_mean, R_1_std, fecha, per, 1000)\n"
      ]
    },
    {
      "cell_type": "code",
      "source": [
        "precios_1_simulados = ((r_1_simulados + 1).cumprod()*c1).mean(axis=1) # r_simulados son cumprod es producto acumulado\n",
        "precios_2_simulados = ((r_2_simulados + 1).cumprod()*c2).mean(axis=1) # r_simulados son cumprod es producto acumulado\n",
        "precios_3_simulados = ((r_3_simulados + 1).cumprod()*c3).mean(axis=1) # r_simulados son cumprod es producto acumulado\n",
        "precios_4_simulados = ((r_4_simulados + 1).cumprod()*c4).mean(axis=1) # r_simulados son cumprod es producto acumulado\n",
        "precios_5_simulados = ((r_5_simulados + 1).cumprod()*c5).mean(axis=1) # r_simulados son cumprod es producto acumulado\n",
        "precios_6_simulados = ((r_6_simulados + 1).cumprod()*c6).mean(axis=1) # r_simulados son cumprod es producto acumulado\n",
        "precios_6_simulados"
      ],
      "metadata": {
        "colab": {
          "base_uri": "https://localhost:8080/"
        },
        "id": "NkiXE3OoBFOF",
        "outputId": "257a2889-35f2-476a-ec32-e689747163eb"
      },
      "execution_count": 42,
      "outputs": [
        {
          "output_type": "execute_result",
          "data": {
            "text/plain": [
              "2020-01-01    1666.769015\n",
              "2020-01-02    1666.909697\n",
              "2020-01-03    1667.177265\n",
              "2020-01-04    1667.434692\n",
              "2020-01-05    1667.619400\n",
              "                 ...     \n",
              "2022-12-26    2044.159504\n",
              "2022-12-27    2044.480663\n",
              "2022-12-28    2044.809550\n",
              "2022-12-29    2045.164964\n",
              "2022-12-30    2045.700366\n",
              "Freq: D, Length: 1095, dtype: float64"
            ]
          },
          "metadata": {},
          "execution_count": 42
        }
      ]
    },
    {
      "cell_type": "code",
      "execution_count": 43,
      "metadata": {
        "id": "nVzy4K_o0-tV"
      },
      "outputs": [],
      "source": [
        "m1 = pd.DataFrame(precios_1_simulados)\n",
        "m2 = pd.DataFrame(precios_2_simulados)\n",
        "m3 = pd.DataFrame(precios_3_simulados)\n",
        "m4 = pd.DataFrame(precios_4_simulados)\n",
        "m5 = pd.DataFrame(precios_5_simulados)\n",
        "m6 = pd.DataFrame(precios_6_simulados)\n",
        "df = pd.concat([m1,m2,m3,m4,m5,m6], axis=1)"
      ]
    },
    {
      "cell_type": "code",
      "source": [
        "df"
      ],
      "metadata": {
        "colab": {
          "base_uri": "https://localhost:8080/",
          "height": 424
        },
        "id": "NGlhsgeyAjQT",
        "outputId": "90b07502-45b1-4ba5-fba5-878358c9b9f9"
      },
      "execution_count": 44,
      "outputs": [
        {
          "output_type": "execute_result",
          "data": {
            "text/plain": [
              "                      0            0            0            0            0  \\\n",
              "2020-01-01  1666.922572  1675.846022  1666.849935  1686.384158  1666.968507   \n",
              "2020-01-02  1667.231241  1685.948584  1667.130151  1675.763122  1667.276898   \n",
              "2020-01-03  1667.502549  1724.337614  1667.265833  1682.030179  1667.491377   \n",
              "2020-01-04  1667.835249  1747.791155  1667.587862  1676.848476  1667.616302   \n",
              "2020-01-05  1667.981940  1775.217278  1667.816126  1667.951931  1667.863593   \n",
              "...                 ...          ...          ...          ...          ...   \n",
              "2022-12-26  2041.069468    66.483721  2047.216724    13.652480  2052.685279   \n",
              "2022-12-27  2041.599789    52.525146  2047.519518    12.792703  2053.224157   \n",
              "2022-12-28  2041.898657    61.428135  2047.717657    13.186776  2053.549165   \n",
              "2022-12-29  2042.401543    68.409726  2048.124252    12.320712  2053.630825   \n",
              "2022-12-30  2042.785487    84.660221  2048.630934    12.088377  2053.976284   \n",
              "\n",
              "                      0  \n",
              "2020-01-01  1666.769015  \n",
              "2020-01-02  1666.909697  \n",
              "2020-01-03  1667.177265  \n",
              "2020-01-04  1667.434692  \n",
              "2020-01-05  1667.619400  \n",
              "...                 ...  \n",
              "2022-12-26  2044.159504  \n",
              "2022-12-27  2044.480663  \n",
              "2022-12-28  2044.809550  \n",
              "2022-12-29  2045.164964  \n",
              "2022-12-30  2045.700366  \n",
              "\n",
              "[1095 rows x 6 columns]"
            ],
            "text/html": [
              "\n",
              "  <div id=\"df-38f25324-2cbd-4bba-91c9-cb5ed20cf3c8\">\n",
              "    <div class=\"colab-df-container\">\n",
              "      <div>\n",
              "<style scoped>\n",
              "    .dataframe tbody tr th:only-of-type {\n",
              "        vertical-align: middle;\n",
              "    }\n",
              "\n",
              "    .dataframe tbody tr th {\n",
              "        vertical-align: top;\n",
              "    }\n",
              "\n",
              "    .dataframe thead th {\n",
              "        text-align: right;\n",
              "    }\n",
              "</style>\n",
              "<table border=\"1\" class=\"dataframe\">\n",
              "  <thead>\n",
              "    <tr style=\"text-align: right;\">\n",
              "      <th></th>\n",
              "      <th>0</th>\n",
              "      <th>0</th>\n",
              "      <th>0</th>\n",
              "      <th>0</th>\n",
              "      <th>0</th>\n",
              "      <th>0</th>\n",
              "    </tr>\n",
              "  </thead>\n",
              "  <tbody>\n",
              "    <tr>\n",
              "      <th>2020-01-01</th>\n",
              "      <td>1666.922572</td>\n",
              "      <td>1675.846022</td>\n",
              "      <td>1666.849935</td>\n",
              "      <td>1686.384158</td>\n",
              "      <td>1666.968507</td>\n",
              "      <td>1666.769015</td>\n",
              "    </tr>\n",
              "    <tr>\n",
              "      <th>2020-01-02</th>\n",
              "      <td>1667.231241</td>\n",
              "      <td>1685.948584</td>\n",
              "      <td>1667.130151</td>\n",
              "      <td>1675.763122</td>\n",
              "      <td>1667.276898</td>\n",
              "      <td>1666.909697</td>\n",
              "    </tr>\n",
              "    <tr>\n",
              "      <th>2020-01-03</th>\n",
              "      <td>1667.502549</td>\n",
              "      <td>1724.337614</td>\n",
              "      <td>1667.265833</td>\n",
              "      <td>1682.030179</td>\n",
              "      <td>1667.491377</td>\n",
              "      <td>1667.177265</td>\n",
              "    </tr>\n",
              "    <tr>\n",
              "      <th>2020-01-04</th>\n",
              "      <td>1667.835249</td>\n",
              "      <td>1747.791155</td>\n",
              "      <td>1667.587862</td>\n",
              "      <td>1676.848476</td>\n",
              "      <td>1667.616302</td>\n",
              "      <td>1667.434692</td>\n",
              "    </tr>\n",
              "    <tr>\n",
              "      <th>2020-01-05</th>\n",
              "      <td>1667.981940</td>\n",
              "      <td>1775.217278</td>\n",
              "      <td>1667.816126</td>\n",
              "      <td>1667.951931</td>\n",
              "      <td>1667.863593</td>\n",
              "      <td>1667.619400</td>\n",
              "    </tr>\n",
              "    <tr>\n",
              "      <th>...</th>\n",
              "      <td>...</td>\n",
              "      <td>...</td>\n",
              "      <td>...</td>\n",
              "      <td>...</td>\n",
              "      <td>...</td>\n",
              "      <td>...</td>\n",
              "    </tr>\n",
              "    <tr>\n",
              "      <th>2022-12-26</th>\n",
              "      <td>2041.069468</td>\n",
              "      <td>66.483721</td>\n",
              "      <td>2047.216724</td>\n",
              "      <td>13.652480</td>\n",
              "      <td>2052.685279</td>\n",
              "      <td>2044.159504</td>\n",
              "    </tr>\n",
              "    <tr>\n",
              "      <th>2022-12-27</th>\n",
              "      <td>2041.599789</td>\n",
              "      <td>52.525146</td>\n",
              "      <td>2047.519518</td>\n",
              "      <td>12.792703</td>\n",
              "      <td>2053.224157</td>\n",
              "      <td>2044.480663</td>\n",
              "    </tr>\n",
              "    <tr>\n",
              "      <th>2022-12-28</th>\n",
              "      <td>2041.898657</td>\n",
              "      <td>61.428135</td>\n",
              "      <td>2047.717657</td>\n",
              "      <td>13.186776</td>\n",
              "      <td>2053.549165</td>\n",
              "      <td>2044.809550</td>\n",
              "    </tr>\n",
              "    <tr>\n",
              "      <th>2022-12-29</th>\n",
              "      <td>2042.401543</td>\n",
              "      <td>68.409726</td>\n",
              "      <td>2048.124252</td>\n",
              "      <td>12.320712</td>\n",
              "      <td>2053.630825</td>\n",
              "      <td>2045.164964</td>\n",
              "    </tr>\n",
              "    <tr>\n",
              "      <th>2022-12-30</th>\n",
              "      <td>2042.785487</td>\n",
              "      <td>84.660221</td>\n",
              "      <td>2048.630934</td>\n",
              "      <td>12.088377</td>\n",
              "      <td>2053.976284</td>\n",
              "      <td>2045.700366</td>\n",
              "    </tr>\n",
              "  </tbody>\n",
              "</table>\n",
              "<p>1095 rows × 6 columns</p>\n",
              "</div>\n",
              "      <button class=\"colab-df-convert\" onclick=\"convertToInteractive('df-38f25324-2cbd-4bba-91c9-cb5ed20cf3c8')\"\n",
              "              title=\"Convert this dataframe to an interactive table.\"\n",
              "              style=\"display:none;\">\n",
              "        \n",
              "  <svg xmlns=\"http://www.w3.org/2000/svg\" height=\"24px\"viewBox=\"0 0 24 24\"\n",
              "       width=\"24px\">\n",
              "    <path d=\"M0 0h24v24H0V0z\" fill=\"none\"/>\n",
              "    <path d=\"M18.56 5.44l.94 2.06.94-2.06 2.06-.94-2.06-.94-.94-2.06-.94 2.06-2.06.94zm-11 1L8.5 8.5l.94-2.06 2.06-.94-2.06-.94L8.5 2.5l-.94 2.06-2.06.94zm10 10l.94 2.06.94-2.06 2.06-.94-2.06-.94-.94-2.06-.94 2.06-2.06.94z\"/><path d=\"M17.41 7.96l-1.37-1.37c-.4-.4-.92-.59-1.43-.59-.52 0-1.04.2-1.43.59L10.3 9.45l-7.72 7.72c-.78.78-.78 2.05 0 2.83L4 21.41c.39.39.9.59 1.41.59.51 0 1.02-.2 1.41-.59l7.78-7.78 2.81-2.81c.8-.78.8-2.07 0-2.86zM5.41 20L4 18.59l7.72-7.72 1.47 1.35L5.41 20z\"/>\n",
              "  </svg>\n",
              "      </button>\n",
              "      \n",
              "  <style>\n",
              "    .colab-df-container {\n",
              "      display:flex;\n",
              "      flex-wrap:wrap;\n",
              "      gap: 12px;\n",
              "    }\n",
              "\n",
              "    .colab-df-convert {\n",
              "      background-color: #E8F0FE;\n",
              "      border: none;\n",
              "      border-radius: 50%;\n",
              "      cursor: pointer;\n",
              "      display: none;\n",
              "      fill: #1967D2;\n",
              "      height: 32px;\n",
              "      padding: 0 0 0 0;\n",
              "      width: 32px;\n",
              "    }\n",
              "\n",
              "    .colab-df-convert:hover {\n",
              "      background-color: #E2EBFA;\n",
              "      box-shadow: 0px 1px 2px rgba(60, 64, 67, 0.3), 0px 1px 3px 1px rgba(60, 64, 67, 0.15);\n",
              "      fill: #174EA6;\n",
              "    }\n",
              "\n",
              "    [theme=dark] .colab-df-convert {\n",
              "      background-color: #3B4455;\n",
              "      fill: #D2E3FC;\n",
              "    }\n",
              "\n",
              "    [theme=dark] .colab-df-convert:hover {\n",
              "      background-color: #434B5C;\n",
              "      box-shadow: 0px 1px 3px 1px rgba(0, 0, 0, 0.15);\n",
              "      filter: drop-shadow(0px 1px 2px rgba(0, 0, 0, 0.3));\n",
              "      fill: #FFFFFF;\n",
              "    }\n",
              "  </style>\n",
              "\n",
              "      <script>\n",
              "        const buttonEl =\n",
              "          document.querySelector('#df-38f25324-2cbd-4bba-91c9-cb5ed20cf3c8 button.colab-df-convert');\n",
              "        buttonEl.style.display =\n",
              "          google.colab.kernel.accessAllowed ? 'block' : 'none';\n",
              "\n",
              "        async function convertToInteractive(key) {\n",
              "          const element = document.querySelector('#df-38f25324-2cbd-4bba-91c9-cb5ed20cf3c8');\n",
              "          const dataTable =\n",
              "            await google.colab.kernel.invokeFunction('convertToInteractive',\n",
              "                                                     [key], {});\n",
              "          if (!dataTable) return;\n",
              "\n",
              "          const docLinkHtml = 'Like what you see? Visit the ' +\n",
              "            '<a target=\"_blank\" href=https://colab.research.google.com/notebooks/data_table.ipynb>data table notebook</a>'\n",
              "            + ' to learn more about interactive tables.';\n",
              "          element.innerHTML = '';\n",
              "          dataTable['output_type'] = 'display_data';\n",
              "          await google.colab.output.renderOutput(dataTable, element);\n",
              "          const docLink = document.createElement('div');\n",
              "          docLink.innerHTML = docLinkHtml;\n",
              "          element.appendChild(docLink);\n",
              "        }\n",
              "      </script>\n",
              "    </div>\n",
              "  </div>\n",
              "  "
            ]
          },
          "metadata": {},
          "execution_count": 44
        }
      ]
    },
    {
      "cell_type": "code",
      "execution_count": 45,
      "metadata": {
        "colab": {
          "base_uri": "https://localhost:8080/"
        },
        "outputId": "0bc66baa-b5f3-4034-bfb9-270a33102c67",
        "id": "94O5udJw0-tV"
      },
      "outputs": [
        {
          "output_type": "stream",
          "name": "stdout",
          "text": [
            "[*********************100%***********************]  6 of 6 completed\n"
          ]
        }
      ],
      "source": [
        "l = df.sum(axis=1)\n",
        "data = getClose(ticker,fecha,ffinal)\n",
        "\n",
        "R = (data - data.shift())/data.shift()\n",
        "#R"
      ]
    },
    {
      "cell_type": "code",
      "execution_count": 46,
      "metadata": {
        "id": "w7pminz70-tV"
      },
      "outputs": [],
      "source": [
        "rendimientos_1 = (R[a1] + 1).cumprod()*c1\n",
        "rendimientos_2 = (R[a2] + 1).cumprod()*c2\n",
        "rendimientos_3 = (R[a3] + 1).cumprod()*c3\n",
        "rendimientos_4 = (R[a4] + 1).cumprod()*c4\n",
        "rendimientos_5 = (R[a5] + 1).cumprod()*c5\n",
        "rendimientos_6 = (R[a6] + 1).cumprod()*c6\n"
      ]
    },
    {
      "cell_type": "code",
      "execution_count": 47,
      "metadata": {
        "colab": {
          "base_uri": "https://localhost:8080/",
          "height": 455
        },
        "id": "-VLvOQCs0-tW",
        "outputId": "44792bdd-c4fa-4c62-996e-c774de4e47a1"
      },
      "outputs": [
        {
          "output_type": "execute_result",
          "data": {
            "text/plain": [
              "                   NKLA         BNGO          AMC         TQQQ           KO  \\\n",
              "Date                                                                          \n",
              "2020-01-03  1663.436772  1653.225819  1635.388743  1621.348960  1657.573558   \n",
              "2020-01-06  1666.666667  1706.989209  1590.705979  1652.172343  1656.967760   \n",
              "2020-01-07  1668.281691  1666.666667  1592.940155  1650.154191  1644.238202   \n",
              "2020-01-08  1670.219689  1666.666667  1478.999124  1688.133098  1647.268726   \n",
              "2020-01-09  1671.511739  1599.462430  1443.252956  1730.698844  1677.274397   \n",
              "...                 ...          ...          ...          ...          ...   \n",
              "2022-12-23   423.126609  2043.010711   989.051381  1297.614417  2124.601897   \n",
              "2022-12-27   385.981941  1908.602078   905.881179  1242.286901  2137.585214   \n",
              "2022-12-28   364.987089  1881.720384   863.172077  1192.123364  2116.279280   \n",
              "2022-12-29   385.981941  1975.806475   930.607386  1276.221154  2128.929755   \n",
              "2022-12-30   348.837233  1962.365628   914.872547  1276.221154  2117.610909   \n",
              "\n",
              "                   ATOS  \n",
              "Date                     \n",
              "2020-01-03  1666.666667  \n",
              "2020-01-06  1656.184497  \n",
              "2020-01-07  1698.113177  \n",
              "2020-01-08  1687.631007  \n",
              "2020-01-09  1624.737861  \n",
              "...                 ...  \n",
              "2022-12-23   607.966427  \n",
              "2022-12-27   545.073344  \n",
              "2022-12-28   524.109004  \n",
              "2022-12-29   545.073344  \n",
              "2022-12-30   555.555514  \n",
              "\n",
              "[755 rows x 6 columns]"
            ],
            "text/html": [
              "\n",
              "  <div id=\"df-a99dc9ca-0027-4caa-9f5b-121267fb202f\">\n",
              "    <div class=\"colab-df-container\">\n",
              "      <div>\n",
              "<style scoped>\n",
              "    .dataframe tbody tr th:only-of-type {\n",
              "        vertical-align: middle;\n",
              "    }\n",
              "\n",
              "    .dataframe tbody tr th {\n",
              "        vertical-align: top;\n",
              "    }\n",
              "\n",
              "    .dataframe thead th {\n",
              "        text-align: right;\n",
              "    }\n",
              "</style>\n",
              "<table border=\"1\" class=\"dataframe\">\n",
              "  <thead>\n",
              "    <tr style=\"text-align: right;\">\n",
              "      <th></th>\n",
              "      <th>NKLA</th>\n",
              "      <th>BNGO</th>\n",
              "      <th>AMC</th>\n",
              "      <th>TQQQ</th>\n",
              "      <th>KO</th>\n",
              "      <th>ATOS</th>\n",
              "    </tr>\n",
              "    <tr>\n",
              "      <th>Date</th>\n",
              "      <th></th>\n",
              "      <th></th>\n",
              "      <th></th>\n",
              "      <th></th>\n",
              "      <th></th>\n",
              "      <th></th>\n",
              "    </tr>\n",
              "  </thead>\n",
              "  <tbody>\n",
              "    <tr>\n",
              "      <th>2020-01-03</th>\n",
              "      <td>1663.436772</td>\n",
              "      <td>1653.225819</td>\n",
              "      <td>1635.388743</td>\n",
              "      <td>1621.348960</td>\n",
              "      <td>1657.573558</td>\n",
              "      <td>1666.666667</td>\n",
              "    </tr>\n",
              "    <tr>\n",
              "      <th>2020-01-06</th>\n",
              "      <td>1666.666667</td>\n",
              "      <td>1706.989209</td>\n",
              "      <td>1590.705979</td>\n",
              "      <td>1652.172343</td>\n",
              "      <td>1656.967760</td>\n",
              "      <td>1656.184497</td>\n",
              "    </tr>\n",
              "    <tr>\n",
              "      <th>2020-01-07</th>\n",
              "      <td>1668.281691</td>\n",
              "      <td>1666.666667</td>\n",
              "      <td>1592.940155</td>\n",
              "      <td>1650.154191</td>\n",
              "      <td>1644.238202</td>\n",
              "      <td>1698.113177</td>\n",
              "    </tr>\n",
              "    <tr>\n",
              "      <th>2020-01-08</th>\n",
              "      <td>1670.219689</td>\n",
              "      <td>1666.666667</td>\n",
              "      <td>1478.999124</td>\n",
              "      <td>1688.133098</td>\n",
              "      <td>1647.268726</td>\n",
              "      <td>1687.631007</td>\n",
              "    </tr>\n",
              "    <tr>\n",
              "      <th>2020-01-09</th>\n",
              "      <td>1671.511739</td>\n",
              "      <td>1599.462430</td>\n",
              "      <td>1443.252956</td>\n",
              "      <td>1730.698844</td>\n",
              "      <td>1677.274397</td>\n",
              "      <td>1624.737861</td>\n",
              "    </tr>\n",
              "    <tr>\n",
              "      <th>...</th>\n",
              "      <td>...</td>\n",
              "      <td>...</td>\n",
              "      <td>...</td>\n",
              "      <td>...</td>\n",
              "      <td>...</td>\n",
              "      <td>...</td>\n",
              "    </tr>\n",
              "    <tr>\n",
              "      <th>2022-12-23</th>\n",
              "      <td>423.126609</td>\n",
              "      <td>2043.010711</td>\n",
              "      <td>989.051381</td>\n",
              "      <td>1297.614417</td>\n",
              "      <td>2124.601897</td>\n",
              "      <td>607.966427</td>\n",
              "    </tr>\n",
              "    <tr>\n",
              "      <th>2022-12-27</th>\n",
              "      <td>385.981941</td>\n",
              "      <td>1908.602078</td>\n",
              "      <td>905.881179</td>\n",
              "      <td>1242.286901</td>\n",
              "      <td>2137.585214</td>\n",
              "      <td>545.073344</td>\n",
              "    </tr>\n",
              "    <tr>\n",
              "      <th>2022-12-28</th>\n",
              "      <td>364.987089</td>\n",
              "      <td>1881.720384</td>\n",
              "      <td>863.172077</td>\n",
              "      <td>1192.123364</td>\n",
              "      <td>2116.279280</td>\n",
              "      <td>524.109004</td>\n",
              "    </tr>\n",
              "    <tr>\n",
              "      <th>2022-12-29</th>\n",
              "      <td>385.981941</td>\n",
              "      <td>1975.806475</td>\n",
              "      <td>930.607386</td>\n",
              "      <td>1276.221154</td>\n",
              "      <td>2128.929755</td>\n",
              "      <td>545.073344</td>\n",
              "    </tr>\n",
              "    <tr>\n",
              "      <th>2022-12-30</th>\n",
              "      <td>348.837233</td>\n",
              "      <td>1962.365628</td>\n",
              "      <td>914.872547</td>\n",
              "      <td>1276.221154</td>\n",
              "      <td>2117.610909</td>\n",
              "      <td>555.555514</td>\n",
              "    </tr>\n",
              "  </tbody>\n",
              "</table>\n",
              "<p>755 rows × 6 columns</p>\n",
              "</div>\n",
              "      <button class=\"colab-df-convert\" onclick=\"convertToInteractive('df-a99dc9ca-0027-4caa-9f5b-121267fb202f')\"\n",
              "              title=\"Convert this dataframe to an interactive table.\"\n",
              "              style=\"display:none;\">\n",
              "        \n",
              "  <svg xmlns=\"http://www.w3.org/2000/svg\" height=\"24px\"viewBox=\"0 0 24 24\"\n",
              "       width=\"24px\">\n",
              "    <path d=\"M0 0h24v24H0V0z\" fill=\"none\"/>\n",
              "    <path d=\"M18.56 5.44l.94 2.06.94-2.06 2.06-.94-2.06-.94-.94-2.06-.94 2.06-2.06.94zm-11 1L8.5 8.5l.94-2.06 2.06-.94-2.06-.94L8.5 2.5l-.94 2.06-2.06.94zm10 10l.94 2.06.94-2.06 2.06-.94-2.06-.94-.94-2.06-.94 2.06-2.06.94z\"/><path d=\"M17.41 7.96l-1.37-1.37c-.4-.4-.92-.59-1.43-.59-.52 0-1.04.2-1.43.59L10.3 9.45l-7.72 7.72c-.78.78-.78 2.05 0 2.83L4 21.41c.39.39.9.59 1.41.59.51 0 1.02-.2 1.41-.59l7.78-7.78 2.81-2.81c.8-.78.8-2.07 0-2.86zM5.41 20L4 18.59l7.72-7.72 1.47 1.35L5.41 20z\"/>\n",
              "  </svg>\n",
              "      </button>\n",
              "      \n",
              "  <style>\n",
              "    .colab-df-container {\n",
              "      display:flex;\n",
              "      flex-wrap:wrap;\n",
              "      gap: 12px;\n",
              "    }\n",
              "\n",
              "    .colab-df-convert {\n",
              "      background-color: #E8F0FE;\n",
              "      border: none;\n",
              "      border-radius: 50%;\n",
              "      cursor: pointer;\n",
              "      display: none;\n",
              "      fill: #1967D2;\n",
              "      height: 32px;\n",
              "      padding: 0 0 0 0;\n",
              "      width: 32px;\n",
              "    }\n",
              "\n",
              "    .colab-df-convert:hover {\n",
              "      background-color: #E2EBFA;\n",
              "      box-shadow: 0px 1px 2px rgba(60, 64, 67, 0.3), 0px 1px 3px 1px rgba(60, 64, 67, 0.15);\n",
              "      fill: #174EA6;\n",
              "    }\n",
              "\n",
              "    [theme=dark] .colab-df-convert {\n",
              "      background-color: #3B4455;\n",
              "      fill: #D2E3FC;\n",
              "    }\n",
              "\n",
              "    [theme=dark] .colab-df-convert:hover {\n",
              "      background-color: #434B5C;\n",
              "      box-shadow: 0px 1px 3px 1px rgba(0, 0, 0, 0.15);\n",
              "      filter: drop-shadow(0px 1px 2px rgba(0, 0, 0, 0.3));\n",
              "      fill: #FFFFFF;\n",
              "    }\n",
              "  </style>\n",
              "\n",
              "      <script>\n",
              "        const buttonEl =\n",
              "          document.querySelector('#df-a99dc9ca-0027-4caa-9f5b-121267fb202f button.colab-df-convert');\n",
              "        buttonEl.style.display =\n",
              "          google.colab.kernel.accessAllowed ? 'block' : 'none';\n",
              "\n",
              "        async function convertToInteractive(key) {\n",
              "          const element = document.querySelector('#df-a99dc9ca-0027-4caa-9f5b-121267fb202f');\n",
              "          const dataTable =\n",
              "            await google.colab.kernel.invokeFunction('convertToInteractive',\n",
              "                                                     [key], {});\n",
              "          if (!dataTable) return;\n",
              "\n",
              "          const docLinkHtml = 'Like what you see? Visit the ' +\n",
              "            '<a target=\"_blank\" href=https://colab.research.google.com/notebooks/data_table.ipynb>data table notebook</a>'\n",
              "            + ' to learn more about interactive tables.';\n",
              "          element.innerHTML = '';\n",
              "          dataTable['output_type'] = 'display_data';\n",
              "          await google.colab.output.renderOutput(dataTable, element);\n",
              "          const docLink = document.createElement('div');\n",
              "          docLink.innerHTML = docLinkHtml;\n",
              "          element.appendChild(docLink);\n",
              "        }\n",
              "      </script>\n",
              "    </div>\n",
              "  </div>\n",
              "  "
            ]
          },
          "metadata": {},
          "execution_count": 47
        }
      ],
      "source": [
        "g1 = pd.DataFrame(rendimientos_1)\n",
        "g2 = pd.DataFrame(rendimientos_2)\n",
        "g3 = pd.DataFrame(rendimientos_3)\n",
        "g4 = pd.DataFrame(rendimientos_4)\n",
        "g5 = pd.DataFrame(rendimientos_5)\n",
        "g6 = pd.DataFrame(rendimientos_6)\n",
        "g1 = pd.DataFrame.dropna(g1)\n",
        "g2 = pd.DataFrame.dropna(g2)\n",
        "g3 = pd.DataFrame.dropna(g3)\n",
        "g4 = pd.DataFrame.dropna(g4)\n",
        "g5 = pd.DataFrame.dropna(g5)\n",
        "g6 = pd.DataFrame.dropna(g6)\n",
        "dg = pd.concat([g1,g2,g3,g4,g5,g6], axis=1)\n",
        "dg"
      ]
    },
    {
      "cell_type": "code",
      "execution_count": 48,
      "metadata": {
        "colab": {
          "base_uri": "https://localhost:8080/",
          "height": 472
        },
        "outputId": "19c3383a-7424-4379-a9c1-7c0ac8214537",
        "scrolled": true,
        "id": "8lh4qcxO0-tW"
      },
      "outputs": [
        {
          "output_type": "execute_result",
          "data": {
            "text/plain": [
              "Text(0.5, 1.0, 'Monto de Simulación')"
            ]
          },
          "metadata": {},
          "execution_count": 48
        },
        {
          "output_type": "display_data",
          "data": {
            "text/plain": [
              "<Figure size 640x480 with 1 Axes>"
            ],
            "image/png": "[encoded data removed]"
          },
          "metadata": {}
        }
      ],
      "source": [
        "k = dg.sum(axis=1)\n",
        "k.plot(label=\"Datos Reales\")\n",
        "l.plot(label=\"Simulación\")\n",
        "plt.legend(loc=\"best\")\n",
        "plt.title(\"Monto de Simulación\")"
      ]
    },
    {
      "cell_type": "code",
      "execution_count": 49,
      "metadata": {
        "colab": {
          "base_uri": "https://localhost:8080/",
          "height": 505
        },
        "outputId": "8b485a02-2150-4448-aba5-a49ac6632035",
        "scrolled": true,
        "id": "bhJVoOfD0-tW"
      },
      "outputs": [
        {
          "output_type": "execute_result",
          "data": {
            "text/plain": [
              "Text(0.5, 1.0, 'Rendimiento Acumulado')"
            ]
          },
          "metadata": {},
          "execution_count": 49
        },
        {
          "output_type": "display_data",
          "data": {
            "text/plain": [
              "<Figure size 640x480 with 1 Axes>"
            ],
            "image/png": "[encoded data removed]"
          },
          "metadata": {}
        }
      ],
      "source": [
        "rend_data = ((k/Cap)-1)*100\n",
        "rend_simulacion = ((l/Cap)-1)*100\n",
        "x = 0\n",
        "\n",
        "rend_simulacion.plot(label=\"Simulación\")\n",
        "rend_data.plot(label=\"Datos Reales\")\n",
        "plt.legend(loc=\"best\")\n",
        "plt.title(\"Rendimiento Acumulado\")"
      ]
    },
    {
      "cell_type": "markdown",
      "metadata": {
        "id": "xNW0n_2d0-tX"
      },
      "source": [
        "### Rendimientos simulados y reales diarios del portafolio completo."
      ]
    },
    {
      "cell_type": "code",
      "execution_count": 51,
      "metadata": {
        "colab": {
          "base_uri": "https://localhost:8080/",
          "height": 472
        },
        "outputId": "a4fc54ac-fa48-45ac-a49f-271b516830f4",
        "id": "ZbgDfZ350-tX"
      },
      "outputs": [
        {
          "output_type": "execute_result",
          "data": {
            "text/plain": [
              "Text(0.5, 1.0, 'Simulación de Rendimientos')"
            ]
          },
          "metadata": {},
          "execution_count": 51
        },
        {
          "output_type": "display_data",
          "data": {
            "text/plain": [
              "<Figure size 640x480 with 1 Axes>"
            ],
            "image/png": "[encoded data removed]"
          },
          "metadata": {}
        }
      ],
      "source": [
        "Rend_data = ((k - k.shift())/k.shift())\n",
        "Rend_data.plot(label=\"Rendimientos reales\")\n",
        "Rend_sim = ((l - l.shift())/l.shift())\n",
        "Rend_sim.plot(label=\"Rendimientos simulados\")\n",
        "plt.legend(loc=\"best\")\n",
        "plt.title(\"Simulación de Rendimientos\")"
      ]
    },
    {
      "cell_type": "markdown",
      "metadata": {
        "id": "7Wjqrkk30-tX"
      },
      "source": [
        "### Mayor pérdida"
      ]
    },
    {
      "cell_type": "code",
      "execution_count": 36,
      "metadata": {
        "colab": {
          "base_uri": "https://localhost:8080/"
        },
        "outputId": "66a4704d-eab9-4a31-8312-1c933ca65603",
        "id": "7tLc9q_30-tY"
      },
      "outputs": [
        {
          "output_type": "stream",
          "name": "stdout",
          "text": [
            "Mayor perdida según la simulación      0 %\n",
            "Mayor perdida según la data historica  -42 %\n"
          ]
        }
      ],
      "source": [
        "print(\"Mayor perdida según la simulación     \",int(rend_simulacion.min()),\"%\")\n",
        "print(\"Mayor perdida según la data historica \",int(rend_data.min()),\"%\")"
      ]
    },
    {
      "cell_type": "markdown",
      "metadata": {
        "id": "aU4xjZmw0-tY"
      },
      "source": [
        "### Rendimiento final acumulado"
      ]
    },
    {
      "cell_type": "code",
      "execution_count": 37,
      "metadata": {
        "colab": {
          "base_uri": "https://localhost:8080/"
        },
        "outputId": "76c80dda-a147-4041-b344-1201cd1d2732",
        "scrolled": true,
        "id": "LlPazcVw0-tY"
      },
      "outputs": [
        {
          "output_type": "stream",
          "name": "stdout",
          "text": [
            "Rendimiento final según la simulación      58 %\n",
            "Rendimiento final según la data historica  -28 %\n"
          ]
        }
      ],
      "source": [
        "print(\"Rendimiento final según la simulación     \",int(rend_simulacion[-1]),\"%\")\n",
        "print(\"Rendimiento final según la data historica \",int(rend_data[-1]),\"%\")"
      ]
    },
    {
      "cell_type": "markdown",
      "metadata": {
        "id": "ifX31MKD0-tY"
      },
      "source": [
        "## Solución del problema\n",
        "\n",
        "Se utilizó la simulación Montecarlo para poder evaluar y visualizar el posible rendimiento de un portafolio de inversión. Se logró expresar el monto final obtenido en base a un capital hipotético y observar qué ocurre con el capital invertido en cada acción. Cabe recalcar que con este método no es posible simular escenarios externos como la pandemia, situaciones políticas o globales que puedan afectar los rendimientos de los activos del portafolio."
      ]
    },
    {
      "cell_type": "markdown",
      "metadata": {
        "id": "Bdz6m-FP0-tZ"
      },
      "source": [
        "## Conclusiones\n",
        "\n",
        "Mediante la simulación, se pudo observar los diferentes escenarios en un portafolio de inversión con la misma cantidad de activos. Se puede concluir que el rendimiento del portafolio 1 es mayor que el del portafolio 2 y que tiene menos riesgo, por lo que la selección de activos y el porcentaje del capital invertido en cada activo son variables de suma importancia en el rendimiento esperado. Utilizando la simulación se pueden optimizar los portafolios, contrastar y visualizar de forma más fácil por lo que es una herramienta bastante útil en el sector financiero. "
      ]
    },
    {
      "cell_type": "markdown",
      "metadata": {
        "id": "8dZczGbb0-tZ"
      },
      "source": [
        "### Referencias Bibliográficas\n",
        "- López, J. F. (2022). Media. Economipedia. https://economipedia.com/definiciones/media.html\n",
        "- López, J. F. (2022a). Desviación estándar o típica. Economipedia. https://economipedia.com/definiciones/desviacion-tipica.html\n",
        "- Poldrack, R. (2021). Capítulo 8 Remuestreo y Simulación | Statistical Thinking for the 21st Century. https://statsthinking21.github.io/statsthinking21-core-spanish-site/resampling-and-simulation.html"
      ]
    },
    {
      "cell_type": "code",
      "execution_count": 37,
      "metadata": {
        "id": "faaW6l_00-tZ"
      },
      "outputs": [],
      "source": []
    }
  ],
  "metadata": {
    "colab": {
      "provenance": []
    },
    "kernelspec": {
      "display_name": "Python 3",
      "language": "python",
      "name": "python3"
    },
    "language_info": {
      "codemirror_mode": {
        "name": "ipython",
        "version": 3
      },
      "file_extension": ".py",
      "mimetype": "text/x-python",
      "name": "python",
      "nbconvert_exporter": "python",
      "pygments_lexer": "ipython3",
      "version": "3.7.6"
    }
  },
  "nbformat": 4,
  "nbformat_minor": 0
}