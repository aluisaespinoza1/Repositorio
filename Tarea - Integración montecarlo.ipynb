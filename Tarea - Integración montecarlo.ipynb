{
 "cells": [
  {
   "cell_type": "markdown",
   "metadata": {},
   "source": [
    "# TAREA"
   ]
  },
  {
   "cell_type": "markdown",
   "metadata": {},
   "source": [
    "## Integración Montecarlo"
   ]
  },
  {
   "cell_type": "markdown",
   "metadata": {},
   "source": [
    "1. Realizar las siguientes integrales. Poner los resultados en una tabla cuyas filas correspondan a la cantidad de términos utilizados en la aproximación (usar 10, 100, 1000, 10000 y 100000 términos) y cuyas columnas correspondan a las funciones.\n",
    "    + $\\int_{1}^{3} e^{x}\\log(x)\\text{d}x$.\n",
    "    + $\\int_1^3 \\sin(x)\\ln(x) \\text{d}x$"
   ]
  },
  {
   "cell_type": "code",
   "execution_count": 1,
   "metadata": {},
   "outputs": [],
   "source": [
    "\n",
    "import numpy as np\n",
    "import pandas as pd"
   ]
  },
  {
   "cell_type": "code",
   "execution_count": 2,
   "metadata": {},
   "outputs": [],
   "source": [
    "N=np.logspace(1,5,5)\n",
    "table= pd.DataFrame(columns=[\"aproximacion f1\",\"error f1\"], index=N)"
   ]
  },
  {
   "cell_type": "code",
   "execution_count": 3,
   "metadata": {},
   "outputs": [],
   "source": [
    "def montecarlo(f,N,a,b):\n",
    "    u = np.random.uniform(a,b,N)\n",
    "    return np.mean(f(u)*(b-a))"
   ]
  },
  {
   "cell_type": "code",
   "execution_count": 4,
   "metadata": {},
   "outputs": [],
   "source": [
    "def f(x):\n",
    "    return np.exp(x)*np.log10(x)"
   ]
  },
  {
   "cell_type": "code",
   "execution_count": 5,
   "metadata": {},
   "outputs": [],
   "source": [
    "for i in N:\n",
    "    aprox= montecarlo(f,int(i),1,3)\n",
    "    table.loc[i,\"aproximacion f1\"] = aprox\n",
    "    table.loc[i,\"error f1\"]= (6.09207)-aprox"
   ]
  },
  {
   "cell_type": "code",
   "execution_count": 6,
   "metadata": {},
   "outputs": [],
   "source": [
    "def g(x):\n",
    "    return np.sin(x)*np.log(x)"
   ]
  },
  {
   "cell_type": "code",
   "execution_count": 7,
   "metadata": {},
   "outputs": [],
   "source": [
    "for i in N:\n",
    "    aprox= montecarlo(g,int(i),1,3)\n",
    "    table.loc[i,\"aproximacion f2\"] = aprox\n",
    "    table.loc[i,\"error f2\"]= (0.869844)-aprox"
   ]
  },
  {
   "cell_type": "code",
   "execution_count": 8,
   "metadata": {},
   "outputs": [
    {
     "data": {
      "text/html": [
       "<div>\n",
       "<style scoped>\n",
       "    .dataframe tbody tr th:only-of-type {\n",
       "        vertical-align: middle;\n",
       "    }\n",
       "\n",
       "    .dataframe tbody tr th {\n",
       "        vertical-align: top;\n",
       "    }\n",
       "\n",
       "    .dataframe thead th {\n",
       "        text-align: right;\n",
       "    }\n",
       "</style>\n",
       "<table border=\"1\" class=\"dataframe\">\n",
       "  <thead>\n",
       "    <tr style=\"text-align: right;\">\n",
       "      <th></th>\n",
       "      <th>aproximacion f1</th>\n",
       "      <th>error f1</th>\n",
       "      <th>aproximacion f2</th>\n",
       "      <th>error f2</th>\n",
       "    </tr>\n",
       "  </thead>\n",
       "  <tbody>\n",
       "    <tr>\n",
       "      <th>10.0</th>\n",
       "      <td>5.311388</td>\n",
       "      <td>0.780682</td>\n",
       "      <td>0.909063</td>\n",
       "      <td>-0.039219</td>\n",
       "    </tr>\n",
       "    <tr>\n",
       "      <th>100.0</th>\n",
       "      <td>5.394495</td>\n",
       "      <td>0.697575</td>\n",
       "      <td>0.881358</td>\n",
       "      <td>-0.011514</td>\n",
       "    </tr>\n",
       "    <tr>\n",
       "      <th>1000.0</th>\n",
       "      <td>6.207254</td>\n",
       "      <td>-0.115184</td>\n",
       "      <td>0.872508</td>\n",
       "      <td>-0.002664</td>\n",
       "    </tr>\n",
       "    <tr>\n",
       "      <th>10000.0</th>\n",
       "      <td>6.135162</td>\n",
       "      <td>-0.043092</td>\n",
       "      <td>0.863916</td>\n",
       "      <td>0.005928</td>\n",
       "    </tr>\n",
       "    <tr>\n",
       "      <th>100000.0</th>\n",
       "      <td>6.138234</td>\n",
       "      <td>-0.046164</td>\n",
       "      <td>0.868945</td>\n",
       "      <td>0.000899</td>\n",
       "    </tr>\n",
       "  </tbody>\n",
       "</table>\n",
       "</div>"
      ],
      "text/plain": [
       "         aproximacion f1  error f1  aproximacion f2  error f2\n",
       "10.0            5.311388  0.780682         0.909063 -0.039219\n",
       "100.0           5.394495  0.697575         0.881358 -0.011514\n",
       "1000.0          6.207254 -0.115184         0.872508 -0.002664\n",
       "10000.0         6.135162 -0.043092         0.863916  0.005928\n",
       "100000.0        6.138234 -0.046164         0.868945  0.000899"
      ]
     },
     "execution_count": 8,
     "metadata": {},
     "output_type": "execute_result"
    }
   ],
   "source": [
    "table"
   ]
  },
  {
   "cell_type": "code",
   "execution_count": null,
   "metadata": {},
   "outputs": [],
   "source": []
  },
  {
   "cell_type": "markdown",
   "metadata": {},
   "source": [
    "2. Aproximar el área de la región descrita por\n",
    "\n",
    "$$x^2+2y^2\\leq-2x+8y-7$$\n",
    "\n",
    "Poner los resultados en una tabla cuyas filas correspondan a la cantidad de términos utilizados en la aproximación (usar 10, 100, 1000, 10000 y 100000 términos) y en las columnas el valor de aproximación y el error relativo.\n",
    "\n",
    "Definir unos límites adecuados $a_1$, $b_1$, $a_2$ y $b_2$, para la región $R=\\left[a_1,b_1\\right]\\times\\left[a_2,b_2\\right]$"
   ]
  },
  {
   "cell_type": "code",
   "execution_count": 9,
   "metadata": {},
   "outputs": [],
   "source": [
    "def montecarlo2(region, ax,bx,ay,by,N):\n",
    "    x=np.random.uniform(ax,bx,N)\n",
    "    y=np.random.uniform(ay,by,N)\n",
    "    B=region(x,y)\n",
    "    AR=(bx-ax)*(by-ay)\n",
    "    return np.mean(B)*AR"
   ]
  },
  {
   "cell_type": "code",
   "execution_count": 40,
   "metadata": {},
   "outputs": [],
   "source": [
    "N=np.logspace(1,5,5)\n",
    "tabla= pd.DataFrame(columns=[\"aproximacion\",\"error\"], index=N)"
   ]
  },
  {
   "cell_type": "code",
   "execution_count": 11,
   "metadata": {},
   "outputs": [],
   "source": [
    "\n",
    "def h(x,y):\n",
    "    return ((x**2 + 2*y**2) <= (-2*x + 8*y -7))"
   ]
  },
  {
   "cell_type": "code",
   "execution_count": 17,
   "metadata": {},
   "outputs": [
    {
     "data": {
      "text/html": [
       "<div>\n",
       "<style scoped>\n",
       "    .dataframe tbody tr th:only-of-type {\n",
       "        vertical-align: middle;\n",
       "    }\n",
       "\n",
       "    .dataframe tbody tr th {\n",
       "        vertical-align: top;\n",
       "    }\n",
       "\n",
       "    .dataframe thead th {\n",
       "        text-align: right;\n",
       "    }\n",
       "</style>\n",
       "<table border=\"1\" class=\"dataframe\">\n",
       "  <thead>\n",
       "    <tr style=\"text-align: right;\">\n",
       "      <th></th>\n",
       "      <th>aproximacion</th>\n",
       "      <th>error</th>\n",
       "    </tr>\n",
       "  </thead>\n",
       "  <tbody>\n",
       "    <tr>\n",
       "      <th>10.0</th>\n",
       "      <td>3.0</td>\n",
       "      <td>0.359385</td>\n",
       "    </tr>\n",
       "    <tr>\n",
       "      <th>100.0</th>\n",
       "      <td>4.35</td>\n",
       "      <td>0.071108</td>\n",
       "    </tr>\n",
       "    <tr>\n",
       "      <th>1000.0</th>\n",
       "      <td>4.23</td>\n",
       "      <td>0.096733</td>\n",
       "    </tr>\n",
       "    <tr>\n",
       "      <th>10000.0</th>\n",
       "      <td>4.461</td>\n",
       "      <td>0.047406</td>\n",
       "    </tr>\n",
       "    <tr>\n",
       "      <th>100000.0</th>\n",
       "      <td>4.4754</td>\n",
       "      <td>0.044331</td>\n",
       "    </tr>\n",
       "  </tbody>\n",
       "</table>\n",
       "</div>"
      ],
      "text/plain": [
       "         aproximacion     error\n",
       "10.0              3.0  0.359385\n",
       "100.0            4.35  0.071108\n",
       "1000.0           4.23  0.096733\n",
       "10000.0         4.461  0.047406\n",
       "100000.0       4.4754  0.044331"
      ]
     },
     "execution_count": 17,
     "metadata": {},
     "output_type": "execute_result"
    }
   ],
   "source": [
    "for i in N:\n",
    "    aprox=montecarlo2(h,-2.5,2.5,0.5,3.5,int(i))\n",
    "    tabla.loc[i,\"aproximacion\"] = aprox\n",
    "    tabla.loc[i,\"error\"]= ((4.683)-aprox)/4.683\n",
    "tabla"
   ]
  },
  {
   "cell_type": "code",
   "execution_count": null,
   "metadata": {},
   "outputs": [],
   "source": []
  },
  {
   "cell_type": "markdown",
   "metadata": {},
   "source": [
    "3. Describe 3 casos de uso de integración Montecarlo en tu ingeniería."
   ]
  },
  {
   "cell_type": "markdown",
   "metadata": {},
   "source": [
    "1. Ayuda a estimar el precio de las opciones que cotizan en la bolsa; estos contratos futuros garantizan un precio de compra o venta en el futuro, y debido a que el valor del dinero en el tiempo es variable, el precio se tiene que ajusar a uno que beneficie a ambas partes en cualquier escenario. El comportamiento de estos activos financieros se puede modelar con el cálculo estocástico\n",
    "\n",
    "    - Glasserman, P. (2004). Monte Carlo methods in financial engineering. Springer Science & Business Media"
   ]
  },
  {
   "cell_type": "markdown",
   "metadata": {},
   "source": [
    "2. Con la inegración montecarlo se puede simular el comportamiento de los precios de los activos y esto sirve para calcular el riesgo en un portafolio de inversión y optimizar la distribución de los activos financieros en un portafolio.\n",
    "    - Hull, J. C., & White, A. (2012). Risk management and financial institutions. John Wiley & Sons."
   ]
  },
  {
   "cell_type": "markdown",
   "metadata": {},
   "source": [
    "3. Simulación de precios a futuro y evaluación de rentabilidad de proyectos. Cómo se mencionó previamente, con la integración montecarlo se puede modelar escenarios futuros con los precios de un activo financiero y con estos datos se pueden simular proyecciones del precio de acciones de un proyecto, empresa, etc.\n",
    "    - Longstaff, F. A., & Schwartz, E. S. (2001). Valuing American options by simulation: A simple least-squares approach. The review of financial studies, 14(1), 113-147.\n",
    " "
   ]
  },
  {
   "cell_type": "code",
   "execution_count": null,
   "metadata": {},
   "outputs": [],
   "source": []
  }
 ],
 "metadata": {
  "kernelspec": {
   "display_name": "Python 3 (ipykernel)",
   "language": "python",
   "name": "python3"
  },
  "language_info": {
   "codemirror_mode": {
    "name": "ipython",
    "version": 3
   },
   "file_extension": ".py",
   "mimetype": "text/x-python",
   "name": "python",
   "nbconvert_exporter": "python",
   "pygments_lexer": "ipython3",
   "version": "3.9.12"
  }
 },
 "nbformat": 4,
 "nbformat_minor": 2
}
